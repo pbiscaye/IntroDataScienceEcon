{
 "cells": [
  {
   "cell_type": "markdown",
   "metadata": {},
   "source": [
    "# Section 2. More Basics of Python"
   ]
  },
  {
   "cell_type": "markdown",
   "metadata": {},
   "source": [
    "#### 2025 Spring Semester / Instructor: Pierre Biscaye\n",
    "\n",
    "The content of this notebook draws on material from UC Berkeley's D-Lab Python Fundamentals [course](https://github.com/dlab-berkeley/Python-Fundamentals).\n",
    "\n",
    "### Sections\n",
    "1. Functions and methods\n",
    "2. Loops \n",
    "3. Conditionals  and list comprehension\n",
    "4. Writing functions"
   ]
  },
  {
   "cell_type": "markdown",
   "metadata": {},
   "source": [
    "# 1. Functions and methods\n",
    "\n",
    "You've been using **functions** like `print()` and `type()`, to carry out common tasks with data and variables.\n",
    "\n",
    "Functions can be recognized by their trailing parentheses `()`. The data you want to apply the function to goes inside those parentheses.\n",
    "\n",
    "You can even wrap functions into one another. This is called **nesting**. The output of the inner function will become the input of the outer function. Like this:"
   ]
  },
  {
   "cell_type": "code",
   "execution_count": null,
   "metadata": {},
   "outputs": [],
   "source": [
    "type(round(3.5))"
   ]
  },
  {
   "cell_type": "markdown",
   "metadata": {},
   "source": [
    "**Arguments** are information that goes into a function. The order of arguments matters if we do not specify the so-called **keywords**. For instance, let's see the documentation of the `round()` function:"
   ]
  },
  {
   "cell_type": "code",
   "execution_count": null,
   "metadata": {},
   "outputs": [],
   "source": [
    "?round"
   ]
  },
  {
   "cell_type": "markdown",
   "metadata": {},
   "source": [
    "The **keywords** are the parameter names in between the brackets before the `=` sign. In this case, these are `number` and `ndigits`.\n",
    "\n",
    "We can't just reverse the order of the arguments in `round()`: this will result in an error."
   ]
  },
  {
   "cell_type": "code",
   "execution_count": null,
   "metadata": {},
   "outputs": [],
   "source": [
    "# This works\n",
    "round(3.0003, 4)"
   ]
  },
  {
   "cell_type": "code",
   "execution_count": null,
   "metadata": {},
   "outputs": [],
   "source": [
    "# This doesn't\n",
    "round(2, 3.0003)"
   ]
  },
  {
   "cell_type": "code",
   "execution_count": null,
   "metadata": {},
   "outputs": [],
   "source": [
    "# However, if we specify the keywords that we can find in the documentation, we can use any order we want.\n",
    "round(ndigits=2, number=3.0003)"
   ]
  },
  {
   "cell_type": "markdown",
   "metadata": {},
   "source": [
    "**Warning**: If you start by specifying a keyword for one argument when calling the function, you need to specify the keywords for all arguments that do not have default values! "
   ]
  },
  {
   "cell_type": "code",
   "execution_count": null,
   "metadata": {},
   "outputs": [],
   "source": [
    "def divide(numerator, denominator, r=10):\n",
    "    return round(numerator / denominator, r)"
   ]
  },
  {
   "cell_type": "markdown",
   "metadata": {},
   "source": [
    "**Practice**: Given the above function definition and knowing that 17/3=5.6666666(repeated), what do you think the following code cells will return? Which line will return an error?"
   ]
  },
  {
   "cell_type": "code",
   "execution_count": null,
   "metadata": {},
   "outputs": [],
   "source": [
    "divide(17,3,3)"
   ]
  },
  {
   "cell_type": "code",
   "execution_count": null,
   "metadata": {},
   "outputs": [],
   "source": [
    "divide(denominator=3, r=2, numerator=17)"
   ]
  },
  {
   "cell_type": "code",
   "execution_count": null,
   "metadata": {},
   "outputs": [],
   "source": [
    "divide(numerator=17,3,2)"
   ]
  },
  {
   "cell_type": "code",
   "execution_count": null,
   "metadata": {},
   "outputs": [],
   "source": [
    "divide(17,denominator=3,r=4)"
   ]
  },
  {
   "cell_type": "markdown",
   "metadata": {},
   "source": [
    "Functions may have default values for some arguments.\n",
    "\n",
    "*   `round` will round off a floating-point number. This is shown in the documentation above: `ndigits=None`.\n",
    "*   By default, rounds to zero decimal places.\n",
    "*   The `divide` function we created above has a default of rounding the result to 10 decimal places."
   ]
  },
  {
   "cell_type": "code",
   "execution_count": null,
   "metadata": {},
   "outputs": [],
   "source": [
    "divide(17,3)"
   ]
  },
  {
   "cell_type": "markdown",
   "metadata": {},
   "source": [
    "Commonly-used built-in functions include `max`, `min`, and `round`.\n",
    "\n",
    "*   Use `max` to find the largest value of one or more values.\n",
    "*   Use `min` to find the smallest.\n",
    "*   Both work on character strings as well as numbers.\n",
    "    *   \"Larger\" and \"smaller\" use (0-9, A-Z, a-z) to compare letters."
   ]
  },
  {
   "cell_type": "code",
   "execution_count": null,
   "metadata": {},
   "outputs": [],
   "source": [
    "print(max(1, 2, 3))\n",
    "print(min('a', 'A', '0'))\n",
    "print(min('a', 'A'))\n",
    "print(min('a', 'b'))\n",
    "print(min('1a', '1A'))"
   ]
  },
  {
   "cell_type": "markdown",
   "metadata": {},
   "source": [
    "* Every function returns something.\n",
    "* If the function doesn't have a useful result to return,\n",
    "  it usually returns the special value `None`."
   ]
  },
  {
   "cell_type": "code",
   "execution_count": null,
   "metadata": {},
   "outputs": [],
   "source": [
    "result = print('example')\n",
    "print('result of print is', result)"
   ]
  },
  {
   "cell_type": "markdown",
   "metadata": {},
   "source": [
    "### Difference between Function, Method, Object\n",
    "  \n",
    "A **function** is a piece of code that is called by name. It can be passed data to operate on (ie. the parameters) and can optionally return data (the return value).\n",
    "\n",
    "A **method** is a function which is tied to a particular object. Each of an object's methods typically implements one of the things it can do, or one of the questions it can answer. It is called using the dot notation: e.g. `object.method()`\n",
    "\n",
    "An **object** is a collection of conceptually related grouping of variables (called \"members\") and functions using those variables (called \"methods\"). Every object is an instance of a `class`, which is like a blueprint for an object. \n",
    "\n",
    "  - Everything that exists is an object.\n",
    "  - Everything that happens is a function call."
   ]
  },
  {
   "cell_type": "markdown",
   "metadata": {},
   "source": [
    "### Methods\n",
    "\n",
    "A **method** is a special type of function: one that belongs to a **particular type of object**, like a string or an integer. Methods allow you to do different things with different objects.\n",
    "\n",
    "For instance, we can use a method to turn a string variable into lowercase or uppercase. These lowercase and uppercase methods don't exist for integers, though. That's why we call them methods instead of functions – and why we access them in a different way.\n",
    "\n",
    "You can access (and recognize) methods through **dot notation**. It looks like this: `variable.method()`\n",
    "\n",
    "Let's look at the built-in method `upper()`, which can be applied to a string-type variable:"
   ]
  },
  {
   "cell_type": "code",
   "execution_count": null,
   "metadata": {},
   "outputs": [],
   "source": [
    "country = 'France'\n",
    "country.upper()"
   ]
  },
  {
   "cell_type": "markdown",
   "metadata": {},
   "source": [
    "Operations defined on string data. These are called **string methods**. \n",
    "\n",
    "IPython lets you do tab-completion after a dot ('.') to see what methods an object (i.e., a defined variable) has to offer. Try it now!"
   ]
  },
  {
   "cell_type": "code",
   "execution_count": null,
   "metadata": {},
   "outputs": [],
   "source": [
    "str."
   ]
  },
  {
   "cell_type": "code",
   "execution_count": null,
   "metadata": {},
   "outputs": [],
   "source": [
    "full_name='Pierre Biscaye'\n",
    "str.count?\n",
    "print(full_name.count('B'))\n",
    "print(full_name.count('r'))"
   ]
  },
  {
   "cell_type": "code",
   "execution_count": null,
   "metadata": {},
   "outputs": [],
   "source": [
    "str.upper?"
   ]
  },
  {
   "cell_type": "code",
   "execution_count": null,
   "metadata": {},
   "outputs": [],
   "source": [
    "full_name.upper()"
   ]
  },
  {
   "cell_type": "code",
   "execution_count": null,
   "metadata": {},
   "outputs": [],
   "source": [
    "# List of methods and attributes\n",
    "# Attributes are like characteristics of an object. \n",
    "# Methods are like things we can do to an object\n",
    "dir(full_name)"
   ]
  },
  {
   "cell_type": "code",
   "execution_count": null,
   "metadata": {},
   "outputs": [],
   "source": [
    "# Join is another string methods\n",
    "str.join?"
   ]
  },
  {
   "cell_type": "code",
   "execution_count": null,
   "metadata": {},
   "outputs": [],
   "source": [
    "letters = ['b', 'o', 'n', 'j', 'o', 'u', 'r']\n",
    "print(''.join(letters))\n",
    "print('O'.join(letters))\n",
    "print('!'.join(full_name))"
   ]
  },
  {
   "cell_type": "code",
   "execution_count": null,
   "metadata": {},
   "outputs": [],
   "source": [
    "# Practice! Explore one or two more string methods for the list above \n",
    "# type str.method? to read about the method\n",
    "# Then try it out below"
   ]
  },
  {
   "cell_type": "markdown",
   "metadata": {},
   "source": [
    "### Other types have different attributes and methods."
   ]
  },
  {
   "cell_type": "code",
   "execution_count": null,
   "metadata": {},
   "outputs": [],
   "source": [
    "a=[1,2,3]\n",
    "print(type(a))\n",
    "dir(a)"
   ]
  },
  {
   "cell_type": "code",
   "execution_count": null,
   "metadata": {},
   "outputs": [],
   "source": [
    "print(a)\n",
    "a.append(5) # add an element to the end of the list\n",
    "a.reverse() # reverse the order of the list\n",
    "print(a)"
   ]
  },
  {
   "cell_type": "code",
   "execution_count": null,
   "metadata": {},
   "outputs": [],
   "source": [
    "# Use .extend to add multiple values\n",
    "b=['1','2','3','Go!']\n",
    "b.extend([2,3,4])\n",
    "b"
   ]
  },
  {
   "cell_type": "code",
   "execution_count": null,
   "metadata": {},
   "outputs": [],
   "source": [
    "# Append and extend do different things\n",
    "pantry_1 = ['bread', 'pasta', 'beans', 'cereal']\n",
    "pantry_2 = ['bread', 'pasta', 'beans', 'cereal']\n",
    "new_items = ['granola bars', 'cookies']\n",
    "pantry_1.append(new_items)\n",
    "pantry_2.extend(new_items)\n",
    "print('append does this:', pantry_1)\n",
    "print('extend does this:', pantry_2)"
   ]
  },
  {
   "cell_type": "markdown",
   "metadata": {},
   "source": [
    "Now use the `join` method to make one string with all the names from the second extended list of foods.\n",
    "\n",
    "We will use `'\\n'` to print each name on a separate line."
   ]
  },
  {
   "cell_type": "code",
   "execution_count": null,
   "metadata": {},
   "outputs": [],
   "source": [
    "print('\\n'.join(pantry_2))"
   ]
  },
  {
   "cell_type": "code",
   "execution_count": null,
   "metadata": {},
   "outputs": [],
   "source": [
    "# Another join:\n",
    "print('Our grocery list includes: ', ', '.join(pantry_2))"
   ]
  },
  {
   "cell_type": "code",
   "execution_count": null,
   "metadata": {},
   "outputs": [],
   "source": [
    "# Practice more list methods\n",
    "# Look over the list from calling dir(a) above\n",
    "# Call list.method? to read about what the method does\n",
    "# Use the method one of the lists we just created, or on a new list you create\n"
   ]
  },
  {
   "cell_type": "markdown",
   "metadata": {},
   "source": [
    "## Recap\n",
    "\n",
    "**Variables** are names attached to particular values.\n",
    "* To create a variable, you assign it a value and then start using it.\n",
    "* Assignment is done with a single equals sign `=`.\n",
    "* When we write `n = 300`, we are assigning 300 to the variable `n` via the assignment operator `=`.\n",
    "\n",
    "**Data types** are classifications of data. \n",
    "* There are a lot of data types in Python, such as integers (`int`) and strings (`str`).\n",
    "* Some data types are called **data structures** because they allow us to organize data. Lists (`list`) and dictionaries (`dict`) are two examples.\n",
    "* You can index a list using square brackets, for instance `some_list[0]` to get the first item from `some_list`.\n",
    "\n",
    "**Functions** perform actions on \"things\".\n",
    "* `print()` `len()`, and `type()` are some of the most commonly used functions.\n",
    "* You can identify a function by its trailing round parentheses.  \n",
    "\n",
    "**Arguments** are the \"things\" we perform the action on within a function.\n",
    "* Arguments go inside the trailing parentheses of functions when we call them. \n",
    "* For instance, in `print('CERDI')`, the string `CERDI` is an argument.\n",
    "* Arguments are also called inputs or **parameters**.\n",
    "\n",
    "**Methods** are type-specific functions.\n",
    "* Different data types and structures have functions that only apply to them.\n",
    "* For instance, strings have methods that only apply to them (lowercasing, uppercasing, etc.) that won't work with other data types.\n",
    "* Methods are accessed using dot notation – for instance, `some_string.lower()` to lowercase a string."
   ]
  },
  {
   "cell_type": "markdown",
   "metadata": {},
   "source": [
    "### Key Points:\n",
    "- \"A function may take zero or more arguments.\"\n",
    "- \"Commonly-used built-in functions include `max`, `min`, and `round`.\"\n",
    "- \"Functions may only work for certain (combinations of) arguments.\"\n",
    "- \"Functions may have default values for some arguments.\"\n",
    "- \"Use the built-in function `help` or the question mark ? to get help for a function.\"\n",
    "- \"Every function returns something.\"\n",
    "- \"Methods are functions that are specific to certain data types, and are accessed using dot notation.\""
   ]
  },
  {
   "cell_type": "markdown",
   "metadata": {},
   "source": [
    "# 2. Loops"
   ]
  },
  {
   "cell_type": "markdown",
   "metadata": {},
   "source": [
    "### A *for loop* executes commands once for each value in a collection.\n",
    "\n",
    "*   Doing calculations on the values in a list one by one\n",
    "    is as painful, time consuming, and takes up a lot of code space\n",
    "*   A *for loop* tells Python to execute some statements once for each value in a list,\n",
    "    a character string, or some other collection.\n",
    "*   \"for each thing in this group, do these operations\"\n",
    "\n",
    "\n"
   ]
  },
  {
   "cell_type": "code",
   "execution_count": null,
   "metadata": {},
   "outputs": [],
   "source": [
    "for number in [2, 3, 5]:\n",
    "    print(number)"
   ]
  },
  {
   "cell_type": "code",
   "execution_count": null,
   "metadata": {},
   "outputs": [],
   "source": [
    "# This is equivalent to\n",
    "print(2)\n",
    "print(3)\n",
    "print(5)"
   ]
  },
  {
   "cell_type": "markdown",
   "metadata": {},
   "source": [
    "### The first line of the `for` loop must end with a colon, and the body must be indented.\n",
    "\n",
    "*   The colon at the end of the first line signals the start of a *block* of statements.\n",
    "*   Python uses indentation rather than `{}` or `begin`/`end` to show *nesting*.\n",
    "    *   Any consistent indentation is legal, but almost everyone uses four spaces (or one tab)."
   ]
  },
  {
   "cell_type": "code",
   "execution_count": null,
   "metadata": {},
   "outputs": [],
   "source": [
    "for number in [2, 3, 5]:\n",
    "print(number)"
   ]
  },
  {
   "cell_type": "markdown",
   "metadata": {},
   "source": [
    "### A `for` loop is made up of a collection, a loop variable, and a body.\n",
    "\n",
    "`for number in [2, 3, 5]:\n",
    "    print(number)`\n",
    "\n",
    "*   The collection, `[2, 3, 5]`, is what the loop is being run on.\n",
    "*   The body, `print(number)`, specifies what to do for each value in the collection.\n",
    "*   The loop variable, `number`, is what changes for each *iteration* of the loop.\n",
    "    *   The \"current thing\".\n",
    "\n",
    "### Loop variables can be called anything!!!\n",
    "\n",
    "*   As with all variables, loop variables are:\n",
    "    *   Created on demand.\n",
    "    *   Meaningless: their names can be anything at all.\n",
    "    *   Placeholders for the loop"
   ]
  },
  {
   "cell_type": "code",
   "execution_count": null,
   "metadata": {},
   "outputs": [],
   "source": [
    "for kitten in [2, 3, 5]:\n",
    "    print(kitten)"
   ]
  },
  {
   "cell_type": "markdown",
   "metadata": {},
   "source": [
    "### The body of a loop can contain many statements.\n",
    "\n",
    "*   Useful for complex code when doing many operations on a set. \n",
    "*   But try to keep it simple: it is hard for human beings to keep larger chunks of code in mind."
   ]
  },
  {
   "cell_type": "code",
   "execution_count": null,
   "metadata": {},
   "outputs": [],
   "source": [
    "primes = [2, 3, 5]\n",
    "for p in primes:\n",
    "    squared = p ** 2\n",
    "    cubed = p ** 3\n",
    "    print(p, squared, cubed)"
   ]
  },
  {
   "cell_type": "markdown",
   "metadata": {},
   "source": [
    "### Use `range` to iterate over a sequence of numbers.\n",
    "\n",
    "*   The built-in function `range` produces a *sequence* of numbers.\n",
    "    *   *Not* a list: the numbers are produced on demand\n",
    "        to make looping over large ranges more efficient.\n",
    "*   `range(N)` is the numbers 0..N-1\n",
    "    *   Exactly the legal indices of a list or character [string](https://github.com/dlab-berkeley/python-intensive/blob/master/Glossary.md#string) of length N"
   ]
  },
  {
   "cell_type": "code",
   "execution_count": null,
   "metadata": {},
   "outputs": [],
   "source": [
    "print('a range is not a list:', range(3))\n",
    "for number in range(3,8):\n",
    "    print(number)"
   ]
  },
  {
   "cell_type": "markdown",
   "metadata": {},
   "source": [
    "### The Accumulator pattern turns many values into one.\n",
    "\n",
    "*   A common pattern in programs is to:\n",
    "    1.  Initialize an *accumulator* variable to zero, the empty string, or the empty list.\n",
    "    2.  Update the variable with values from a collection.\n",
    "    \n",
    "If only one argument is given to `range`, the minimum will default to 0. But two arguments may also be given:"
   ]
  },
  {
   "cell_type": "code",
   "execution_count": null,
   "metadata": {},
   "outputs": [],
   "source": [
    "# Sum the first 10 integers.\n",
    "total = 0\n",
    "for number in range(1, 11): # start at one, end at 10\n",
    "    total = total + number\n",
    "print(total)"
   ]
  },
  {
   "cell_type": "markdown",
   "metadata": {},
   "source": [
    "*   Read `total = total + number` as:\n",
    "    *   Add the current value of the *loop variable* `number` to the current value of the accumulator variable `total`.\n",
    "    *   Assign this new value to `total`, replacing the current value.\n",
    "    \n",
    "Instead of writing `total = total + number`, this can be simplified to `total += number`. This will reassign total to the current value of total plus the current value of number:"
   ]
  },
  {
   "cell_type": "markdown",
   "metadata": {},
   "source": [
    "**Practice**: write a for loop that gives you the sum of the squares of the numbers from 0 to 10, and print that total. \n",
    "*Hint:* Use an accumulator and the `range()` function."
   ]
  },
  {
   "cell_type": "code",
   "execution_count": null,
   "metadata": {},
   "outputs": [],
   "source": [
    "# Code here"
   ]
  },
  {
   "cell_type": "markdown",
   "metadata": {},
   "source": [
    "*****\n",
    "# Keypoints:\n",
    "- \"A *for loop* executes commands once for each value in a collection.\"\n",
    "- \"The first line of the `for` loop must end with a colon, and the body must be indented.\"\n",
    "- \"A `for` loop is made up of a collection, a loop variable, and a body.\"\n",
    "- \"Loop variables can be called anything.\"\n",
    "- \"The body of a loop can contain many statements.\"\n",
    "- \"Use `range` to iterate over a sequence of numbers.\"\n",
    "- \"The Accumulator pattern turns many values into one.\""
   ]
  },
  {
   "cell_type": "markdown",
   "metadata": {},
   "source": [
    "**Tip**: You might also encounter **[while loops](https://www.w3schools.com/python/python_while_loops.asp)**. A while loop says: \"*while* Condition A is true, *do* these operations\". We don't use these loops frequently in this type of programming so we won't cover them here.\n",
    "\n",
    "Here is an example of a while loop."
   ]
  },
  {
   "cell_type": "code",
   "execution_count": null,
   "metadata": {},
   "outputs": [],
   "source": [
    "for n in range(10):\n",
    "    while n<5:\n",
    "        print(n)\n",
    "        n += 1"
   ]
  },
  {
   "cell_type": "markdown",
   "metadata": {},
   "source": [
    "*Incrementing* is important here! Otherwise the loop will continue forever. (Why?)"
   ]
  },
  {
   "cell_type": "code",
   "execution_count": null,
   "metadata": {},
   "outputs": [],
   "source": [
    "for n in range(10):\n",
    "    while n<5:\n",
    "        print(n)"
   ]
  },
  {
   "cell_type": "markdown",
   "metadata": {},
   "source": [
    "You can sometimes achieve similar objectives with conditionals rather than a `while` loop."
   ]
  },
  {
   "cell_type": "markdown",
   "metadata": {},
   "source": [
    "# 3. Conditionals"
   ]
  },
  {
   "cell_type": "markdown",
   "metadata": {},
   "source": [
    "### `bool` data type\n",
    "\n",
    "A *Boolean* variable is one that can take the values of either `True` or `False`. They are used to indicate the presence or absence of a certain condition. You can test the value of a variable and a *Boolean* value will be returned. In Python, `bool` is the data type for *Boolean* values."
   ]
  },
  {
   "cell_type": "code",
   "execution_count": null,
   "metadata": {},
   "outputs": [],
   "source": [
    "type(True)"
   ]
  },
  {
   "cell_type": "code",
   "execution_count": null,
   "metadata": {},
   "outputs": [],
   "source": [
    "5 > 6"
   ]
  },
  {
   "cell_type": "markdown",
   "metadata": {},
   "source": [
    "### Use `if` statements to control whether or not a block of code is executed.\n",
    "\n",
    "*   An `if` statement (more properly called a *conditional* statement)\n",
    "    controls whether some block of code is executed or not.\n",
    "*   Structure is similar to a `for` statement:\n",
    "    *   First line opens with `if`, contains a *Boolean* variable or expression, and ends with a colon\n",
    "    *   Body containing one or more statements is indented (usually by 4 spaces)\n"
   ]
  },
  {
   "cell_type": "code",
   "execution_count": null,
   "metadata": {},
   "outputs": [],
   "source": [
    "num = 105\n",
    "if num > 100:\n",
    "    print(num, 'is high')\n",
    "\n",
    "num = 80\n",
    "if num > 100:\n",
    "    print(num, 'is high')"
   ]
  },
  {
   "cell_type": "markdown",
   "metadata": {},
   "source": [
    "\n",
    "### Conditionals are often used inside loops.\n",
    "\n",
    "*   Not much point using a conditional when we know the value (as above).\n",
    "*   But useful when we have a collection to process."
   ]
  },
  {
   "cell_type": "code",
   "execution_count": null,
   "metadata": {},
   "outputs": [],
   "source": [
    "num = [20, 43, 12, 88, 97]\n",
    "for number in num:\n",
    "    if number > 50:\n",
    "        print(number, 'is high')"
   ]
  },
  {
   "cell_type": "code",
   "execution_count": null,
   "metadata": {},
   "outputs": [],
   "source": [
    "type(20)"
   ]
  },
  {
   "cell_type": "code",
   "execution_count": null,
   "metadata": {},
   "outputs": [],
   "source": [
    "total = 0\n",
    "num = [20, 'a', 12, 'b', 97]\n",
    "for number in num:\n",
    "    if type(number) == int:\n",
    "        total = total + number\n",
    "print(total)"
   ]
  },
  {
   "cell_type": "markdown",
   "metadata": {},
   "source": [
    "### Use `else` to execute a block of code when an `if` condition is *not* true.\n",
    "\n",
    "*   `else` is always attached to `if`.\n",
    "*   Allows us to specify an alternative to execute when the `if` *branch* isn't taken.\n"
   ]
  },
  {
   "cell_type": "code",
   "execution_count": null,
   "metadata": {},
   "outputs": [],
   "source": [
    "num = [20, 43, 12, 88, 97]\n",
    "for number in num:\n",
    "    if number > 50:\n",
    "        print(number, 'is high')\n",
    "    else:\n",
    "        print(number, 'is not high')"
   ]
  },
  {
   "cell_type": "markdown",
   "metadata": {},
   "source": [
    "### Use `elif` to specify additional tests.\n",
    "\n",
    "*   May want to provide several alternative choices, each with its own test.\n",
    "*   Use `elif` (short for \"else if\") and a condition to specify these.\n",
    "*   Always associated with an `if`.\n",
    "*   Must come before the `else` (which is the \"catch all\")."
   ]
  },
  {
   "cell_type": "code",
   "execution_count": null,
   "metadata": {},
   "outputs": [],
   "source": [
    "num = [20, 43, 12, 88, 97]\n",
    "for number in num:\n",
    "    if number > 50:\n",
    "        print(number, 'is high')\n",
    "    elif number > 25:\n",
    "        print(number, 'is medium')\n",
    "    else:\n",
    "        print(number, 'is low')"
   ]
  },
  {
   "cell_type": "markdown",
   "metadata": {},
   "source": [
    "### Use boolean operators to make complex statements\n",
    "\n",
    "I can also generate more complex conditional statements with boolean operators\n",
    "like **and** and **or**, and use comparators like \"<\", \">\""
   ]
  },
  {
   "cell_type": "code",
   "execution_count": null,
   "metadata": {},
   "outputs": [],
   "source": [
    "ages = [20, 43, 12, 88, 97]\n",
    "for age in ages:\n",
    "    if age > 65 or age < 16:\n",
    "        print(age, 'is outside the labor force')\n",
    "    else:\n",
    "        print(age, 'is in the labor force')"
   ]
  },
  {
   "cell_type": "code",
   "execution_count": null,
   "metadata": {},
   "outputs": [],
   "source": [
    "total = 0\n",
    "num = [20, 'a', 12, 'b', 97]\n",
    "for number in num:\n",
    "    if (type(number) == int and number>15):\n",
    "        total = total + number\n",
    "print(total)"
   ]
  },
  {
   "cell_type": "markdown",
   "metadata": {},
   "source": [
    "If we want the condition to test whether two things are the same, then we use two equals signs: `==`"
   ]
  },
  {
   "cell_type": "code",
   "execution_count": null,
   "metadata": {},
   "outputs": [],
   "source": [
    "words = ['bears', 'dogs', 'beets', 'hot dogs', 'battlestar galacticta', 'isle of dogs']\n",
    "\n",
    "for word in words:\n",
    "    if word[0] == 'b':\n",
    "        print(word + ' starts with \"b\"!')\n",
    "print(string)"
   ]
  },
  {
   "cell_type": "markdown",
   "metadata": {},
   "source": [
    "If we want our block of code to only run if two things are **not** the same, then we use an exclamation point: `!=`"
   ]
  },
  {
   "cell_type": "code",
   "execution_count": null,
   "metadata": {},
   "outputs": [],
   "source": [
    "for word in words:\n",
    "    if word[0] != 'b':\n",
    "        print(word + ' starts with something else!')"
   ]
  },
  {
   "cell_type": "markdown",
   "metadata": {},
   "source": [
    "### Conditions are tested once, in order.\n",
    "\n",
    "*   Python steps through the branches of the conditional in order, testing each in turn.\n",
    "*   So ordering matters."
   ]
  },
  {
   "cell_type": "code",
   "execution_count": null,
   "metadata": {},
   "outputs": [],
   "source": [
    "grade = 85\n",
    "if grade >= 70:\n",
    "    print('grade is C')\n",
    "elif grade >= 80:\n",
    "    print('grade is B')\n",
    "elif grade >= 90:\n",
    "    print('grade is A')"
   ]
  },
  {
   "cell_type": "markdown",
   "metadata": {},
   "source": [
    "*   Conditionals do *not* automatically go back and re-evaluate if values change."
   ]
  },
  {
   "cell_type": "code",
   "execution_count": null,
   "metadata": {},
   "outputs": [],
   "source": [
    "population = 10000\n",
    "if population > 200000:\n",
    "    print('large city')\n",
    "else:\n",
    "    print('small city')\n",
    "    population = 500000"
   ]
  },
  {
   "cell_type": "markdown",
   "metadata": {},
   "source": [
    "**Practice:** Using the list `words` and an accumulator variable, write a loop with a conditional that identifies all the words that include the letter 'o' and adds them to a string which capitalizes the words and separates them by '! '. Then, print that string.\n",
    "\n",
    "*Hint:* Start by looking at `str.rfind?`."
   ]
  },
  {
   "cell_type": "code",
   "execution_count": null,
   "metadata": {},
   "outputs": [],
   "source": [
    "# Code here"
   ]
  },
  {
   "cell_type": "markdown",
   "metadata": {
    "collapsed": true,
    "jupyter": {
     "outputs_hidden": true
    }
   },
   "source": [
    "*****\n",
    "\n",
    "## Keypoints\n",
    "\n",
    "1. Use `if` statements to control whether or not a block of code is executed.\n",
    "2. Conditionals are often used inside loops.\n",
    "3. Use `else` to execute a block of code when an `if` condition is *not* true.\n",
    "4. Use `elif` to specify additional tests.\n",
    "5. Use boolean operators to make complex statements.\n",
    "6. Conditions are tested once, in order."
   ]
  },
  {
   "cell_type": "markdown",
   "metadata": {},
   "source": [
    "### List Comprehensions are another way of doing loops with accumulation\n",
    "\n",
    "- First, let's look at how we would create a \"transformed\" version of a list with loops and the \"accumulation\" pattern."
   ]
  },
  {
   "cell_type": "code",
   "execution_count": null,
   "metadata": {},
   "outputs": [],
   "source": [
    "# Multiply every number in a list by 2 using a for loop\n",
    "nums1 = [5, 1, 3, 10]\n",
    "nums2 = []\n",
    "for x in nums1:\n",
    "    nums2.append(x * 2)\n",
    "    \n",
    "print(nums2)"
   ]
  },
  {
   "cell_type": "markdown",
   "metadata": {},
   "source": [
    "- Python has another way to perform iteration called `list comprehensions`, which is shorter and more compact.\n",
    "- The syntax is `newlist = [[what you do to elements in old list] for element in oldlist]`."
   ]
  },
  {
   "cell_type": "code",
   "execution_count": null,
   "metadata": {},
   "outputs": [],
   "source": [
    "# Multiply every number in a list by 2 using a list comprehension\n",
    "nums2 = [x * 2 for x in nums1]\n",
    "\n",
    "print(nums2)"
   ]
  },
  {
   "cell_type": "markdown",
   "metadata": {},
   "source": [
    "### List comprehensions can incorporate conditional logic\n",
    "\n",
    "- What if we also have some conditional logic?"
   ]
  },
  {
   "cell_type": "code",
   "execution_count": null,
   "metadata": {},
   "outputs": [],
   "source": [
    "# Multiply every number in a list by 2, but only if the number is greater than 4\n",
    "nums1 = [5, 1, 3, 10]\n",
    "nums2 = []\n",
    "for x in nums1:\n",
    "    if x > 4:\n",
    "        nums2.append(x * 2)\n",
    "    \n",
    "print(nums2)"
   ]
  },
  {
   "cell_type": "code",
   "execution_count": null,
   "metadata": {},
   "outputs": [],
   "source": [
    "# And using a list comprehension\n",
    "nums2 = [x * 2 for x in nums1 if x > 4]\n",
    "\n",
    "print(nums2)"
   ]
  },
  {
   "cell_type": "markdown",
   "metadata": {},
   "source": [
    "There are several advantages to list comprehensions, most obvious being cleaner, more readable code. List comprehensions also save variable name space if you are looking to modify elements in a list. Less obvious is that list comprehensions are actually calculated faster than `for` loops!"
   ]
  },
  {
   "cell_type": "markdown",
   "metadata": {},
   "source": [
    "# 4. Writing Functions"
   ]
  },
  {
   "cell_type": "markdown",
   "metadata": {},
   "source": [
    "### Functions are the basic building blocks of programs.\n",
    "\n",
    "* Functions are the basic building blocks that we use to store chunks of code we'll want to use again later. \n",
    "* Specifically, they do three things:\n",
    "    1. They name pieces of code the way variables name strings and numbers.\n",
    "    2. They take arguments, or data that you want to do something on.\n",
    "    3. Using 1 and 2 they let you make your own \"mini-scripts\" or \"tiny commands.\"\n",
    "* The details are pretty simple, but this is one of those ideas where it's good to get lots of practice!\n",
    "    \n",
    "\n",
    "### Define a function using `def` with a name, parameters, and a block of code.\n",
    "\n",
    "*   Begin the definition of a new function with `def`.\n",
    "*   Followed by the name of the function.\n",
    "    *   Must obey the same rules as variable names.\n",
    "*   The *parameters* (arguments to specify) are defined in parentheses.\n",
    "    *   Empty parentheses if the function doesn't take any inputs.\n",
    "    *   We will discuss this in detail in a moment.\n",
    "*   Then a colon.\n",
    "*   Then an indented block of code."
   ]
  },
  {
   "cell_type": "code",
   "execution_count": null,
   "metadata": {},
   "outputs": [],
   "source": [
    "def print_greeting():\n",
    "    print('Bonjour!')"
   ]
  },
  {
   "cell_type": "markdown",
   "metadata": {},
   "source": [
    "### Defining a function does not run it!!!\n",
    "\n",
    "*   Defining a function does not run it.\n",
    "    *   Like assigning a value to a variable.\n",
    "*   Must call the function to execute the code it contains.\n"
   ]
  },
  {
   "cell_type": "code",
   "execution_count": null,
   "metadata": {},
   "outputs": [],
   "source": [
    "print_greeting()"
   ]
  },
  {
   "cell_type": "markdown",
   "metadata": {},
   "source": [
    "### Arguments in call are matched to parameters in definition.\n",
    "\n",
    "*   Functions are most useful when they can operate on different data.\n",
    "*   Specify *parameters* when defining a function.\n",
    "    *   These become variables when the function is executed.\n",
    "    *   Are assigned the arguments in the call (i.e., the values passed to the function).\n"
   ]
  },
  {
   "cell_type": "code",
   "execution_count": null,
   "metadata": {},
   "outputs": [],
   "source": [
    "def print_date(year, month, day):\n",
    "    joined = str(day) + '/' + str(month) + '/' + str(year)\n",
    "    print(joined)\n",
    "\n",
    "print_date(1871, 3, 19)"
   ]
  },
  {
   "cell_type": "markdown",
   "metadata": {},
   "source": [
    "*   `()` contains the ingredients for the function\n",
    "    while the body contains the recipe.\n",
    "\n",
    "### Functions may return a result to their caller using `return`.\n",
    "\n",
    "*   Use `return ...` to give one (and only one) value back to the caller.\n",
    "*   May occur anywhere in the function.\n",
    "*   But functions are easier to understand if `return` occurs:\n",
    "    *   At the start to handle special cases.\n",
    "    *   At the very end, with a final result.\n"
   ]
  },
  {
   "cell_type": "code",
   "execution_count": null,
   "metadata": {},
   "outputs": [],
   "source": [
    "def average(values):\n",
    "    if len(values) == 0:\n",
    "        return None\n",
    "    return sum(values) / len(values)"
   ]
  },
  {
   "cell_type": "code",
   "execution_count": null,
   "metadata": {},
   "outputs": [],
   "source": [
    "a = average([1, 3, 4])\n",
    "print('average of actual values:', a)"
   ]
  },
  {
   "cell_type": "code",
   "execution_count": null,
   "metadata": {},
   "outputs": [],
   "source": [
    "print('average of empty list:', average([]))"
   ]
  },
  {
   "cell_type": "markdown",
   "metadata": {},
   "source": [
    "*   Remember: every function returns something. Remember this when writing your own functions.\n",
    "*   A function that doesn't explicitly `return` a value automatically returns `None`.\n"
   ]
  },
  {
   "cell_type": "code",
   "execution_count": null,
   "metadata": {},
   "outputs": [],
   "source": [
    "# what is wrong with this code?\n",
    "result = print_date(1871, 3, 19)\n",
    "print('result of call is:', result)"
   ]
  },
  {
   "cell_type": "markdown",
   "metadata": {},
   "source": [
    "### Functions are an Alternative Reality\n",
    "\n",
    "When you call a function, a temporary workspace is set up that will be destroyed when the function returns by:\n",
    "\n",
    "1. getting to the end, or \n",
    "1. explicity by a `return` statement\n",
    "\n",
    "So think of functions as an alternative reality, whereby variables are created and destroyed in a function call."
   ]
  },
  {
   "cell_type": "code",
   "execution_count": null,
   "metadata": {},
   "outputs": [],
   "source": [
    "# we created a num object earlier\n",
    "del num"
   ]
  },
  {
   "cell_type": "code",
   "execution_count": null,
   "metadata": {},
   "outputs": [],
   "source": [
    "def increment(num):\n",
    "    incremented_num = num + 1\n",
    "    return(incremented_num)"
   ]
  },
  {
   "cell_type": "code",
   "execution_count": null,
   "metadata": {},
   "outputs": [],
   "source": [
    "increment(3)"
   ]
  },
  {
   "cell_type": "markdown",
   "metadata": {},
   "source": [
    "In this temporary environment, the variables in the parameter list (in parentheses in the definition) are set to the values passed in. For example, in `increment(3)`, `num` gets set to `3`. Afterwards, you can't access these variables!"
   ]
  },
  {
   "cell_type": "code",
   "execution_count": null,
   "metadata": {},
   "outputs": [],
   "source": [
    "print(num)"
   ]
  },
  {
   "cell_type": "markdown",
   "metadata": {},
   "source": [
    "In the cell above we get an error because `num` is no longer defined. This is because the `increment(num)` function has already returned (i.e., finished) and so it's temporary scope has been destroyed!"
   ]
  },
  {
   "cell_type": "code",
   "execution_count": null,
   "metadata": {},
   "outputs": [],
   "source": [
    "print(incremented_num)"
   ]
  },
  {
   "cell_type": "markdown",
   "metadata": {},
   "source": [
    "Same with the local variable `incremented_num` that was created within `increment(num)`!"
   ]
  },
  {
   "cell_type": "markdown",
   "metadata": {},
   "source": [
    "### The scope of a variable is the part of a program that can 'see' that variable.\n",
    "\n",
    "Things can get confusing when you use the same names for variables both inside and outside a function. Check out this example:"
   ]
  },
  {
   "cell_type": "code",
   "execution_count": null,
   "metadata": {},
   "outputs": [],
   "source": [
    "temperature = 103.9\n",
    "\n",
    "def far_to_cel(temperature):\n",
    "    \"\"\"\n",
    "    Converts Fahrenheit temperature 'far' to Celsius\n",
    "    \"\"\"\n",
    "    celsius = (temperature - 32) * (5 / 9)\n",
    "    return(celsius)"
   ]
  },
  {
   "cell_type": "code",
   "execution_count": null,
   "metadata": {},
   "outputs": [],
   "source": [
    "print(\"fahrenheit is\", temperature)\n",
    "print(\"celsius is\", celsius)"
   ]
  },
  {
   "cell_type": "markdown",
   "metadata": {},
   "source": [
    "*   `temperature` is a *global variable*.\n",
    "    *   Defined outside any particular function.\n",
    "    *   Visible everywhere.\n",
    "*   `celsius` is a *local variable* in `far_to_cel`.\n",
    "    *   Defined in the function.\n",
    "    *   Not visible in the main program.\n",
    "    *   Remember: a function parameter is a variable\n",
    "        that is automatically assigned a value when the function is called."
   ]
  },
  {
   "cell_type": "markdown",
   "metadata": {},
   "source": [
    "### Gotcha!\n",
    "\n",
    "But once we start using **mutable** data types like lists, things become tricky:"
   ]
  },
  {
   "cell_type": "code",
   "execution_count": null,
   "metadata": {},
   "outputs": [],
   "source": [
    "x = [1, 2, 3, 5]\n",
    "\n",
    "def add_3(val):\n",
    "    val[0] = val[0] + 3\n",
    "    return val\n",
    "\n",
    "add_3(x)"
   ]
  },
  {
   "cell_type": "markdown",
   "metadata": {},
   "source": [
    "Now, our function is modifying the contents of the list, and both variables still point to the same list.\n",
    "\n",
    "So the list `x` refers to *is* modified"
   ]
  },
  {
   "cell_type": "code",
   "execution_count": null,
   "metadata": {},
   "outputs": [],
   "source": [
    "print(x)"
   ]
  },
  {
   "cell_type": "markdown",
   "metadata": {},
   "source": [
    "So, the issue here is our function is no longer changing `val` so that it points at a new \"thing.\" Instead, we're taking the list that `val` points to (the same list `x` points to) and modifying it.\n",
    "\n",
    "Tricky, but important!"
   ]
  },
  {
   "cell_type": "markdown",
   "metadata": {},
   "source": [
    "### Arguments can have defaults\n",
    "\n",
    "Functions do not need to take input."
   ]
  },
  {
   "cell_type": "code",
   "execution_count": null,
   "metadata": {},
   "outputs": [],
   "source": [
    "def print_greeting():\n",
    "    print(\"bonjour\")"
   ]
  },
  {
   "cell_type": "code",
   "execution_count": null,
   "metadata": {},
   "outputs": [],
   "source": [
    "print_greeting()"
   ]
  },
  {
   "cell_type": "markdown",
   "metadata": {},
   "source": [
    "But if a function takes input, arguments can be passed to functions in different ways.\n",
    "\n",
    "1) **Positional arguments** are mandatory and have no default values."
   ]
  },
  {
   "cell_type": "code",
   "execution_count": null,
   "metadata": {},
   "outputs": [],
   "source": [
    "def send(message, recipient):\n",
    "    \"\"\" Prints a \"message\" to the \"recipient\"\n",
    "    The function returns nothing, which defaults to None\"\"\"\n",
    "    print(message, recipient)\n",
    "    \n",
    "send('Bonjour','tout le monde')"
   ]
  },
  {
   "cell_type": "markdown",
   "metadata": {},
   "source": [
    "In the case above, it is possible to use argument names when calling the functions and, doing so, it is possible to switch the order of arguments, calling for instance"
   ]
  },
  {
   "cell_type": "code",
   "execution_count": null,
   "metadata": {},
   "outputs": [],
   "source": [
    "send(recipient='tout le monde', message='Bonjour')"
   ]
  },
  {
   "cell_type": "markdown",
   "metadata": {},
   "source": [
    "But this reduces readability and is unnecessarily verbose, compared to the more straightforward calls to `send('Hello', 'World')`"
   ]
  },
  {
   "cell_type": "markdown",
   "metadata": {},
   "source": [
    "2) **Keyword arguments** are not mandatory and have default values. They are often used for optional parameters sent to the function."
   ]
  },
  {
   "cell_type": "code",
   "execution_count": null,
   "metadata": {},
   "outputs": [],
   "source": [
    "def send(message, recipient, cc=None, bcc=None):\n",
    "    \"\"\" Prints a kind greeting to our input\n",
    "    returns nothing\"\"\"\n",
    "    print(message, recipient)\n",
    "    if cc is not None:\n",
    "        print(\"CC: \", cc)\n",
    "    if bcc is not None:\n",
    "        print(\"BCC: \", bcc)\n",
    "    \n",
    "send('Bonjour','tout le monde')"
   ]
  },
  {
   "cell_type": "markdown",
   "metadata": {},
   "source": [
    "Here cc and bcc are optional, and evaluate to `None` when they are not passed another value."
   ]
  },
  {
   "cell_type": "code",
   "execution_count": null,
   "metadata": {},
   "outputs": [],
   "source": [
    "send('Bonjour','tout le monde', 'ceux qui sont absent', 'maman')"
   ]
  },
  {
   "cell_type": "markdown",
   "metadata": {},
   "source": [
    "To explicitly use only one optional parameter, specify the name of the parameter followed by an equals sign, and the argument value"
   ]
  },
  {
   "cell_type": "code",
   "execution_count": null,
   "metadata": {},
   "outputs": [],
   "source": [
    "send('Bonjour','tout le monde', bcc='maman')"
   ]
  },
  {
   "cell_type": "markdown",
   "metadata": {},
   "source": [
    "But if we don't explicitly state the option parameter to be used, Python will use the order the parameters are specified in the function declaration."
   ]
  },
  {
   "cell_type": "code",
   "execution_count": null,
   "metadata": {},
   "outputs": [],
   "source": [
    "send('Bonjour','tout le monde', 'maman')"
   ]
  },
  {
   "cell_type": "markdown",
   "metadata": {
    "collapsed": true,
    "jupyter": {
     "outputs_hidden": true
    }
   },
   "source": [
    "*****\n",
    "## Keypoints\n",
    "\n",
    "1. Functions are the basic building blocks of programs.\n",
    "2. Define a function using `def` with a name, parameters, and a block of code.\n",
    "3. Defining a function does not run it\n",
    "4. Arguments in call are matched to parameters in definition.\n",
    "5. Functions may return a result to their caller using return."
   ]
  },
  {
   "cell_type": "markdown",
   "metadata": {
    "collapsed": true,
    "jupyter": {
     "outputs_hidden": true
    }
   },
   "source": [
    "## Functions Checklist\n",
    "\n",
    "**Defining functions checklist**\n",
    "\n",
    "1. Did you start your function definition with def?\n",
    "2. Does your function name have only characters and `_` (underscore) characters?\n",
    "3. Did you put an open parenthesis `(` right after the function name?\n",
    "4. Did you put your arguments after the parenthesis `(` separated by commas?\n",
    "5. Did you make each argument unique (meaning no duplicated names)?\n",
    "6. Did you put a close parenthesis and a colon `):` after the arguments?\n",
    "7. Did you indent all lines of code you want in the function four spaces? No more, no less.\n",
    "8. Did you \"end\" your function by going back to writing with no indent (dedenting we call it)?\n",
    "9. Did you add comments to your function explaining anything not immediately obvious to a reader? \n",
    "    Documentation is important!\n",
    "\n",
    "**Calling functions checklist**\n",
    "\n",
    "1. Did you call/use/run this function by typing its name?\n",
    "2. Did you put the values you want into the parenthesis separated by commas?"
   ]
  },
  {
   "cell_type": "markdown",
   "metadata": {},
   "source": [
    "**Practice**: Write a function that takes a list of temperature in degrees Celsius, identifies the largest number, converts it to degrees Fahrenheit ($F=(C*9/5)+32$), rounds the result a desired number of decimal places with default 0, and returns that value. "
   ]
  }
 ],
 "metadata": {
  "kernelspec": {
   "display_name": "Python 3",
   "language": "python",
   "name": "python3"
  },
  "language_info": {
   "codemirror_mode": {
    "name": "ipython",
    "version": 3
   },
   "file_extension": ".py",
   "mimetype": "text/x-python",
   "name": "python",
   "nbconvert_exporter": "python",
   "pygments_lexer": "ipython3",
   "version": "3.8.5"
  }
 },
 "nbformat": 4,
 "nbformat_minor": 5
}
