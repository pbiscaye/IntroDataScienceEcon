{
 "cells": [
  {
   "cell_type": "markdown",
   "id": "6caa532f-d502-4576-9ee6-5ad88ca0c550",
   "metadata": {},
   "source": [
    "# Section 10. Python Web APIs: Accessing NYT Data\n",
    "\n",
    "#### Instructor: Pierre Biscaye \n",
    "\n",
    "The objective of this notebook is to introduce you to some basic steps for extracting data from the web with APIs using Python, with the New York Times API as a case study. The content of this notebook is taken from UC Berkeley D-Lab's Python Web APIs [course](https://github.com/dlab-berkeley/Python-Web-APIs).\n",
    "\n",
    "### Learning Objectives\n",
    "1. The New York Times API\n",
    "2. Top stories API\n",
    "3. Most Viewed and Most Shared APIs\n",
    "4. Article Search API\n",
    "5. Examples of Data Analysis"
   ]
  },
  {
   "cell_type": "code",
   "execution_count": null,
   "id": "b0379359-694d-491c-ba18-fa80ea3c65bc",
   "metadata": {
    "tags": []
   },
   "outputs": [],
   "source": [
    "# Import required libraries\n",
    "import matplotlib.pyplot as plt\n",
    "import numpy as np\n",
    "import pandas as pd\n",
    "from datetime import datetime"
   ]
  },
  {
   "cell_type": "markdown",
   "id": "8d2eeb34-dab0-464c-8fca-568624fe2cbb",
   "metadata": {},
   "source": [
    "# 1. The New York Times API\n",
    "\n",
    "We are going to use the NYT API to demonstrate how Web APIs can be used to access useful information in an easy way. Before proceeding with this lesson, you should have already set up an API key following the instructions in Web APIs overview slides. Copy that API key now."
   ]
  },
  {
   "cell_type": "markdown",
   "id": "a639eb32-15e0-48fc-9cb5-3bd804fae0f9",
   "metadata": {},
   "source": [
    "## Handling API Keys"
   ]
  },
  {
   "cell_type": "markdown",
   "id": "da084101-19bc-46c1-9722-317d0514da5e",
   "metadata": {},
   "source": [
    "API keys are sensitive data! You **do not** want to accidentally share them publicly.\n",
    "\n",
    "The following cell will:\n",
    "\n",
    "1. first try to obtain previously saved credentials by loading with `configparser`;\n",
    "2. if not found, use `getpass` to request the credentials from the user (which works in notebooks as an input prompt);\n",
    "3. then save those user-inputted credentials using configparser to `~/.notebook-api-keys` which is outside of the directory for this notebook so it doesn't accidentally get uploaded publicly.\n",
    "\n",
    "Run the following cell and add the API Key you just created when prompted."
   ]
  },
  {
   "cell_type": "code",
   "execution_count": null,
   "id": "17a9823a-4e85-41ff-b321-4f9821359821",
   "metadata": {
    "tags": []
   },
   "outputs": [],
   "source": [
    "import configparser\n",
    "import os\n",
    "from getpass import getpass\n",
    "\n",
    "def get_api_key(api_name):\n",
    "    config_file_path = os.path.expanduser(\"~/.notebook-api-keys\")\n",
    "    config = configparser.ConfigParser(interpolation=None)  # Disable interpolation to avoid issues with special characters\n",
    "    \n",
    "    # Try reading the existing config file\n",
    "    if os.path.exists(config_file_path):\n",
    "        config.read(config_file_path)\n",
    "    \n",
    "    # Check if API key is present\n",
    "    if config.has_option(\"API_KEYS\", api_name):\n",
    "        # Ask if the user wants to update the key\n",
    "        update_key = input(f\"An API key for {api_name} already exists. Do you want to update it? (y/n): \").lower()\n",
    "        if update_key == 'n':\n",
    "            return config.get(\"API_KEYS\", api_name)\n",
    "    \n",
    "    # If no key exists or user opts to update, prompt for the new key\n",
    "    api_key = getpass(f\"Enter your {api_name} API key: \")\n",
    "\n",
    "    # Save the API key in the config file\n",
    "    if not config.has_section(\"API_KEYS\"):\n",
    "        config.add_section(\"API_KEYS\")\n",
    "    config.set(\"API_KEYS\", api_name, api_key)\n",
    "    \n",
    "    with open(config_file_path, \"w\") as f:\n",
    "        config.write(f)\n",
    "    \n",
    "    return api_key\n",
    "\n",
    "# Example usage to retrieve the NYT API key\n",
    "api_key = get_api_key(\"NYT\")\n",
    "\n",
    "print(\"NYT API key retrieved successfully.\")\n"
   ]
  },
  {
   "cell_type": "markdown",
   "id": "fae52a0a-8e33-4f78-b181-e254fa81eabe",
   "metadata": {},
   "source": [
    "**Tip**: Another way to keep your credentials secure and provide convenient access is through the [JupyterLab Credential Store\n",
    "](https://towardsdatascience.com/the-jupyterlab-credential-store-9cc3a0b9356). If you are using JupyterLab, this is a great general solution for handling API keys!"
   ]
  },
  {
   "cell_type": "markdown",
   "id": "5f5b395a-443f-4e40-91f7-8fcb5c33bbbe",
   "metadata": {},
   "source": [
    "## Using `pynytimes`\n",
    "\n",
    "To access the NYTimes' databases, we'll be using a third-party library called [pynytimes](https://github.com/michadenheijer/pynytimes). This package provides an easy to use tool for accessing the wealth of data hosted by the Times.\n",
    "\n",
    "To install the library, follow the instructions taken from their [Github repo](https://github.com/michadenheijer/pynytimes).\n",
    "\n",
    "There are multiple options to install `pynytimes`, but the easiest is by just installing it using `pip` in the Jupyter notebook itself, using a magic command:"
   ]
  },
  {
   "cell_type": "code",
   "execution_count": null,
   "id": "d1d80b96-2285-43ab-bbd6-090fd4a9c2d7",
   "metadata": {
    "tags": []
   },
   "outputs": [],
   "source": [
    "%pip install pynytimes"
   ]
  },
  {
   "cell_type": "markdown",
   "id": "254a91bf-8626-46f8-acfc-163da0b862f2",
   "metadata": {},
   "source": [
    "You can also install it via the command line or Anaconda Navigator - whichever you're more comfortable with."
   ]
  },
  {
   "cell_type": "markdown",
   "id": "dc6d8416-3a3b-4641-954e-85519ca613ad",
   "metadata": {},
   "source": [
    "Once the package installed, let's go ahead import the library and initialize a connection to their servers using our api keys."
   ]
  },
  {
   "cell_type": "code",
   "execution_count": null,
   "id": "dce57534-fe5d-45a4-bb97-f2df8dc3d9d6",
   "metadata": {
    "tags": []
   },
   "outputs": [],
   "source": [
    "# Import the NYTAPI object which we'll use to access the API\n",
    "from pynytimes import NYTAPI"
   ]
  },
  {
   "cell_type": "code",
   "execution_count": null,
   "id": "018a6dfa-9343-42b1-9014-165ae7507b0c",
   "metadata": {
    "tags": []
   },
   "outputs": [],
   "source": [
    "# Intialize the NYT API class into an object using your API key\n",
    "nyt = NYTAPI(api_key, parse_dates=True)"
   ]
  },
  {
   "cell_type": "markdown",
   "id": "e13137c6-c776-4da0-b1a2-195726244be5",
   "metadata": {},
   "source": [
    "We are now ready to make some API calls!"
   ]
  },
  {
   "cell_type": "markdown",
   "id": "deedf92b-e0bb-4d6a-996c-3c3b4078a7cf",
   "metadata": {},
   "source": [
    "## Making API Calls\n",
    "\n",
    "Now that we've established a connection to New York Times' rich database, let's go over what kind of data and privileges we have access to.\n",
    " \n",
    " ### APIs\n",
    "\n",
    "[Here is the collection of the APIs the NYT gives us:](https://developer.nytimes.com/apis)\n",
    "\n",
    "- [Top stories](https://developer.nytimes.com/docs/top-stories-product/1/overview): Returns an array of articles currently on the specified section \n",
    "- [Most viewed/shared articles](https://developer.nytimes.com/docs/most-popular-product/1/overview): Provides services for getting the most popular articles on NYTimes.com based on emails, shares, or views.\n",
    "- [Article search](https://developer.nytimes.com/docs/articlesearch-product/1/overview): Look up articles by keyword. You can refine your search using filters and facets.\n",
    "- [Books](https://developer.nytimes.com/docs/books-product/1/overview): Provides information about book reviews and The New York Times Best Sellers lists.\n",
    "- [Movie reviews](https://developer.nytimes.com/docs/movie-reviews-api/1/overview): Search movie reviews by keyword and opening date and filter by Critics' Picks.\n",
    "- [Times Wire](https://developer.nytimes.com/docs/timeswire-product/1/overview): Get links and metadata for Times' articles as soon as they are published on NYTimes.com. The Times Newswire API provides an up-to-the-minute stream of published articles.\n",
    "- [Tag query (TimesTags)](https://developer.nytimes.com/docs/timestags-product/1/overview): Provide a string of characters and the service returns a ranked list of suggested terms.\n",
    "- [Archive metadata](https://developer.nytimes.com/docs/archive-product/1/overview): Returns an array of NYT articles for a given month, going back to 1851.\n",
    "\n",
    "We will look at a few of these today."
   ]
  },
  {
   "cell_type": "markdown",
   "id": "44a18eac-436d-43ef-8151-6bfc85a74a8d",
   "metadata": {},
   "source": [
    "# 2. Top Stories API\n",
    "\n",
    "Let's look at the top stories of the day. All we have to do is call a single method on the `nyt` object:"
   ]
  },
  {
   "cell_type": "code",
   "execution_count": null,
   "id": "c6d14b2a-67f3-42b6-b383-1eb78962a05a",
   "metadata": {},
   "outputs": [],
   "source": [
    "# Get all the top stories from the home page\n",
    "top_stories = nyt.top_stories()\n",
    "\n",
    "print(f\"top_stories is a list of length {len(top_stories)}\")"
   ]
  },
  {
   "cell_type": "markdown",
   "id": "8eded794-5f47-4848-9c59-9ba325efecaf",
   "metadata": {},
   "source": [
    "The `top_stories` method has a single parameter called `section` that defaults to \"home\".\n",
    "\n",
    "If we are interested in a specific section, we can pass in one of the following tags into the `section` parameter:\n",
    "```arts```, ```automobiles```, ```books```, ```business```, ```fashion```, ```food```, ```health```, ```home```, ```insider```, ```magazine```, ```movies```, ```national```, ```nyregion```, ```obituaries```, ```opinion```, ```politics```, ```realestate```, ```science```, ```sports```, ```sundayreview```, ```technology```, ```theater```, ```tmagazine```, ```travel```, ```upshot```, and ```world```.\n"
   ]
  },
  {
   "cell_type": "code",
   "execution_count": null,
   "id": "b582b805-46fb-48f4-8b0c-fc5585b7b898",
   "metadata": {},
   "outputs": [],
   "source": [
    "# Preview the results\n",
    "top_stories[:2]"
   ]
  },
  {
   "cell_type": "markdown",
   "id": "5724e114-fe34-4471-9ffe-310f9d921a7e",
   "metadata": {},
   "source": [
    "This is pretty typical output for data pulled from an API. We are looking at a list of nested JSON dictionaries."
   ]
  },
  {
   "cell_type": "markdown",
   "id": "38b034d1-32f9-4a41-93c3-e76c90ebaa81",
   "metadata": {},
   "source": [
    "When working with a new API, a good way to establish an understanding of the data is to inspect a single object in the collection. Let's grab the first story in the array and inspect its attributes and data:"
   ]
  },
  {
   "cell_type": "code",
   "execution_count": null,
   "id": "f744cb9e-d991-4c2e-97bd-d12aa5912119",
   "metadata": {},
   "outputs": [],
   "source": [
    "top_story = top_stories[0]\n",
    "top_story"
   ]
  },
  {
   "cell_type": "markdown",
   "id": "08a0fa06-969c-4e20-b392-3e4adb298a7d",
   "metadata": {},
   "source": [
    "We are provided a diverse collection of data for the article ranging from the expected (title, author (byline), date, section), to keywords, and to NLP-derived information such as named entities. Notice that the full article itself is not included - the API does not provide that to us."
   ]
  },
  {
   "cell_type": "markdown",
   "id": "73610bbb-e547-4dac-9d55-be815fba4009",
   "metadata": {},
   "source": [
    "## Organizing the API Results into a `pandas` DataFrame\n",
    "\n",
    "In order to conduct subsequent data analysis, we need to convert the list of JSON data to a `pandas` DataFrame. `pandas` allows us to simply pass in the JSON list and produce a clean table in one line of code. "
   ]
  },
  {
   "cell_type": "markdown",
   "id": "cab0d546-3798-4ed9-bb8c-15bfd6ad5333",
   "metadata": {},
   "source": [
    "First, let's see what happens when we pass in `top_stories` to `pd.json_normalize`:"
   ]
  },
  {
   "cell_type": "code",
   "execution_count": null,
   "id": "176bb5a8-53db-4244-a525-bd836b902ede",
   "metadata": {},
   "outputs": [],
   "source": [
    "# Convert to DataFrmae\n",
    "df = pd.json_normalize(top_stories)\n",
    "# View the first 5 rows\n",
    "df.head()"
   ]
  },
  {
   "cell_type": "code",
   "execution_count": null,
   "id": "fa8e6202-f3f8-4d43-9601-c0fb0404ba85",
   "metadata": {},
   "outputs": [],
   "source": [
    "# Inspect the metadata\n",
    "df.info()"
   ]
  },
  {
   "cell_type": "markdown",
   "id": "a241d131-f695-4aaa-bcef-104f57761099",
   "metadata": {},
   "source": [
    "For the most part, `pandas` does a good job of producing a table where:\n",
    "\n",
    "- The columns correspond with the JSON dictionary keys from our API call.\n",
    "- The number of rows matches the number of articles.\n",
    "- Each cell holds the corresponding value found under that article's dictionary key."
   ]
  },
  {
   "cell_type": "markdown",
   "id": "1f7f2a85-f044-4531-b96d-9c7be39787cf",
   "metadata": {},
   "source": [
    "What can we do with this? As an example, let's pull the information on individual 'entities' reported in the top stories by the API, and plot the frequency with which different individuals appear."
   ]
  },
  {
   "cell_type": "code",
   "execution_count": null,
   "id": "918e0ab6-f458-4915-8ab0-104c18567b8c",
   "metadata": {},
   "outputs": [],
   "source": [
    "from collections import Counter\n",
    "\n",
    "# Flatten the list of lists into a single list\n",
    "all_words = [word for sublist in df['per_facet'] for word in sublist]\n",
    "\n",
    "# Count occurrences of each unique string\n",
    "word_counts = Counter(all_words)\n",
    "\n",
    "# Get the 10 most common strings\n",
    "top_10_words = word_counts.most_common(10)\n",
    "\n",
    "# Convert to DataFrame for easy plotting\n",
    "top_10_df = pd.DataFrame(top_10_words, columns=[\"word\", \"count\"])\n",
    "\n",
    "# Truncate long strings for readability on plot\n",
    "top_10_df[\"short_word\"] = top_10_df[\"word\"].apply(lambda x: x[:10] + \"...\" if len(x) > 10 else x)"
   ]
  },
  {
   "cell_type": "code",
   "execution_count": null,
   "id": "e9736ee5-491c-44e8-b23c-737f1c7b1f5b",
   "metadata": {},
   "outputs": [],
   "source": [
    "import seaborn as sns\n",
    "\n",
    "plt.figure(figsize=(10, 5))\n",
    "sns.barplot(data=top_10_df, x=\"short_word\", y=\"count\", hue=\"word\", palette=\"viridis\", legend=False)\n",
    "plt.xlabel(\"Word\")\n",
    "plt.ylabel(\"Count\")\n",
    "plt.title(\"Top 10 Most Common People Named in Top Stories\")\n",
    "plt.xticks(rotation=45)\n",
    "plt.show()"
   ]
  },
  {
   "cell_type": "markdown",
   "id": "4e8b137d-4365-4994-beee-04b8e06cc9cf",
   "metadata": {},
   "source": [
    "# 3. Most Viewed and Most Shared APIs\n",
    "\n",
    "Retrieving the most viewed and shared articles is also quite simple. The `days` parameter returns the most popular articles based on the last $N$ days. Keep in mind, however, that `days` can only take on one of three values: 1, 7, or 30."
   ]
  },
  {
   "cell_type": "code",
   "execution_count": null,
   "id": "959dc92b-c33f-41b5-b271-15eb17a5a669",
   "metadata": {},
   "outputs": [],
   "source": [
    "# Retrieve the most viewed articles for today.\n",
    "# The days parameter defaults to 1\n",
    "most_viewed_today = nyt.most_viewed()\n",
    "print(f\"Title: {most_viewed_today[0]['title']}\")\n",
    "print(f\"Section: {most_viewed_today[0]['section']}\")\n",
    "most_viewed_today[0]"
   ]
  },
  {
   "cell_type": "markdown",
   "id": "3681696d-752e-4d11-8f67-af5ae03bb73b",
   "metadata": {},
   "source": [
    "How many stories are provided to us via this function call?"
   ]
  },
  {
   "cell_type": "code",
   "execution_count": null,
   "id": "358187a6-420d-4317-9429-5a021edb1e6f",
   "metadata": {},
   "outputs": [],
   "source": [
    "len(most_viewed_today)"
   ]
  },
  {
   "cell_type": "markdown",
   "id": "684faea3-9fab-499c-8869-b99747b04d86",
   "metadata": {},
   "source": [
    "For this piece of data, we can consult a guide or what's known as a schema to understand the information at our finger tips.\n",
    "\n",
    "The [Most Viewed Schema](https://developer.nytimes.com/docs/most-popular-product/1/types/ViewedArticle) can answer any questions we may have about the data provided by this API:"
   ]
  },
  {
   "cell_type": "markdown",
   "id": "210bc5f1-037d-4c49-85e1-186bfbc946b1",
   "metadata": {},
   "source": [
    "| Attribute      | Data Type | Definition      |\n",
    "| ----------- | ----------- | ----------- |\n",
    "| url      | string       | Article's URL.       |\n",
    "| adx_keywords   | string        | Semicolon separated list of keywords.        |\n",
    "| column   | string        | Deprecated. Set to null.        |\n",
    "| section   | string        | Article's section (e.g. Sports).        |\n",
    "| byline   | string        | Article's byline (e.g. By Thomas L. Friedman).        |\n",
    "| type   | string        | Asset type (e.g. Article, Interactive, ...).        |\n",
    "| title   | string        | Article's headline (e.g. When the Cellos Play, the Cows Come Home).        |\n",
    "| abstract   | string        | Brief summary of the article.|\n",
    "| published_date   | string        | When the article was published on the web (e.g. 2021-04-19).        |\n",
    "| source   | string        | Publisher (e.g. New York Times).        |\n",
    "| id   | integer        | Asset ID number (e.g. 100000007772696).        |\n",
    "| asset_id   | integer        | Asset ID number (e.g. 100000007772696).        |\n",
    "| des_facet   | array        | Array of description facets (e.g. Quarantine (Life and Culture)).        |\n",
    "| org_facet   | array        | Array of organization facets (e.g. Sullivan Street Bakery).        |\n",
    "| per_facet   | array        | Array of person facets (e.g. Bittman, Mark).        |\n",
    "| geo_facet   | array        | Array of geographic facets (e.g. Canada).        |\n",
    "| media   | array        | Array of images.        |\n",
    "| media.type   | string        | Asset type (e.g. image).        |\n",
    "| media.subtype   | string        | Asset subtype (e.g. photo).        |\n",
    "| media.caption   | string        | Media caption        |\n",
    "| media.copyright   | string        | Media credit        |\n",
    "| media.approved_for_syndication   | boolean        | Whether media is approved for syndication.        |\n",
    "| media.media-metadata   | array        | Media metadata (url, width, height, ...).        |\n",
    "| media.media-metadata.url   | string        | Image's URL.        |\n",
    "| media.media-metadata.format   | string        | Image's crop name     |\n",
    "| media.media-metadata.height   | integer        | Image's height |\n",
    "| media.media-metadata.width   | integer        | Image's width      |"
   ]
  },
  {
   "cell_type": "markdown",
   "id": "fc33ce38-daf3-494a-9f0f-12d089321297",
   "metadata": {},
   "source": [
    "To pull most popular articles for the past week and month, we pass the numbers 7 or 30 into `days`"
   ]
  },
  {
   "cell_type": "code",
   "execution_count": null,
   "id": "cf701a93-68c4-4c0c-ab6d-30487b4da504",
   "metadata": {},
   "outputs": [],
   "source": [
    "most_viewed_week = nyt.most_viewed(days=7)\n",
    "len(most_viewed_week)"
   ]
  },
  {
   "cell_type": "markdown",
   "id": "64a14916-a9fc-4826-a459-787780e26a41",
   "metadata": {},
   "source": [
    "Note that the API only results in 20 articles, and this is not a parameter we can modify.\n",
    "\n",
    "What is the most viewed article of the last week?"
   ]
  },
  {
   "cell_type": "code",
   "execution_count": null,
   "id": "e3e2f679-4660-4c03-84b8-5f9257473165",
   "metadata": {},
   "outputs": [],
   "source": [
    "most_viewed_week[0]['title']"
   ]
  },
  {
   "cell_type": "markdown",
   "id": "b5d3d542-3873-4a4f-acb2-c9aeb500887d",
   "metadata": {},
   "source": [
    "What individuals occurred most commonly in the most-viewed articles?"
   ]
  },
  {
   "cell_type": "code",
   "execution_count": null,
   "id": "156bb565-54af-4b8b-b8ee-88bbc6cecc11",
   "metadata": {},
   "outputs": [],
   "source": [
    "df2 = pd.json_normalize(most_viewed_week)\n",
    "\n",
    "# Flatten the list of lists into a single list\n",
    "all_words = [word for sublist in df2['per_facet'] for word in sublist]\n",
    "\n",
    "# Count occurrences of each unique string\n",
    "word_counts = Counter(all_words)\n",
    "\n",
    "# Get the 10 most common strings\n",
    "top_10_words = word_counts.most_common(10)\n",
    "\n",
    "# Convert to DataFrame for easy plotting\n",
    "top_10_df = pd.DataFrame(top_10_words, columns=[\"word\", \"count\"])\n",
    "\n",
    "# Truncate long strings for readability on plot\n",
    "top_10_df[\"short_word\"] = top_10_df[\"word\"].apply(lambda x: x[:10] + \"...\" if len(x) > 10 else x)\n",
    "\n",
    "# Plot it\n",
    "plt.figure(figsize=(10, 5))\n",
    "sns.barplot(data=top_10_df, x=\"short_word\", y=\"count\", hue=\"word\", palette=\"viridis\", legend=False)\n",
    "plt.xlabel(\"Word\")\n",
    "plt.ylabel(\"Count\")\n",
    "plt.title(\"Top 10 Most Common People Named in Most Viewed Stories\")\n",
    "plt.xticks(rotation=45)\n",
    "plt.show()"
   ]
  },
  {
   "cell_type": "markdown",
   "id": "a518264b-6c85-40aa-bec0-5d7b6937e265",
   "metadata": {},
   "source": [
    "Now let's look at the most *shared* stories. Here we can search by sharing methods."
   ]
  },
  {
   "cell_type": "code",
   "execution_count": null,
   "id": "c4bc4104-fcee-4b2c-b7c0-adfdc6a4f423",
   "metadata": {},
   "outputs": [],
   "source": [
    "# Get most shared stories\n",
    "email = nyt.most_shared(days=30, method = 'email')\n",
    "facebook = nyt.most_shared(days=30, method = 'facebook')\n",
    "len(facebook)"
   ]
  },
  {
   "cell_type": "code",
   "execution_count": null,
   "id": "8d231103-c70d-40bd-9980-9703efd207fc",
   "metadata": {},
   "outputs": [],
   "source": [
    "# Get unique identifier for each story\n",
    "email_ids = [story[\"uri\"] for story in email]\n",
    "facebook_ids = [story[\"uri\"] for story in facebook]"
   ]
  },
  {
   "cell_type": "code",
   "execution_count": null,
   "id": "3dd81026-c588-40bc-a62e-665dd7e70eb7",
   "metadata": {},
   "outputs": [],
   "source": [
    "# Calculate the intersection of unique IDs\n",
    "len(set(email_ids).intersection(set(facebook_ids)))"
   ]
  },
  {
   "cell_type": "markdown",
   "id": "a5fa9175-2c6c-4a0d-b1de-e3968cd81e7a",
   "metadata": {},
   "source": [
    "**Question**: How do we interpret the result of the last line of code?"
   ]
  },
  {
   "cell_type": "markdown",
   "id": "d60086e2-a79b-47f3-a480-e58339194f3f",
   "metadata": {},
   "source": [
    "# 4. Article Search API\n",
    "\n",
    "The previous results are interesting but likely seem a bit restricted. Let's take it up a notch and use the search API to retrieve a set of articles about a particular topic in a chosen period of time.\n",
    "\n",
    "We'll use the `article_search` function. Two relevant parameters include:\n",
    "\n",
    "- `query`: The search query\n",
    "- `results`: Number of articles returned. The default is 10.\n",
    "\n",
    "Let's try pulling the 20 most recent articles about France:"
   ]
  },
  {
   "cell_type": "code",
   "execution_count": null,
   "id": "b15ff11f-7049-488f-9d96-f689c430a576",
   "metadata": {},
   "outputs": [],
   "source": [
    "articles = nyt.article_search(query=\"France\", results=20)"
   ]
  },
  {
   "cell_type": "markdown",
   "id": "b4c2f903-afb6-4f74-a542-711c5e3d149e",
   "metadata": {},
   "source": [
    "Let's look at the main headlines of these articles:"
   ]
  },
  {
   "cell_type": "code",
   "execution_count": null,
   "id": "d25dd533-b471-44fa-8739-0e7e0c756255",
   "metadata": {},
   "outputs": [],
   "source": [
    "headlines = [article['headline']['main'] for article in articles]\n",
    "headlines"
   ]
  },
  {
   "cell_type": "markdown",
   "id": "6cd24cf5-67c1-49fb-95fc-69aaddcc2702",
   "metadata": {},
   "source": [
    "Some of these results don't seem relevant to the country of France. \n",
    "\n",
    "Let's take a peek at the first article provided to see if we can figure out why. We're going to remove the `multimedia` key in order to make it more easy to view:"
   ]
  },
  {
   "cell_type": "code",
   "execution_count": null,
   "id": "0b780566-16a3-4a30-b016-a317cc213280",
   "metadata": {},
   "outputs": [],
   "source": [
    "del articles[0]['multimedia']\n",
    "articles[0]"
   ]
  },
  {
   "cell_type": "markdown",
   "id": "34559fc2-0f44-4444-a19a-28817b103628",
   "metadata": {},
   "source": [
    "**Question**: Any guesses about why this article showed up in the search?\n",
    "\n",
    "Notice that not all article data comes in the same format. Data from the search API is presented differently from that of the Most Viewed and Top Stories APIs.\n",
    "\n",
    "There are schemas for the above data. \n",
    "\n",
    "- [Article Schema](https://developer.nytimes.com/docs/articlesearch-product/1/types/Article)\n",
    "- [Byline](https://developer.nytimes.com/docs/articlesearch-product/1/types/Byline)\n",
    "- [Headline](https://developer.nytimes.com/docs/articlesearch-product/1/types/Headline)\n",
    "- [Keyword](https://developer.nytimes.com/docs/articlesearch-product/1/types/Keyword)\n",
    "- [Multimedia](https://developer.nytimes.com/docs/articlesearch-product/1/types/Multimedia)\n",
    "- [Person](https://developer.nytimes.com/docs/articlesearch-product/1/types/Person)"
   ]
  },
  {
   "cell_type": "markdown",
   "id": "cb7fb990-96de-49dd-9611-4b798884321a",
   "metadata": {},
   "source": [
    "Let's search for some articles again, but within a specific time period. \n",
    "\n",
    "For example, how would we retrieve all the articles about the 2024 Paris Summer Olympics published between the opening and closing ceremonies (+ 1 day)?\n",
    "\n",
    "We need to pass a dictionary to the `dates` argument which contains keys named \"begin\" and \"end\". Those two keys point to `datetime` objects that we'll use as time markers. We're also going to use the `options` argument to filter and sort our results. We'll restrict ourselves to 100 articles for tractability."
   ]
  },
  {
   "cell_type": "code",
   "execution_count": null,
   "id": "5b86f60e-480f-4635-ba84-3dff7addfe17",
   "metadata": {},
   "outputs": [],
   "source": [
    "# Set up start and end date objects\n",
    "begin = datetime(2024, 7, 25) # July 25, 2024\n",
    "end = datetime(2024, 8, 12) # August 12, 2024\n",
    "\n",
    "# Create a dictionary containing the datetime objects\n",
    "date_dict = {\"begin\": begin, \"end\": end}\n",
    "\n",
    "# Create options dictionary\n",
    "options_dict = {\n",
    "    # Sort from earliest to latest\n",
    "    \"sort\": \"oldest\",\n",
    "    # Return only articles from New York Times (filters out other sources such as AP and Reuters)\n",
    "    \"sources\": [\"New York Times\"],\n",
    "    # Return only news, analyses, and articles\n",
    "    \"type_of_material\": [\"News Analysis\", \"News\", \"Article\"]\n",
    "}\n",
    "\n",
    "articles = nyt.article_search(\n",
    "    query=\"Paris Olympics\",\n",
    "    results=100,\n",
    "    dates=date_dict,\n",
    "    options=options_dict)"
   ]
  },
  {
   "cell_type": "code",
   "execution_count": null,
   "id": "8c39a319-9185-4740-99c0-f34c437b6e47",
   "metadata": {
    "scrolled": true
   },
   "outputs": [],
   "source": [
    "# Grab first article and drop the multimedia key to reduce clutter\n",
    "article = articles[0]\n",
    "del article[\"multimedia\"]\n",
    "\n",
    "# Check out results\n",
    "article"
   ]
  },
  {
   "cell_type": "markdown",
   "id": "0f5a3695-8199-4773-87a3-b7573a780436",
   "metadata": {},
   "source": [
    "You can see how this could be a more powerful tool for data search."
   ]
  },
  {
   "cell_type": "markdown",
   "id": "49f4b3b3-2b4a-4a20-9a79-ca90d90262f8",
   "metadata": {},
   "source": [
    "# 5. Data Analysis\n",
    "\n",
    "Now, we'll perform some analysis on a database of articles published about the 2024 United States presidential election.\n",
    "\n",
    "We will work with a previously queried set of articles because making the API call in class will take too much time. The code used to query the articles we'll analyze can be found in the following cell. Feel free to adapt it for future queries. Keep in mind your API call and rate limits."
   ]
  },
  {
   "cell_type": "markdown",
   "id": "9d1d5e83-a645-4b35-9084-fca5dd408363",
   "metadata": {},
   "source": [
    "## Query Using the Article Search API"
   ]
  },
  {
   "cell_type": "code",
   "execution_count": null,
   "id": "3a4a7832-3186-45c6-8b43-e52c99486526",
   "metadata": {},
   "outputs": [],
   "source": [
    "# Change this variable if you'd like to run the query yourself; note it can take a long time to run\n",
    "run_query = False\n",
    "\n",
    "# Only run this code if you're able to wait for the query to finish\n",
    "if run_query:\n",
    "    # Create datetime objects\n",
    "    begin = datetime(2024, 9, 7) # September 7, 2020\n",
    "    end = datetime(2024, 11, 7) # November 7, 2020\n",
    "    date_dict = {\"begin\": begin, \"end\": end}\n",
    "\n",
    "    options_dict = {\n",
    "        \"sort\": \"oldest\",\n",
    "        \"sources\": [\"New York Times\",],\n",
    "        \"type_of_material\": [\"News Analysis\", \"News\", \"Article\", \"Editorial\"]\n",
    "    }\n",
    "\n",
    "    # To get the dataset we use, set n_results to 2000\n",
    "    n_results = 2000\n",
    "    # n_results = 10\n",
    "\n",
    "    # Perform article search query\n",
    "    articles = nyt.article_search(\n",
    "         query=\"presidential election\",\n",
    "         results=n_results,\n",
    "         dates=date_dict,\n",
    "         options=options_dict)\n",
    "\n",
    "    # Create DataFrame \n",
    "    df = pd.json_normalize(articles)\n",
    "    \n",
    "    # Ensure 'lead_paragraph' column has no NaN \n",
    "    df['lead_paragraph'] = df['lead_paragraph'].fillna('')\n",
    "    \n",
    "    # Save DataFrame\n",
    "    df.to_csv(\"Data/election2024_articles.csv\")"
   ]
  },
  {
   "cell_type": "markdown",
   "id": "4561fe76-6d07-46c5-bda7-9973e7631ed7",
   "metadata": {},
   "source": [
    "Let's load in the previously saved data:"
   ]
  },
  {
   "cell_type": "code",
   "execution_count": null,
   "id": "cb310d22-895a-4dff-8442-247aa8b02b42",
   "metadata": {
    "tags": []
   },
   "outputs": [],
   "source": [
    "df = pd.read_csv(\"Data/election2024_articles.csv\")\n",
    "df.head()"
   ]
  },
  {
   "cell_type": "code",
   "execution_count": null,
   "id": "65e4aa87-5f4b-42c6-8f6a-c252e91cdc60",
   "metadata": {
    "scrolled": true
   },
   "outputs": [],
   "source": [
    "# Inspect metadata\n",
    "df.info()"
   ]
  },
  {
   "cell_type": "markdown",
   "id": "3e46337e-600b-45a6-bf77-6a858efc1383",
   "metadata": {},
   "source": [
    "## Perform Sentiment Analysis\n",
    "\n",
    "Sentiment analysis is a common task when working with text data. Let's track the sentiment of articles about the election over the two month time period. We'll use the `vadersentiment` package to evaluate the sentiment of each article.\n",
    "\n",
    "According to the [VADER Github Repo](https://github.com/cjhutto/vaderSentiment), \"VADER (Valence Aware Dictionary and sEntiment Reasoner) is a lexicon and rule-based sentiment analysis tool that is *specifically attuned to sentiments expressed in social media*.\"\n",
    "\n",
    "We'll start by installing the `vadersentiment` library."
   ]
  },
  {
   "cell_type": "code",
   "execution_count": null,
   "id": "b440d3fb-2ad2-4587-b395-2c862c5009aa",
   "metadata": {},
   "outputs": [],
   "source": [
    "# Install the vadersentiment library\n",
    "%pip install vadersentiment"
   ]
  },
  {
   "cell_type": "code",
   "execution_count": null,
   "id": "3477c354-ce11-478c-9f99-1a24c0fbc549",
   "metadata": {},
   "outputs": [],
   "source": [
    "# Import the SentimentIntensityAnalyzer object\n",
    "from vaderSentiment.vaderSentiment import SentimentIntensityAnalyzer"
   ]
  },
  {
   "cell_type": "code",
   "execution_count": null,
   "id": "0a12840c-372b-4b5d-96cc-c8f33c6116ed",
   "metadata": {},
   "outputs": [],
   "source": [
    "# Initialize analyzer object\n",
    "analyzer = SentimentIntensityAnalyzer()\n",
    "# Calculate the polarity scores of the lead paragraph \n",
    "df[\"sentiment\"] = df[\"lead_paragraph\"].apply(lambda x: analyzer.polarity_scores(x) if isinstance(x, str) else np.nan)"
   ]
  },
  {
   "cell_type": "code",
   "execution_count": null,
   "id": "f005cb19-9a18-4c99-9835-ec2801cb5519",
   "metadata": {},
   "outputs": [],
   "source": [
    "# Inspect the sentiment column\n",
    "df.sentiment.head()"
   ]
  },
  {
   "cell_type": "code",
   "execution_count": null,
   "id": "3bcf1b6c-b87d-40e6-a1ba-26ca80056ef8",
   "metadata": {},
   "outputs": [],
   "source": [
    "# View single row\n",
    "df.sentiment.iloc[0]"
   ]
  },
  {
   "cell_type": "markdown",
   "id": "3b774a12-732b-46a4-aabc-b4c29c8fdb3e",
   "metadata": {},
   "source": [
    "The `compound` score is computed by summing the valence scores of each word in the lexicon, adjusted according to the rules, and then normalized to be between -1 (most negative) and +1 (most positive). This is the most useful metric if you want a single unidimensional measure of sentiment for a given sentence. We can think of this score as a normalized, weighted composite score. It is also useful for researchers who would like to set standardized thresholds for classifying sentences as either positive, neutral, or negative. \n",
    "\n",
    "Typical threshold values are:\n",
    "\n",
    "1. **Positive Sentiment**: compound score $\\geq 0.05$\n",
    " \n",
    "2. **Neutral  Sentiment**: $-0.05 <$ compound score $< 0.05$\n",
    " \n",
    "3. **Negative Sentiment**: compound score $\\leq -0.05$"
   ]
  },
  {
   "cell_type": "code",
   "execution_count": null,
   "id": "6a4f20a8-96bc-4009-8424-d427e2b16755",
   "metadata": {},
   "outputs": [],
   "source": [
    "# Re-assign sentiment as the compound score\n",
    "df[\"sentiment\"] = df[\"sentiment\"].apply(lambda x: x[\"compound\"] if isinstance(x, dict) else np.nan)"
   ]
  },
  {
   "cell_type": "markdown",
   "id": "574114c9-7261-4b7e-8494-8f7e962ac6c2",
   "metadata": {},
   "source": [
    "Let's get a sense of the distribution of scores by calculating some summary statistics and plotting a histogram:"
   ]
  },
  {
   "cell_type": "code",
   "execution_count": null,
   "id": "dd45dbca-af6f-41fa-a70d-abd008b4ebbb",
   "metadata": {},
   "outputs": [],
   "source": [
    "# Summary statistics\n",
    "df.sentiment.describe()"
   ]
  },
  {
   "cell_type": "code",
   "execution_count": null,
   "id": "debbce8d-5e49-4b11-add9-0532b8cb2ee0",
   "metadata": {},
   "outputs": [],
   "source": [
    "bins = np.linspace(-1, 1, 17)\n",
    "df.sentiment.hist(bins=bins, figsize= (9, 7))\n",
    "plt.xlabel(\"Sentiment Score\")\n",
    "plt.ylabel(\"Frequency\")\n",
    "plt.xlim([-1.0, 1.0])"
   ]
  },
  {
   "cell_type": "markdown",
   "id": "f889b643-e6b1-406c-b320-eaafa278a3c0",
   "metadata": {},
   "source": [
    "Finally, using the VADER thresholds for positive, neutral, and negative, we can see how many articles qualify for each of those labels:"
   ]
  },
  {
   "cell_type": "code",
   "execution_count": null,
   "id": "3bac1185-a853-4f2f-8fd5-eb36d8af1821",
   "metadata": {},
   "outputs": [],
   "source": [
    "# Proportion of positive, negative, and neutral texts\n",
    "def bin_func(x):\n",
    "    if x > 0.05:\n",
    "        return \"positive\"\n",
    "    elif x < -.05:\n",
    "        return \"negative\"\n",
    "    else:\n",
    "        return \"neutral\"\n",
    "# Calculate counts\n",
    "df.sentiment.apply(bin_func).value_counts()"
   ]
  },
  {
   "cell_type": "markdown",
   "id": "0fc1297f-70a1-48cf-bdac-5e251ee697c2",
   "metadata": {},
   "source": [
    "## Sentiment Over the Course of the Campaign"
   ]
  },
  {
   "cell_type": "markdown",
   "id": "db927bc2-514b-4990-8b06-94e9a8650fd7",
   "metadata": {},
   "source": [
    "Let's examine how the compound score evolved over the course of the campaign. Do you have expectations on how this quantity might behave as the election nears? \n",
    "\n",
    "First, let's create a new `pandas` series which tracks the sentiment over time:"
   ]
  },
  {
   "cell_type": "code",
   "execution_count": null,
   "id": "d16393da-bd5b-4042-b07c-568b659015b7",
   "metadata": {},
   "outputs": [],
   "source": [
    "# change pub_date to DatetimeIndex format\n",
    "df[\"pub_date\"] = pd.to_datetime(df[\"pub_date\"])"
   ]
  },
  {
   "cell_type": "code",
   "execution_count": null,
   "id": "cdbdbe85-27c1-40a2-9693-48955352623d",
   "metadata": {},
   "outputs": [],
   "source": [
    "# Create a time series with publication date as the index and sentiment score as the value\n",
    "sentiment_ts = pd.Series(index= df.pub_date.tolist(),\n",
    "                         data = df.sentiment.tolist())"
   ]
  },
  {
   "cell_type": "markdown",
   "id": "f25e495e-dc35-447c-b903-d1b4dfde1288",
   "metadata": {},
   "source": [
    "Next, we'll calculate daily and weekly averages:"
   ]
  },
  {
   "cell_type": "code",
   "execution_count": null,
   "id": "8d6f9cb9-6c8d-4c6e-9596-2e7e0e2313ce",
   "metadata": {},
   "outputs": [],
   "source": [
    "# Resample the data with daily averages and weekly averages\n",
    "daily = sentiment_ts.resample(\"d\").mean()\n",
    "weekly = sentiment_ts.resample(\"W\").mean()"
   ]
  },
  {
   "cell_type": "markdown",
   "id": "568bd7c7-1bf1-4c43-9f2b-294f7943cfb9",
   "metadata": {},
   "source": [
    "Let's plot the results. Do you notice any patterns?"
   ]
  },
  {
   "cell_type": "code",
   "execution_count": null,
   "id": "8d4394c7-ea1d-4583-8a59-8284022ad2fb",
   "metadata": {},
   "outputs": [],
   "source": [
    "# Daily average sentiment of articles.\n",
    "daily.plot(figsize = (11, 7))\n",
    "plt.xlabel(\"Dates\")\n",
    "plt.ylabel(\"Sentiment Score\");"
   ]
  },
  {
   "cell_type": "code",
   "execution_count": null,
   "id": "c7a741f8-d9a9-47a5-bbef-9c1e629b530f",
   "metadata": {},
   "outputs": [],
   "source": [
    "# Weekly average sentiment of articles.\n",
    "weekly.plot(figsize = (11, 7))\n",
    "plt.xlabel(\"Dates\")\n",
    "plt.ylabel(\"Sentiment Score\");"
   ]
  },
  {
   "cell_type": "markdown",
   "id": "e1da9002-dfeb-4c44-bc7b-c358221ba931",
   "metadata": {},
   "source": [
    "## Handling Nested Arrays of Keywords\n",
    "\n",
    "The NY Times has done us a favor in providing named entities in the article API results, thus relieving us of having to do the tagging ourselves. However, the data structure that it comes in can be tricky to handle. Here, we provide a short tutorial showing one way to cleanly extract keyword data."
   ]
  },
  {
   "cell_type": "code",
   "execution_count": null,
   "id": "3c743c86-6522-41fa-a4ca-50109b9c1b98",
   "metadata": {},
   "outputs": [],
   "source": [
    "# Refer to a sample article's set of keywords\n",
    "df.keywords.iloc[1]"
   ]
  },
  {
   "cell_type": "markdown",
   "id": "ada82a2d-ab47-40e5-9425-d86342a5df10",
   "metadata": {},
   "source": [
    "We see a number of things here:\n",
    "- Each article's keywords are laid out in a list of dictionaries.\n",
    "- A dictionary tell us the name, value, rank, and major of the keyword.\n",
    "- 'Name' gives the category of keyword, with give possibilities: `subject`, `persons`, `glocations`, `organizations`, and `creative_works`.\n",
    "- 'Value' gives the actual keywork or phrase.\n",
    "- 'Rank' indicates the relative importance of the keywork. The ordering of the list corresponds to the ranking.\n",
    "- 'Major' indicates whether the keyword is a primary focus or a secondary reference.\n",
    "- All articles do not all have the same number of rankings.\n",
    "\n",
    "Let's write a function to extract keyword data based on the ranking. This function will be applied over the pandas series of keyword data."
   ]
  },
  {
   "cell_type": "code",
   "execution_count": null,
   "id": "08391288-be34-4e06-9195-f5db61c37f15",
   "metadata": {},
   "outputs": [],
   "source": [
    "import ast\n",
    "\n",
    "# Convert the string representation of the list into actual lists of dictionaries\n",
    "df['keywords'] = df['keywords'].apply(lambda x: ast.literal_eval(x) if isinstance(x, str) else x)"
   ]
  },
  {
   "cell_type": "code",
   "execution_count": null,
   "id": "c5fee0d3-11a4-4cf6-99da-cf7067630c74",
   "metadata": {},
   "outputs": [],
   "source": [
    "df[\"keywords\"].head()"
   ]
  },
  {
   "cell_type": "code",
   "execution_count": null,
   "id": "04b1fede-fd8c-432c-b1e1-2a805a1e9b87",
   "metadata": {},
   "outputs": [],
   "source": [
    "def rank_extractor(data, rank):\n",
    "    \"\"\"Extracts keyword data based on the 'rank' field.\"\"\"\n",
    "    if isinstance(data, list):\n",
    "        for keyword in data:\n",
    "            if isinstance(keyword, dict) and keyword.get(\"rank\") == rank:\n",
    "                return {\"name\": keyword.get(\"name\"), \"value\": keyword.get(\"value\")}\n",
    "    return None"
   ]
  },
  {
   "cell_type": "code",
   "execution_count": null,
   "id": "d701072e-8d36-4cab-9ee5-f58e8aed62b6",
   "metadata": {
    "scrolled": true
   },
   "outputs": [],
   "source": [
    "# Extract the first, second, and third keywords\n",
    "rank1 = df.keywords.apply(lambda x: rank_extractor(x, 1))\n",
    "rank2 = df.keywords.apply(lambda x: rank_extractor(x, 2))\n",
    "rank3 = df.keywords.apply(lambda x: rank_extractor(x, 3))"
   ]
  },
  {
   "cell_type": "code",
   "execution_count": null,
   "id": "e3f18704-1d57-4c70-9170-04f644b915dc",
   "metadata": {},
   "outputs": [],
   "source": [
    "# View results\n",
    "rank1.head()"
   ]
  },
  {
   "cell_type": "markdown",
   "id": "b7ec099e-b5d5-4e2c-b617-78043b28be1e",
   "metadata": {},
   "source": [
    "Let's convert these dictionaries into `pandas` Series:"
   ]
  },
  {
   "cell_type": "code",
   "execution_count": null,
   "id": "762ed380-57f2-4dec-8f31-210567a5057b",
   "metadata": {},
   "outputs": [],
   "source": [
    "rank1 = rank1.apply(pd.Series)\n",
    "rank2 = rank2.apply(pd.Series)\n",
    "rank3 = rank3.apply(pd.Series)\n",
    "rank1.head()"
   ]
  },
  {
   "cell_type": "markdown",
   "id": "49e9b4ab-7113-4321-8e3e-82b86effeb6c",
   "metadata": {},
   "source": [
    "Voila! A nice clean format. Now can we conduct some light analysis:"
   ]
  },
  {
   "cell_type": "code",
   "execution_count": null,
   "id": "311b066f-ce49-4aa4-889c-d79c919a3811",
   "metadata": {},
   "outputs": [],
   "source": [
    "# Most frequent type of keyword in ranking #1\n",
    "rank1.name.value_counts()"
   ]
  },
  {
   "cell_type": "code",
   "execution_count": null,
   "id": "131a13f9-d941-4787-aa24-2caa650eae96",
   "metadata": {},
   "outputs": [],
   "source": [
    "# The most common keywords in ranking #1:\n",
    "rank1.value.value_counts()"
   ]
  },
  {
   "cell_type": "markdown",
   "id": "4ebed890-3232-4399-ac6d-ebefc948f6d8",
   "metadata": {},
   "source": [
    "## Key Points\n",
    "\n",
    "* APIs allow structured web interactions, often using URLs to query databases and retrieve data.\n",
    "* API keys authenticate users, enabling access to APIs while monitoring and limiting the number of requests.\n",
    "* The NYT API allows users to do things like retrieve top stories, find most shared stories, and search for stories.\n",
    "* Text data acquired through APIs can be analyzed using natural language processing tools such as sentiment analysis.\n"
   ]
  }
 ],
 "metadata": {
  "kernelspec": {
   "display_name": "Python 3 (ipykernel)",
   "language": "python",
   "name": "python3"
  },
  "language_info": {
   "codemirror_mode": {
    "name": "ipython",
    "version": 3
   },
   "file_extension": ".py",
   "mimetype": "text/x-python",
   "name": "python",
   "nbconvert_exporter": "python",
   "pygments_lexer": "ipython3",
   "version": "3.9.21"
  }
 },
 "nbformat": 4,
 "nbformat_minor": 5
}
