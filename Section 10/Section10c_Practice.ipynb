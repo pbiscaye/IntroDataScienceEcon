{
 "cells": [
  {
   "cell_type": "markdown",
   "id": "6caa532f-d502-4576-9ee6-5ad88ca0c550",
   "metadata": {},
   "source": [
    "# Section 10. Working with Web Data Practice\n",
    "\n",
    "#### Instructor: Pierre Biscaye\n",
    "\n",
    "The purpose of this notebook is to give you opportunities and challenge to practice applying the skills developed in the other notebooks. \n",
    "\n",
    "The content of this notebook is taken from UC Berkeley D-Lab's Python Web APIs [course](https://github.com/dlab-berkeley/Python-Web-APIs) and their Python Web Scraping [course](https://github.com/dlab-berkeley/Python-Web-Scraping)."
   ]
  },
  {
   "cell_type": "code",
   "execution_count": null,
   "id": "b0379359-694d-491c-ba18-fa80ea3c65bc",
   "metadata": {},
   "outputs": [],
   "source": [
    "# Import required libraries\n",
    "import matplotlib.pyplot as plt\n",
    "import numpy as np\n",
    "import pandas as pd\n",
    "from datetime import datetime\n",
    "from pynytimes import NYTAPI"
   ]
  },
  {
   "cell_type": "code",
   "execution_count": null,
   "id": "5fbdc8b6-a91d-4f07-a98c-2ba3e8b01726",
   "metadata": {},
   "outputs": [],
   "source": [
    "import configparser\n",
    "import os\n",
    "from getpass import getpass\n",
    "\n",
    "def get_api_key(api_name):\n",
    "    config_file_path = os.path.expanduser(\"~/.notebook-api-keys\")\n",
    "    config = configparser.ConfigParser(interpolation=None)  # Disable interpolation to avoid issues with special characters\n",
    "    \n",
    "    # Try reading the existing config file\n",
    "    if os.path.exists(config_file_path):\n",
    "        config.read(config_file_path)\n",
    "    \n",
    "    # Check if API key is present\n",
    "    if config.has_option(\"API_KEYS\", api_name):\n",
    "        # Ask if the user wants to update the key\n",
    "        update_key = input(f\"An API key for {api_name} already exists. Do you want to update it? (y/n): \").lower()\n",
    "        if update_key == 'n':\n",
    "            return config.get(\"API_KEYS\", api_name)\n",
    "    \n",
    "    # If no key exists or user opts to update, prompt for the new key\n",
    "    api_key = getpass(f\"Enter your {api_name} API key: \")\n",
    "\n",
    "    # Save the API key in the config file\n",
    "    if not config.has_section(\"API_KEYS\"):\n",
    "        config.add_section(\"API_KEYS\")\n",
    "    config.set(\"API_KEYS\", api_name, api_key)\n",
    "    \n",
    "    with open(config_file_path, \"w\") as f:\n",
    "        config.write(f)\n",
    "    \n",
    "    return api_key\n",
    "\n",
    "# Example usage to retrieve the NYT API key\n",
    "api_key = get_api_key(\"NYT\")\n",
    "\n",
    "print(\"NYT API key retrieved successfully.\")\n"
   ]
  },
  {
   "cell_type": "code",
   "execution_count": null,
   "id": "5af27a72-5ed3-4d4a-87bb-0253210262aa",
   "metadata": {
    "tags": []
   },
   "outputs": [],
   "source": [
    "# Intialize the NYT API class into an object using your API key\n",
    "nyt = NYTAPI(api_key, parse_dates=True)"
   ]
  },
  {
   "cell_type": "markdown",
   "id": "cc28bc7d-d3dd-48ff-99d8-20b9db7046b0",
   "metadata": {},
   "source": [
    "## 1. Challenge: Find the top stories for a section\n",
    "\n",
    "- Choose a section of the NYT. Grab the top stories and store it in a list. Here are the sections:\n",
    "```arts```, ```automobiles```, ```books```, ```business```, ```fashion```, ```food```, ```health```, ```home```, ```insider```, ```magazine```, ```movies```, ```national```, ```nyregion```, ```obituaries```, ```opinion```, ```politics```, ```realestate```, ```science```, ```sports```, ```sundayreview```, ```technology```, ```theater```, ```tmagazine```, ```travel```, ```upshot```, and ```world```\n",
    "- How many stories are in the section?\n",
    "- What is the title of the first story?"
   ]
  },
  {
   "cell_type": "code",
   "execution_count": null,
   "id": "12c920bc-bf8c-48a4-a34e-d10e4a23476d",
   "metadata": {},
   "outputs": [],
   "source": [
    "# Your code here"
   ]
  },
  {
   "cell_type": "markdown",
   "id": "c33ad4d2-d283-466b-a395-b56fd9817a3a",
   "metadata": {},
   "source": [
    "## 2. Challenge: Article Searching\n",
    "\n",
    "- Retrieve a set of NYT articles for a query of your choice. Restrict the number of results so it does not run too long or exhaust your API limits.\n",
    "- Use a relevant time interval in constructing your `dates` dictionary\n",
    "- Use `type_of_material` and `section_name` as keys in your `options` dictionary.\n",
    "    - For `type_of_material` values refer to this [list](https://github.com/michadenheijer/pynytimes/blob/main/VALID_SEARCH_OPTIONS.md#type-of-material-values).\n",
    "    - For `section_name` values refer to this [list](https://github.com/michadenheijer/pynytimes/blob/main/VALID_SEARCH_OPTIONS.md#section-name-values)."
   ]
  },
  {
   "cell_type": "code",
   "execution_count": null,
   "id": "5dce99e3-4cf1-475e-a7a2-7f545f06d6e3",
   "metadata": {},
   "outputs": [],
   "source": [
    "# Your code here"
   ]
  },
  {
   "cell_type": "markdown",
   "id": "65a407db-1bbf-4ae4-ad07-7a10bdaf2ae9",
   "metadata": {},
   "source": [
    "## 3. Challenge: Most Positive, Most Negative\n",
    "\n",
    "What are the top 3 most positive and negative texts in the NYT database of articles around the time of the 2024 election? Tip: try using the `sort_values()` method on the \"sentiment\" column in your df!"
   ]
  },
  {
   "cell_type": "code",
   "execution_count": null,
   "id": "4a79529a-3211-4dd9-bcd5-60fb76ca1766",
   "metadata": {},
   "outputs": [],
   "source": [
    "import pandas as pd\n",
    "from vaderSentiment.vaderSentiment import SentimentIntensityAnalyzer\n",
    "import numpy as np \n",
    "\n",
    "df = pd.read_csv(\"Data/election2024_articles.csv\")\n",
    "\n",
    "# Your code here"
   ]
  },
  {
   "cell_type": "markdown",
   "id": "e783f022-0613-4022-ae8c-b9b4001d2587",
   "metadata": {},
   "source": [
    "## 4. Challenge: Web Scraping Find All\n",
    "\n",
    "Use BeautifulSoup to find all the HTML tags that appear in the main menu of the Illinois State Senate website."
   ]
  },
  {
   "cell_type": "code",
   "execution_count": null,
   "id": "a629dd30-06e0-4ae3-bb7e-66df362e8fd0",
   "metadata": {},
   "outputs": [],
   "source": [
    "# Import required libraries\n",
    "from bs4 import BeautifulSoup\n",
    "from datetime import datetime\n",
    "import requests\n",
    "import time"
   ]
  },
  {
   "cell_type": "code",
   "execution_count": null,
   "id": "30759230-9d42-4db5-883c-aed5c3daa97b",
   "metadata": {},
   "outputs": [],
   "source": [
    "# Make a GET request\n",
    "req = requests.get('http://www.ilga.gov/senate/default.asp')\n",
    "# Read the content of the server’s response\n",
    "src = ...\n",
    "# Parse the response into an HTML tree\n",
    "soup = ..."
   ]
  },
  {
   "cell_type": "code",
   "execution_count": null,
   "id": "3a41b2d4-131e-4f8f-b892-d6b72e198ee7",
   "metadata": {},
   "outputs": [],
   "source": [
    "# Your code here"
   ]
  },
  {
   "cell_type": "markdown",
   "id": "8415396a-3915-4fea-9f85-d93520f7745f",
   "metadata": {},
   "source": [
    "## 5. Challenge: Extract specific attributes\n",
    "\n",
    "Extract all `href` attributes for each HTML tag in the main menu."
   ]
  },
  {
   "cell_type": "code",
   "execution_count": null,
   "id": "a6db9805-84e8-4443-8fbc-778c509143ac",
   "metadata": {},
   "outputs": [],
   "source": [
    "# Your code here"
   ]
  },
  {
   "cell_type": "markdown",
   "id": "28fca48f-faa0-471d-acd3-fc8974eef637",
   "metadata": {},
   "source": [
    "## 6. Challenge: Modularize Your Code\n",
    "\n",
    "Turn the code we created to extract information about each senator for the 98th senate into a function that accepts a URL, scrapes the URL for its senators, and returns a list of tuples containing information about each senator. In other words, make the code flexible to allow scraping of multiple senates rather than one specific instance."
   ]
  },
  {
   "cell_type": "code",
   "execution_count": null,
   "id": "d3e3ebfd-432d-4c46-a46f-ca90ef7a339e",
   "metadata": {},
   "outputs": [],
   "source": [
    "def get_members(url):\n",
    "# Your code here\n",
    "\n",
    "    return(members)"
   ]
  },
  {
   "cell_type": "code",
   "execution_count": null,
   "id": "d935b4ce-ee50-4c82-a730-cf677036bdb2",
   "metadata": {},
   "outputs": [],
   "source": [
    "# Test your code!\n",
    "url = 'http://www.ilga.gov/senate/default.asp?GA=98'\n",
    "senate_members = get_members(url)\n",
    "len(senate_members)"
   ]
  },
  {
   "cell_type": "markdown",
   "id": "1844b691-fbd0-4d27-a64e-1416753a76a8",
   "metadata": {},
   "source": [
    "## 7. Challenge: Scrape All Bills\n",
    "\n",
    "Create a dictionary which maps a senator's district (the key) onto a a list of bills (the value) coming from that district. You can do this by looping over all of the senate members in `members` and calling `get_bills()` for each of their associated bill URLs. For practice, just loop over the first 10 senators.\n",
    "\n",
    "**NOTE:** please call the function `time.sleep(1)` for each iteration of the loop, so that we don't destroy the state's web site."
   ]
  },
  {
   "cell_type": "code",
   "execution_count": null,
   "id": "3db8d6d9-2fd4-46d8-9b5c-ec8e49af92c6",
   "metadata": {},
   "outputs": [],
   "source": [
    "# Copy get_bills() code here"
   ]
  },
  {
   "cell_type": "code",
   "execution_count": null,
   "id": "26918813-8827-4b82-9a56-ad2f7dc7e06d",
   "metadata": {},
   "outputs": [],
   "source": [
    "bills_dict = ...\n",
    "for member in senate_members[...]:\n",
    "    # your code here\n",
    "    time.sleep(1)"
   ]
  }
 ],
 "metadata": {
  "kernelspec": {
   "display_name": "Python 3 (ipykernel)",
   "language": "python",
   "name": "python3"
  },
  "language_info": {
   "codemirror_mode": {
    "name": "ipython",
    "version": 3
   },
   "file_extension": ".py",
   "mimetype": "text/x-python",
   "name": "python",
   "nbconvert_exporter": "python",
   "pygments_lexer": "ipython3",
   "version": "3.9.21"
  }
 },
 "nbformat": 4,
 "nbformat_minor": 5
}
