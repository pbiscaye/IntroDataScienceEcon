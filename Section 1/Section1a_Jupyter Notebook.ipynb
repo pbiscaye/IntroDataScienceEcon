{
 "cells": [
  {
   "cell_type": "markdown",
   "metadata": {},
   "source": [
    "# Section 1. Working with Jupyter Notebook"
   ]
  },
  {
   "cell_type": "markdown",
   "metadata": {},
   "source": [
    "#### Instructor: Pierre Biscaye\n",
    "\n",
    "The content of this notebook draws on material from UC Berkeley's D-Lab Python Fundamentals [course](https://github.com/dlab-berkeley/Python-Fundamentals)."
   ]
  },
  {
   "cell_type": "markdown",
   "metadata": {},
   "source": [
    "## 1. Cell Types"
   ]
  },
  {
   "cell_type": "markdown",
   "metadata": {},
   "source": [
    "Jupyter Notebooks are composed of many individual cells. Cells may be of several types. The most relevant are Code cells and Markdown cells. This is useful for creating readable documents incorporating text, code, and analysis.\n",
    "\n",
    "In *Markdown* cells, like this one, you write and format text. \n",
    "\n",
    "In *Code* cells, you write code, use packages, and conduct operations. After completing the operations, the area below the cell will display any relevant output. See the below cell for example.\n",
    "\n",
    "By default, cells in jupyter notebook are code cells, which means it's expecting you to enter Python code. But you can change the cell format by changing the dropdown item on the top from \"Code\" to \"Markdown\"."
   ]
  },
  {
   "cell_type": "code",
   "execution_count": null,
   "metadata": {},
   "outputs": [],
   "source": [
    "# This is a code cell\n",
    "a=1\n",
    "print(a)"
   ]
  },
  {
   "cell_type": "markdown",
   "metadata": {},
   "source": [
    "# this is a markdown cell\n",
    "## this is a markdown cell\n",
    "### this is a markdown cell\n",
    "#### this is a markdown cell\n",
    "##### this is a markdown cell\n",
    "###### this is a markdown cell\n",
    "####### this is a markdown cell\n",
    "this is a markdown cell\n",
    "\n",
    "this is a markdown cell\n",
    "\n",
    "**this** is a *markdown* cell\n",
    "\n",
    "* Item 1\n",
    "* Item 2\n",
    "* Item 3\n",
    "\n",
    "1. one\n",
    "2. two\n",
    "3. three"
   ]
  },
  {
   "cell_type": "markdown",
   "metadata": {},
   "source": [
    "Markdown mode also allows math typesetting following Latex.\n",
    "\n",
    "$Y_{it}=\\alpha_i + \\gamma_t + \\beta Treat_{it} + \\epsilon_{it}$\n",
    "\n",
    "More Latex functionality is possible if you have a tex distribution on your computer and install some related packages."
   ]
  },
  {
   "cell_type": "markdown",
   "metadata": {},
   "source": [
    "## 2. Cell Modes"
   ]
  },
  {
   "cell_type": "markdown",
   "metadata": {},
   "source": [
    "There are two modes when working with a cell, command mode and edit mode.\n",
    "\n",
    "In *command* mode, you can change the cell type and move cells around. When you first create or click on a cell, you are automatically in command mode.\n",
    "\n",
    "In *edit* mode, you can edit a cell's contents. You can access edit mode by clicking a cell and then clicking Enter, or by double clicking on a cell. You can exit edit mode/go to command mode by clicking Esc."
   ]
  },
  {
   "cell_type": "markdown",
   "metadata": {},
   "source": [
    "### When you are in the command mode\n",
    "* Add a cell above: a\n",
    "* Add a cell below: b\n",
    "* Delete a cell: d d (use d twice)\n",
    "* Change to Markdown: m\n",
    "* Change to Code: y\n",
    "* Copy a cell: c\n",
    "* Cut a cell: x\n",
    "* Plaste below: v\n",
    "* Save and checkpoint: ctrl (command) s"
   ]
  },
  {
   "cell_type": "markdown",
   "metadata": {},
   "source": [
    "### When you are in the edit mode\n",
    "* Run cell: ctrl (command) enter\n",
    "* Run cell and go to the next cell: shift enter\n",
    "* Split cell: Ctrl Shift -\n",
    "* Toggle comment on current or selected lines: ctrl (command) /"
   ]
  },
  {
   "cell_type": "markdown",
   "metadata": {},
   "source": [
    "You can do all of these using the menu.\n",
    "\n",
    "Please also refer to Help/Keyboard Shortcuts.\n",
    "\n",
    "Some useful PDF files about the shortcuts are downloadable in the course website."
   ]
  },
  {
   "cell_type": "markdown",
   "metadata": {},
   "source": [
    "### Practice"
   ]
  },
  {
   "cell_type": "code",
   "execution_count": null,
   "metadata": {},
   "outputs": [],
   "source": [
    "# Please add a cell above here"
   ]
  },
  {
   "cell_type": "code",
   "execution_count": null,
   "metadata": {},
   "outputs": [],
   "source": [
    "# Please add a cell below here"
   ]
  },
  {
   "cell_type": "code",
   "execution_count": null,
   "metadata": {},
   "outputs": [],
   "source": [
    "# Please delete this cell"
   ]
  },
  {
   "cell_type": "code",
   "execution_count": null,
   "metadata": {},
   "outputs": [],
   "source": [
    "### Please change this code cell to a Markdown cell"
   ]
  },
  {
   "cell_type": "markdown",
   "metadata": {},
   "source": [
    "### Please change this Markdown cell to a code cell"
   ]
  },
  {
   "cell_type": "code",
   "execution_count": null,
   "metadata": {},
   "outputs": [],
   "source": [
    "# copy this cell and paste below"
   ]
  },
  {
   "cell_type": "code",
   "execution_count": null,
   "metadata": {},
   "outputs": [],
   "source": [
    "# cut this cell and paste it here"
   ]
  },
  {
   "cell_type": "code",
   "execution_count": null,
   "metadata": {},
   "outputs": [],
   "source": [
    "# Please run this cell\n",
    "a = a+1 # Adding 1 to a\n",
    "print(a)"
   ]
  },
  {
   "cell_type": "code",
   "execution_count": null,
   "metadata": {},
   "outputs": [],
   "source": [
    "# Please split this cell after this line\n",
    "# Please split this cell"
   ]
  },
  {
   "cell_type": "code",
   "execution_count": null,
   "metadata": {},
   "outputs": [],
   "source": [
    "Please toggle comment on this line"
   ]
  },
  {
   "cell_type": "code",
   "execution_count": null,
   "metadata": {},
   "outputs": [],
   "source": [
    "Please toggle comment on this line and\n",
    "this line"
   ]
  },
  {
   "cell_type": "markdown",
   "metadata": {},
   "source": [
    "## 3. Closing out a notebook"
   ]
  },
  {
   "cell_type": "markdown",
   "metadata": {},
   "source": [
    "When you close your Jupyter notebook window, all of your values will be lost. But you can save your code for a later time.\n",
    "\n",
    "Save up to this point (ctrl (command) s) and click 'Close and Shut down notebook' in the menu. This will take you back to the Jupyter dashboard.\n",
    "\n",
    "Once all notebooks are shut down, to end the Jupyter server session, navigate to File-> Shut Down on the Dashboard. Then go back to the Anaconda Prompt or terminal and close it out. You may get a warning dialog box alerting you that Jupyter Notebook is still running, if you have not shut it down."
   ]
  }
 ],
 "metadata": {
  "kernelspec": {
   "display_name": "Python 3 (ipykernel)",
   "language": "python",
   "name": "python3"
  },
  "language_info": {
   "codemirror_mode": {
    "name": "ipython",
    "version": 3
   },
   "file_extension": ".py",
   "mimetype": "text/x-python",
   "name": "python",
   "nbconvert_exporter": "python",
   "pygments_lexer": "ipython3",
   "version": "3.9.21"
  }
 },
 "nbformat": 4,
 "nbformat_minor": 4
}
