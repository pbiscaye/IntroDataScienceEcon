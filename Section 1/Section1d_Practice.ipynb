{
 "cells": [
  {
   "cell_type": "markdown",
   "id": "63a10383-8ef5-4e1a-b3e4-c14b897c1648",
   "metadata": {},
   "source": [
    "# Section 1. Basics of Python - Practice\n",
    "\n",
    "#### Instructor: Pierre Biscaye\n",
    "\n",
    "The content of this notebook draws on material from UC Berkeley's D-Lab Python Fundamentals [course](https://github.com/dlab-berkeley/Python-Fundamentals).\n"
   ]
  },
  {
   "cell_type": "markdown",
   "id": "fbad7ddc-5277-4bdf-ac00-aa70e849599f",
   "metadata": {},
   "source": [
    "## Challenge 1: Making and Printing Variables\n",
    "\n",
    "1. Add a code cell below this.\n",
    "2. Make 3 variables: `name` (with your full name), `city` (where you were born) and `year` (when you were born).\n",
    "3. Print these three variables so that it prints `[your name] was born in [city] in [year]`"
   ]
  },
  {
   "cell_type": "markdown",
   "id": "4ab6ff9d-f99d-4dec-bb57-fb43ffa3ea66",
   "metadata": {},
   "source": [
    "## Challenge 2: Predicting Values\n",
    "\n",
    "What is the final value of `position` in the program below?\n",
    "\n",
    "(Try to predict the value without running the program, then check your prediction.)\n"
   ]
  },
  {
   "cell_type": "code",
   "execution_count": null,
   "id": "0c2d0b62-1e45-41dc-938d-7dbb70181352",
   "metadata": {},
   "outputs": [],
   "source": [
    "initial = \"left\"\n",
    "position = initial\n",
    "initial = \"right\"\n",
    "position= \"left\"\n",
    "position = initial\n",
    "print(position)"
   ]
  },
  {
   "cell_type": "markdown",
   "id": "a479a33f-374d-49b7-a9c9-ed25c5067e38",
   "metadata": {},
   "source": [
    "## Challenge 3: Syntax\n",
    "\n",
    "Why does the following code fail? What is it probably supposed to do, and what is it actually doing?"
   ]
  },
  {
   "cell_type": "code",
   "execution_count": null,
   "id": "12af86bc-7d4e-46c5-86f5-1ef88be03fcb",
   "metadata": {},
   "outputs": [],
   "source": [
    "year==3000"
   ]
  },
  {
   "cell_type": "markdown",
   "id": "cf0318fb-666a-4231-8969-14071dd6cd2b",
   "metadata": {},
   "source": [
    "note about variable types:\n",
    "\n",
    "- float=decimals\n",
    "- integer=whole numbers\n",
    "- string=text/character\n",
    "- logical=true/false"
   ]
  },
  {
   "cell_type": "code",
   "execution_count": null,
   "id": "36e8acc6-cc2a-410c-b0fc-2c39272eb5e1",
   "metadata": {},
   "outputs": [],
   "source": [
    "# why does this line fail?\n",
    "3000=year"
   ]
  },
  {
   "cell_type": "code",
   "execution_count": null,
   "id": "c2852a08-a40e-4ee1-8c4b-d2b78fbfb4e5",
   "metadata": {},
   "outputs": [],
   "source": [
    "# Fix the above cells and print the year after setting it to 3000"
   ]
  },
  {
   "cell_type": "markdown",
   "id": "4b434fc1-dbce-4b52-a0c1-11a2e97bfd03",
   "metadata": {},
   "source": [
    "## Challenge 4: Making and Casting Variables\n",
    "\n",
    "1. Make a variable `year` and assign it as the year you were born\n",
    "2. Cast that variable to a float, and assign it to a new variable `year_float`\n",
    "3. Cast `year_float` to a string, and assign it to a new variable `year_string`\n",
    "4. Someone in your class says they were born in 1997. Find out what your age difference is, using only `year_string`.\n",
    "\n",
    "Some of the steps in this challenge might seem redundant or unnecessary, and they are. The idea is just to give you practice with coercing variables, even if it's unlikely you'll ever need to do it so many times in a row."
   ]
  },
  {
   "cell_type": "code",
   "execution_count": null,
   "id": "3f559f5e-f7bf-4dac-bb86-e0eb481af529",
   "metadata": {},
   "outputs": [],
   "source": [
    "# code here"
   ]
  },
  {
   "cell_type": "markdown",
   "id": "8c90a44e-125a-49ee-b294-63112c4ca248",
   "metadata": {},
   "source": [
    "## Challenge 5: Arithmetic with Different Types"
   ]
  },
  {
   "cell_type": "code",
   "execution_count": null,
   "id": "2c2965c8-ddbb-4c44-92cb-5ed92e2e573c",
   "metadata": {},
   "outputs": [],
   "source": [
    "first = 1.0\n",
    "second = \"1\"\n",
    "third = \"1.1\""
   ]
  },
  {
   "cell_type": "markdown",
   "id": "4f3d4f6d-75c7-4f6e-8eaf-22d4b1b2cfd7",
   "metadata": {},
   "source": [
    "Which of the following will print 2.0?\n",
    "\n",
    "Note: there may be more than one right answer."
   ]
  },
  {
   "cell_type": "markdown",
   "id": "c7034f80-3667-4aec-b3d6-e62fc3d52027",
   "metadata": {},
   "source": [
    "1. `first + float(second)`\n",
    "2. `float(second) + float(third)`\n",
    "3. `first + int(third)`\n",
    "4. `first + int(float(third))`\n",
    "5. `int(first) + int(float(third))`\n",
    "6. `2.0 * second`"
   ]
  },
  {
   "cell_type": "code",
   "execution_count": null,
   "id": "1390445b-5818-4b41-a7da-e2175a025c21",
   "metadata": {},
   "outputs": [],
   "source": [
    "# think this through, then write code here to check your answer"
   ]
  },
  {
   "cell_type": "markdown",
   "id": "8c20c501-29f0-48fa-a4f8-ad86c3b1db99",
   "metadata": {},
   "source": [
    "Change the code below to make first==second True by casting the variable(s)."
   ]
  },
  {
   "cell_type": "code",
   "execution_count": null,
   "id": "fe201a24-bd1c-47a7-baf7-f377a53cdd5d",
   "metadata": {},
   "outputs": [],
   "source": [
    "first==second"
   ]
  },
  {
   "cell_type": "markdown",
   "id": "c8e155c5-1f20-4796-8360-e4cc269d1ba1",
   "metadata": {},
   "source": [
    "## Challenge 6: Fix or interpret the following errors"
   ]
  },
  {
   "cell_type": "code",
   "execution_count": null,
   "id": "6ab44b29-389e-4336-a8ec-5ffe2f744208",
   "metadata": {},
   "outputs": [],
   "source": [
    "x=0\n",
    "print x"
   ]
  },
  {
   "cell_type": "code",
   "execution_count": null,
   "id": "9167becc-f949-4b58-9366-e26cd24b6184",
   "metadata": {},
   "outputs": [],
   "source": [
    "x = 0\n",
    "print( 10/x )"
   ]
  },
  {
   "cell_type": "code",
   "execution_count": null,
   "id": "1c857b26-8f9d-4b22-b997-aabd3d70f397",
   "metadata": {},
   "outputs": [],
   "source": [
    "x = 5\n",
    " print( 10/x )"
   ]
  },
  {
   "cell_type": "markdown",
   "id": "0d14341d-697b-43cf-a0ba-4b495358110f",
   "metadata": {},
   "source": [
    "Read the traceback below, and identify the following pieces of information about it:\n",
    "\n",
    "1.  How many levels does the traceback have? \n",
    "2.  What is the file name where the error occurred? \n",
    "3.  What is the function name where the error occurred? \n",
    "4.  On which line number in this function did the error occurr? \n",
    "5.  What is the type of error? \n",
    "6.  What is the error message? "
   ]
  },
  {
   "cell_type": "code",
   "execution_count": null,
   "id": "590b8e62-af75-4f85-9080-1b90ec2cc728",
   "metadata": {},
   "outputs": [],
   "source": [
    "import errors_02\n",
    "errors_02.print_friday_message()"
   ]
  },
  {
   "cell_type": "markdown",
   "id": "6e9fcadf-444e-4c70-8b87-5a2e65d44e04",
   "metadata": {},
   "source": [
    "## Challenge 7: Indexing\n",
    "\n",
    "Index the following list to get rid of the values `1`, `3`, and `5`. There are different ways to do this!"
   ]
  },
  {
   "cell_type": "code",
   "execution_count": null,
   "id": "b48e9dd0-14fe-45d2-b8bf-4d92226ab795",
   "metadata": {},
   "outputs": [],
   "source": [
    "numbers = [1, 3, 5, 7, 10, 13]\n",
    "\n",
    "# YOUR CODE HERE"
   ]
  },
  {
   "cell_type": "markdown",
   "id": "0473533e-d049-4bcd-b6f9-0e67d0752f4c",
   "metadata": {},
   "source": [
    "## Challenge 8: Slicing\n",
    "\n",
    "If `thing` is a list and `low` and `high` are both non-negative integers like this:"
   ]
  },
  {
   "cell_type": "code",
   "execution_count": null,
   "id": "8c24c61f-a365-4094-8022-23a5cb757fd7",
   "metadata": {},
   "outputs": [],
   "source": [
    "thing = [1,3,8,20,6, 'elephant', 'banana', 200, 2, 'list comprehension']\n",
    "low = 2\n",
    "high = 8"
   ]
  },
  {
   "cell_type": "markdown",
   "id": "54118421-6044-4dcc-b15b-71c2ad9b0c39",
   "metadata": {},
   "source": [
    "1. What does `thing[low:high]` do?\n",
    "2. What does `thing[low:]` (without a value after the colon) do?\n",
    "3. What does `thing[:high]` (without a value before the colon) do?\n",
    "4. What does `thing[:]` (just a colon) do?\n",
    "5. How long is the list `thing[low:high]`, expressed in terms of `low` and `high`?"
   ]
  },
  {
   "cell_type": "code",
   "execution_count": null,
   "id": "d3c1c21d-24aa-4bcd-a5ce-1f11d03ef546",
   "metadata": {},
   "outputs": [],
   "source": [
    "# Code here"
   ]
  },
  {
   "cell_type": "code",
   "execution_count": null,
   "id": "330ccdaa-d54b-400e-82c3-71a9b7f61c91",
   "metadata": {},
   "outputs": [],
   "source": [
    "city = 'Clermont-Ferrand'\n",
    "print(city[::2])\n",
    "print(city[::-1])\n",
    "print(city[2:10:3])"
   ]
  },
  {
   "cell_type": "markdown",
   "id": "55e37adc-0e66-4c49-941b-cab717f5afc1",
   "metadata": {},
   "source": [
    "*Strides* tell the slice how to select values within the given range.\n",
    "using \"[::2]\" shows every 2nd entry starting from the first\n",
    "using \"[::-1]\" shows the whole list in reverse order\n",
    "using \"[2:10:3]\" shows every 3rd entry from the 3rd to the 10th in the index\n",
    "\n",
    "If we write thing[low:high:stride], where stride is an integer, what does stride do?"
   ]
  },
  {
   "cell_type": "code",
   "execution_count": null,
   "id": "1987259f-d866-4ff9-9215-a67402a4acde",
   "metadata": {},
   "outputs": [],
   "source": [
    "#code here"
   ]
  }
 ],
 "metadata": {
  "kernelspec": {
   "display_name": "Python 3 (ipykernel)",
   "language": "python",
   "name": "python3"
  },
  "language_info": {
   "codemirror_mode": {
    "name": "ipython",
    "version": 3
   },
   "file_extension": ".py",
   "mimetype": "text/x-python",
   "name": "python",
   "nbconvert_exporter": "python",
   "pygments_lexer": "ipython3",
   "version": "3.9.21"
  }
 },
 "nbformat": 4,
 "nbformat_minor": 5
}
