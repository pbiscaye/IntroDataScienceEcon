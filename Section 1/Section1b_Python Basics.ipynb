{
 "cells": [
  {
   "cell_type": "markdown",
   "metadata": {},
   "source": [
    "# Section 1. Basics of Python"
   ]
  },
  {
   "cell_type": "markdown",
   "metadata": {},
   "source": [
    "#### Instructor: Pierre Biscaye\n",
    "\n",
    "The content of this notebook draws on material from UC Berkeley's D-Lab Python Fundamentals [course](https://github.com/dlab-berkeley/Python-Fundamentals).\n",
    "\n",
    "### Sections\n",
    "1. Variables/objects\n",
    "2. Variable types\n",
    "3. Indexing"
   ]
  },
  {
   "cell_type": "markdown",
   "metadata": {},
   "source": [
    "# 1. Python basics: objects/variables\n",
    "\n",
    "Python is an *object-oriented* language. You define objects or variables and assign them values, and then conduct operations on those objects. \n",
    "\n",
    "Python defines a variety of object types. Today we will introduce you to some basic important ones.\n",
    "\n",
    "*   Variables are names that you assign to values so you can recall them later. \n",
    "*   In Python the `=` symbol assigns the value on the right to the name on the left.\n",
    "*   The variable or object is created when a value is assigned to it."
   ]
  },
  {
   "cell_type": "code",
   "execution_count": null,
   "metadata": {},
   "outputs": [],
   "source": [
    "a=1\n",
    "a"
   ]
  },
  {
   "cell_type": "code",
   "execution_count": null,
   "metadata": {},
   "outputs": [],
   "source": [
    "# order matters\n",
    "2=b"
   ]
  },
  {
   "cell_type": "markdown",
   "metadata": {},
   "source": [
    "You might have noticed the pound sign `#` in the code cell above. \n",
    "These indicate **comments**, meaning that line of your code won't run.\n",
    "Comments are extremely helpful for making code readable and clear."
   ]
  },
  {
   "cell_type": "markdown",
   "metadata": {},
   "source": [
    "### Variable names:\n",
    "\n",
    "*   cannot start with a digit\n",
    "*   cannot contain spaces, quotation marks, or other punctuation\n",
    "*   *may* contain an underscore (typically used to separate words in long variable names)\n",
    "*   Underscores at the start like `__pierres_real_age` have a special meaning\n",
    "    so we won't do that until we understand the convention.\n"
   ]
  },
  {
   "cell_type": "code",
   "execution_count": null,
   "metadata": {},
   "outputs": [],
   "source": [
    "2day='today'"
   ]
  },
  {
   "cell_type": "code",
   "execution_count": null,
   "metadata": {},
   "outputs": [],
   "source": [
    "first_name='Pierre'"
   ]
  },
  {
   "cell_type": "markdown",
   "metadata": {},
   "source": [
    "### Python is case-sensitive.\n",
    "\n",
    "*   Python thinks that upper- and lower-case letters are different,\n",
    "    so `Name` and `name` are different variables.\n",
    "*   There are conventions around using upper-case letters at the start of variable names\n",
    "    so we will use lower-case letters for now.\n",
    "\n",
    "### Use meaningful variable names.\n",
    "\n",
    "*   Python doesn't care what you call variables as long as they obey the rules\n",
    "    (alphanumeric characters and the underscore).\n",
    "*   That said, don't use variable names that refer to existing variables and functions in Python (e.g., `print`, `sum`, `str`).\n",
    "*   Use meaningful variable names to help other people understand what the program does.\n",
    "*   The most important \"other person\" is your future self.\n",
    "*   Variables defined in one cell exist/persist in all following cells; meaningful names help\n",
    "    remind you what you've created and what they represent.\n",
    "*   Notebook cells are just a way to organize a program:\n",
    "    as far as Python is concerned,\n",
    "    all of the source code is one long set of instructions.                             "
   ]
  },
  {
   "cell_type": "code",
   "execution_count": null,
   "metadata": {},
   "outputs": [],
   "source": [
    "flabadab = 35\n",
    "print(first_name, 'is', flabadab, 'years old')"
   ]
  },
  {
   "cell_type": "markdown",
   "metadata": {},
   "source": [
    "### Displaying values\n",
    "\n",
    "You can call a variable directly, or use `print` to display values.\n",
    "\n",
    "*   Python has a built-in function called `print` that prints things as text.\n",
    "*   Call the function (i.e., tell Python to run it) by using its name.\n",
    "*   Provide values to the function (e.g., things to print) in parentheses.\n",
    "*   `print` automatically puts a single space between items to separate them.\n",
    "*   And wraps around to a new line at the end."
   ]
  },
  {
   "cell_type": "code",
   "execution_count": null,
   "metadata": {},
   "outputs": [],
   "source": [
    "age=35\n",
    "print(first_name, 'is', age, 'years old')"
   ]
  },
  {
   "cell_type": "code",
   "execution_count": null,
   "metadata": {},
   "outputs": [],
   "source": [
    "# You do not always need to use print(), but if you do not it will only display the last item you call\n",
    "age\n",
    "first_name"
   ]
  },
  {
   "cell_type": "code",
   "execution_count": null,
   "metadata": {},
   "outputs": [],
   "source": [
    "print(age)\n",
    "print(first_name)"
   ]
  },
  {
   "cell_type": "markdown",
   "metadata": {},
   "source": [
    "Variables must be created before they are used.\n",
    "\n",
    "If a variable doesn't exist yet, or if the name has been mis-spelled,\n",
    "    Python reports an error."
   ]
  },
  {
   "cell_type": "code",
   "execution_count": null,
   "metadata": {},
   "outputs": [],
   "source": [
    "print(first_name)\n",
    "print(last_name)"
   ]
  },
  {
   "cell_type": "markdown",
   "metadata": {},
   "source": [
    "The last line of an error message is usually the most informative.\n",
    "  \n",
    "We will look at error messages in detail later."
   ]
  },
  {
   "cell_type": "markdown",
   "metadata": {},
   "source": [
    "### Key points\n",
    "\n",
    "1. \"Use variables to store values.\"\n",
    "2. \"Use `print` to display values.\"\n",
    "3. \"Variables persist between cells.\"\n",
    "4. \"Variables must be created before they are used.\"\n",
    "5. \"Python is case-sensitive.\"\n",
    "6. \"Variables can be used in calculations.\"\n",
    "7. \"Use meaningful variable names.\""
   ]
  },
  {
   "cell_type": "markdown",
   "metadata": {},
   "source": [
    "<a id='type'></a>\n",
    "\n",
    "# 2 Variable Types\n",
    "\n",
    "Every value has a type.\n",
    "\n",
    "*   Every value in a program has a specific type.\n",
    "*   Integer (`int`): counting numbers like 3 or -512.\n",
    "*   Floating point number (`float`): fractional numbers like 3.14159 or -2.5.\n",
    "    *   Integers are used to count, floats are used to measure.\n",
    "*   Character string (usually just called \"string\", `str`): text.\n",
    "    *   Written in either single quotes or double quotes (as long as they match).\n",
    "    *   The quotation marks aren't printed when the string is displayed.\n",
    "\n",
    "Use the built-in function `type` to find the type of a value.\n",
    "\n",
    "*   Works on variables as well.\n",
    "*   But remember: the *value* has the type --- the *variable* is just a label."
   ]
  },
  {
   "cell_type": "code",
   "execution_count": null,
   "metadata": {},
   "outputs": [],
   "source": [
    "# Q: what is the type of the number 1?\n",
    "type(1)"
   ]
  },
  {
   "cell_type": "code",
   "execution_count": null,
   "metadata": {},
   "outputs": [],
   "source": [
    "# Q: what is the type of 'Pierre'?\n",
    "type('Pierre')"
   ]
  },
  {
   "cell_type": "code",
   "execution_count": null,
   "metadata": {},
   "outputs": [],
   "source": [
    "# Q: What is the type of the object a we created above?\n",
    "type(a) "
   ]
  },
  {
   "cell_type": "code",
   "execution_count": null,
   "metadata": {},
   "outputs": [],
   "source": [
    "# Q: What is the type of a = '1'?\n",
    "a='1'\n",
    "type(a)"
   ]
  },
  {
   "cell_type": "code",
   "execution_count": null,
   "metadata": {},
   "outputs": [],
   "source": [
    "# Q: What is the type of True?\n",
    "type(True)"
   ]
  },
  {
   "cell_type": "markdown",
   "metadata": {},
   "source": [
    "## Working with variables\n",
    "\n",
    "Types control what operations can be done on values."
   ]
  },
  {
   "cell_type": "code",
   "execution_count": null,
   "metadata": {},
   "outputs": [],
   "source": [
    "print(5-3)"
   ]
  },
  {
   "cell_type": "code",
   "execution_count": null,
   "metadata": {},
   "outputs": [],
   "source": [
    "print('hello' - 'h')"
   ]
  },
  {
   "cell_type": "code",
   "execution_count": null,
   "metadata": {},
   "outputs": [],
   "source": [
    "# \"Adding\" character strings concatenates them.\n",
    "print('hello' + ', how are you?')"
   ]
  },
  {
   "cell_type": "code",
   "execution_count": null,
   "metadata": {},
   "outputs": [],
   "source": [
    "# Multiplying a character string by an integer replicates it.\n",
    "print('hello'*5)"
   ]
  },
  {
   "cell_type": "code",
   "execution_count": null,
   "metadata": {},
   "outputs": [],
   "source": [
    "# The built-in function len counts the number of characters in a string.\n",
    "len('hello')"
   ]
  },
  {
   "cell_type": "code",
   "execution_count": null,
   "metadata": {},
   "outputs": [],
   "source": [
    "# numbers don't have a length\n",
    "len(34)"
   ]
  },
  {
   "cell_type": "code",
   "execution_count": null,
   "metadata": {},
   "outputs": [],
   "source": [
    "# cannot add numbers and strings\n",
    "print(1 + '2')"
   ]
  },
  {
   "cell_type": "markdown",
   "metadata": {},
   "source": [
    "*   Not allowed because it's ambiguous: should `1 + '2'` be `3` or `'12'`?\n",
    "*   Use the name of a type as a function to convert a value to that type.\n",
    "*   This **type conversion** is also called **casting** a value."
   ]
  },
  {
   "cell_type": "code",
   "execution_count": null,
   "metadata": {},
   "outputs": [],
   "source": [
    "print(1 + int('2'))\n",
    "print(str(1) + '2')"
   ]
  },
  {
   "cell_type": "code",
   "execution_count": null,
   "metadata": {},
   "outputs": [],
   "source": [
    "# Integers and floating-point numbers can be mixed in arithmetic.\n",
    "# Python automatically converts integers to floats as needed.\n",
    "print('three squared is', 3.0 ** 2)\n",
    "print('half that is', (3.0 ** 2) / 2.0)"
   ]
  },
  {
   "cell_type": "code",
   "execution_count": null,
   "metadata": {},
   "outputs": [],
   "source": [
    "# math with numbers\n",
    "print(age+3)\n",
    "print(age/2)\n",
    "print(age**2)\n",
    "year=2024\n",
    "print('birth year is ', year-age)"
   ]
  },
  {
   "cell_type": "code",
   "execution_count": null,
   "metadata": {},
   "outputs": [],
   "source": [
    "# Working with strings\n",
    "first_name = \"Pierre\"\n",
    "last_name = \"Biscaye\"\n",
    "full_name = first_name + \" \" + last_name  # this is called concatenating\n",
    "print(full_name)\n"
   ]
  },
  {
   "cell_type": "markdown",
   "metadata": {},
   "source": [
    "Strings are made up of sub-strings\n",
    "\n",
    "* You can think of strings as a *sequence* of smaller strings or characters. \n",
    "* We can access a piece of that sequence using `[]`.\n",
    "* If you want a range (or \"slice\") of a sequence, you get everything before the second index:"
   ]
  },
  {
   "cell_type": "code",
   "execution_count": null,
   "metadata": {},
   "outputs": [],
   "source": [
    "print(full_name[1])\n",
    "print(full_name[0])\n",
    "print(full_name[0:6])\n",
    "print(full_name[1:9])\n",
    "print(full_name[:5])\n",
    "print(full_name[8:])"
   ]
  },
  {
   "cell_type": "markdown",
   "metadata": {},
   "source": [
    "## Ordered Data Structures\n",
    "\n",
    "**Data structures** allow us to organize data. A list is one such data structure. It is a collection of ordered items. Use a list when you want to keep a bunch of items in one spot.\n",
    "\n",
    "### Lists\n",
    "\n",
    "We specify a list with square brackets: `[]` and commas separating each entry in the list.\n",
    "\n",
    "They usually contain homogeneous items - all of the same type - but not necessarily."
   ]
  },
  {
   "cell_type": "code",
   "execution_count": null,
   "metadata": {},
   "outputs": [],
   "source": [
    "a = [5, 7, 9]\n",
    "type(a)"
   ]
  },
  {
   "cell_type": "code",
   "execution_count": null,
   "metadata": {},
   "outputs": [],
   "source": [
    "# notice that we have overwritten the object `a'\n",
    "# most objects we create are 'mutable', meaning they can be changed\n",
    "# other built-in objects such as numbers, tuples, and strings are 'immutable'"
   ]
  },
  {
   "cell_type": "code",
   "execution_count": null,
   "metadata": {},
   "outputs": [],
   "source": [
    "# replace the first value of the list a\n",
    "print(a)\n",
    "a[0]=1\n",
    "print(a)"
   ]
  },
  {
   "cell_type": "code",
   "execution_count": null,
   "metadata": {},
   "outputs": [],
   "source": [
    "# Try it with a string\n",
    "str='string'\n",
    "print(str[0])\n",
    "str[0]='j'"
   ]
  },
  {
   "cell_type": "code",
   "execution_count": null,
   "metadata": {},
   "outputs": [],
   "source": [
    "# Lists may contain different types of objects\n",
    "cities = ['Clermont-Ferrand', 'Berkeley', 7]\n",
    "type(cities)"
   ]
  },
  {
   "cell_type": "code",
   "execution_count": null,
   "metadata": {},
   "outputs": [],
   "source": [
    "# len() gives the number of items in a list\n",
    "len(cities)"
   ]
  },
  {
   "cell_type": "code",
   "execution_count": null,
   "metadata": {},
   "outputs": [],
   "source": [
    "# What is a + a?\n",
    "a+a"
   ]
  },
  {
   "cell_type": "code",
   "execution_count": null,
   "metadata": {},
   "outputs": [],
   "source": [
    "# Make an empty list using []\n",
    "empty=[]"
   ]
  },
  {
   "cell_type": "markdown",
   "metadata": {},
   "source": [
    "### Arrays\n",
    "\n",
    "Arrays (matrices) are ordered numerical data"
   ]
  },
  {
   "cell_type": "code",
   "execution_count": null,
   "metadata": {},
   "outputs": [],
   "source": [
    "import numpy as np\n",
    "A = np.array(np.arange(16)).reshape((4, 4))\n",
    "A"
   ]
  },
  {
   "cell_type": "markdown",
   "metadata": {},
   "source": [
    "### Dictionaries\n",
    "\n",
    "Another type of ordered structure."
   ]
  },
  {
   "cell_type": "code",
   "execution_count": null,
   "metadata": {},
   "outputs": [],
   "source": [
    "# Dictionaries have key-value pairs\n",
    "d = {'name': 'Pierre Biscaye',\n",
    "    'department': 'CERDI',\n",
    "    'year': 1}"
   ]
  },
  {
   "cell_type": "code",
   "execution_count": null,
   "metadata": {},
   "outputs": [],
   "source": [
    "# Indexing dictionaries\n",
    "d['name']"
   ]
  },
  {
   "cell_type": "code",
   "execution_count": null,
   "metadata": {},
   "outputs": [],
   "source": [
    "# Change keys and values in a dictionary\n",
    "# Fill in your information\n",
    "d['name']=\n",
    "d['year']=\n",
    "d"
   ]
  },
  {
   "cell_type": "code",
   "execution_count": null,
   "metadata": {},
   "outputs": [],
   "source": [
    "# Check the keys of a dictionary: .keys()\n",
    "# This is an example of a method - more later\n",
    "d.keys()"
   ]
  },
  {
   "cell_type": "code",
   "execution_count": null,
   "metadata": {},
   "outputs": [],
   "source": [
    "# Check the values of a dictionary: .values()\n",
    "d.values()"
   ]
  },
  {
   "cell_type": "markdown",
   "metadata": {},
   "source": [
    "### Key points\n",
    "\n",
    "- \"Every value has a type.\"\n",
    "- \"Use the built-in function `type` to find the type of a value.\"\n",
    "- \"Types control what operations can be done on values.\"\n",
    "- \"Strings can be added and multiplied.\"\n",
    "- \"Strings have a length (but numbers don't).\"\n",
    "- \"Must convert numbers to strings or vice versa when operating on them.\"\n",
    "- \"Can mix integers and floats freely in operations.\"\n",
    "- \"Variables only change value when something is assigned to them.\"\n",
    "- \"Values can be organized into ordered structures.\""
   ]
  },
  {
   "cell_type": "markdown",
   "metadata": {},
   "source": [
    "# 3. Indexing"
   ]
  },
  {
   "cell_type": "code",
   "execution_count": null,
   "metadata": {},
   "outputs": [],
   "source": [
    "# Indexing: What is the first element of list a?\n",
    "# python indexing starts with 0!\n",
    "a=[1,4,7]\n",
    "b=['1','2','3','Go!']\n",
    "a[0]"
   ]
  },
  {
   "cell_type": "code",
   "execution_count": null,
   "metadata": {},
   "outputs": [],
   "source": [
    "# What is the third element of list a?\n",
    "a[2]"
   ]
  },
  {
   "cell_type": "code",
   "execution_count": null,
   "metadata": {},
   "outputs": [],
   "source": [
    "# What is the third element of list a? Can also start from the end\n",
    "a[-1]"
   ]
  },
  {
   "cell_type": "code",
   "execution_count": null,
   "metadata": {},
   "outputs": [],
   "source": [
    "# Change elements in the list\n",
    "b[0]=2\n",
    "b[3]='True'\n",
    "b"
   ]
  },
  {
   "cell_type": "markdown",
   "metadata": {},
   "source": [
    "We can also get multiple items from a list. We specify the start index and the end index, separated by a colon `[start:stop]`. \n",
    "\n",
    "The colon indicates that you want to access the item between the two endpoints. If one side of the colon is empty, it indicates using one end of the list as the starting or ending points. This is called **slicing** data.\n",
    "\n",
    "Note that the first index is *included*, while the second is *excluded*."
   ]
  },
  {
   "cell_type": "code",
   "execution_count": null,
   "metadata": {},
   "outputs": [],
   "source": [
    "country_list = ['Ethiopia', 'Canada', 'Thailand', 'Denmark', 'Japan']\n",
    "print(country_list[1:3])\n",
    "print(country_list[2:4])\n",
    "print(country_list[3:])\n",
    "print(country_list[:-2])"
   ]
  },
  {
   "cell_type": "code",
   "execution_count": null,
   "metadata": {},
   "outputs": [],
   "source": [
    "# Lists’ values can be replaced by assigning to specific indices.\n",
    "country_list[0] = \"Iran\"\n",
    "print('Country List is now:', country_list)"
   ]
  },
  {
   "cell_type": "code",
   "execution_count": null,
   "metadata": {},
   "outputs": [],
   "source": [
    "# Indexing with arrays (matrices)\n",
    "import numpy as np\n",
    "A = np.array(np.arange(16)).reshape((4, 4))\n",
    "A"
   ]
  },
  {
   "cell_type": "code",
   "execution_count": null,
   "metadata": {},
   "outputs": [],
   "source": [
    "# Get second column\n",
    "A[:,1]"
   ]
  },
  {
   "cell_type": "code",
   "execution_count": null,
   "metadata": {},
   "outputs": [],
   "source": [
    "# Get the first row\n",
    "A[0,:]"
   ]
  },
  {
   "cell_type": "code",
   "execution_count": null,
   "metadata": {},
   "outputs": [],
   "source": [
    "# Get row 2 column 1 value\n",
    "A[1,0]"
   ]
  },
  {
   "cell_type": "code",
   "execution_count": null,
   "metadata": {},
   "outputs": [],
   "source": [
    "# Selecting multiple rows at a time: [1,3] will show the second and fourth rows:\n",
    "A[[1,3]]"
   ]
  },
  {
   "cell_type": "code",
   "execution_count": null,
   "metadata": {},
   "outputs": [],
   "source": [
    "# To select the first and third columns: \n",
    "# [0,2]- as the second argument in the square brackets. Then supply the first argument : which selects all rows.\n",
    "A[:,[0,2]]"
   ]
  },
  {
   "cell_type": "code",
   "execution_count": null,
   "metadata": {},
   "outputs": [],
   "source": [
    "# Now, suppose that we want to select the submatrix made up of the second and fourth rows \n",
    "# as well as the first and third columns.\n",
    "# will this work?\n",
    "A[[1,3],[0,2]]"
   ]
  },
  {
   "cell_type": "code",
   "execution_count": null,
   "metadata": {},
   "outputs": [],
   "source": [
    "# Using intervals\n",
    "A[1:4:2,0:3:2]"
   ]
  },
  {
   "cell_type": "markdown",
   "metadata": {},
   "source": [
    "# 4. Closing out a notebook"
   ]
  },
  {
   "cell_type": "markdown",
   "metadata": {},
   "source": [
    "When you close your Jupyter notebook window, all of your values will be lost. But you can save your code for a later time.\n",
    "\n",
    "Save up to this point (ctrl (command) s) and click 'Close and Shut down notebook' in the menu. This will take you back to the Jupyter dashboard.\n",
    "\n",
    "Once all notebooks are shut down, to end the Jupyter server session, navigate to File-> Shut Down on the Dashboard. Then go back to the Anaconda Prompt or terminal and close it out. You may get a warning dialog box alerting you that Jupyter Notebook is still running, if you have not shut it down."
   ]
  }
 ],
 "metadata": {
  "kernelspec": {
   "display_name": "Python 3 (ipykernel)",
   "language": "python",
   "name": "python3"
  },
  "language_info": {
   "codemirror_mode": {
    "name": "ipython",
    "version": 3
   },
   "file_extension": ".py",
   "mimetype": "text/x-python",
   "name": "python",
   "nbconvert_exporter": "python",
   "pygments_lexer": "ipython3",
   "version": "3.9.21"
  }
 },
 "nbformat": 4,
 "nbformat_minor": 4
}
