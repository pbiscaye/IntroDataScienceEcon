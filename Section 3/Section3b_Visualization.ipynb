{
 "cells": [
  {
   "cell_type": "markdown",
   "metadata": {},
   "source": [
    "# Section 3. Data Visualization\n",
    "\n",
    "#### Instructor: Pierre Biscaye\n",
    "\n",
    "The content of this notebook draws on material from UC Berkeley's D-Lab Python Fundamentals [course](https://github.com/dlab-berkeley/Python-Fundamentals).\n",
    "    \n",
    "### Learning Objectives \n",
    "    \n",
    "* Review of loops for repeated computations.\n",
    "* Understand how to implement loops in Pandas with a technique called \"vectorization\".\n",
    "* Apply several Pandas methods to summarize and manipulate data.\n",
    "* Distinguish Pandas methods for `DataFrame` and `Series` objects.\n",
    "* Create simple visualizations using Pandas.\n",
    "* Visualize data using the Matplotlib package.\n",
    "\n",
    "### Sections\n",
    "1. Iteration and Vectorization with data frames\n",
    "2. Methods to visualize `DataFrame` and `Series` objects\n",
    "3. Graphics using Matplotlib"
   ]
  },
  {
   "cell_type": "markdown",
   "metadata": {},
   "source": [
    "# 1. Iteration and vectorization with data frames\n",
    "\n",
    "The strength of using computers is their speed. We can leverage this through repeated computation, also called iteration. In Python, we can do this using **loops**. \n",
    "\n",
    "Reminder: A **[for loop](https://www.w3schools.com/python/python_for_loops.asp)** executes some statements once *for* each value in an iterable (like a list or a string). It says: \"*for* each thing in this group, *do* these operations\".\n",
    "\n",
    "Let's take a look at the syntax of a for loop using the below example:"
   ]
  },
  {
   "cell_type": "code",
   "execution_count": null,
   "metadata": {},
   "outputs": [],
   "source": [
    "# We use a variable containing a list with the values to be iterated through\n",
    "lifeExp_list = [28.801, 30.332, 31.997]\n",
    "\n",
    "# Initialize the loop\n",
    "for lifeExp in lifeExp_list:\n",
    "    rounded = round(lifeExp)\n",
    "    print(rounded)\n",
    "\n",
    "# This will only be printed when the loop has ended!\n",
    "print('The loop has ended.')"
   ]
  },
  {
   "cell_type": "markdown",
   "metadata": {
    "tags": []
   },
   "source": [
    "## Conditionals and Loops\n",
    "\n",
    "Recall that we can use `if`-statements to check if a condition is `True` or `False`. Also recall that `True` and `False` are called **Boolean values**.\n",
    "\n",
    "Conditionals are particularly useful when we're iterating through a list, and want to perform some operation only on specific components of that list that satisfy a certain condition."
   ]
  },
  {
   "cell_type": "code",
   "execution_count": null,
   "metadata": {},
   "outputs": [],
   "source": [
    "numbers = [12, 20.2, 43, 88.88, 97, 100, 105, 110.9167]\n",
    "\n",
    "for number in numbers:\n",
    "    if number > 100:\n",
    "        print(number, 'is greater than 100.')\n",
    "    else:\n",
    "        print(number, 'is less than 100.')"
   ]
  },
  {
   "cell_type": "markdown",
   "metadata": {},
   "source": [
    "## Aggregating Values With Loops\n",
    "\n",
    "In the above example, we are operating on each value in `numbers`. However, instead of simply printing the results, we often will want to save them somehow. We can do this with an **accumulator variable**.\n",
    "\n",
    "A common strategy in programs is to:\n",
    "1.  Initialize an accumulator variable appropriate to the datatype of the output:\n",
    "    * `int` : `0`\n",
    "    * `str` : `''`\n",
    "    * `list` : `[]`\n",
    "2.  Update the variable with values from a collection through a `for` loop. Typical update operations are:\n",
    "    * `int` : `+`\n",
    "    * `str` : `+`\n",
    "    * `list` : `.append()`\n",
    "    \n",
    "The result of this is a single list, number, or string with a summary value for the entire collection being looped over.\n",
    "\n",
    "We can make a new list with all of the rounded numbers:"
   ]
  },
  {
   "cell_type": "code",
   "execution_count": null,
   "metadata": {},
   "outputs": [],
   "source": [
    "rounded_numbers = []\n",
    "\n",
    "for number in numbers: \n",
    "    rounded = round(number)\n",
    "    rounded_numbers.append(rounded)\n",
    "\n",
    "print('Rounded numbers:', rounded_numbers)"
   ]
  },
  {
   "cell_type": "markdown",
   "metadata": {},
   "source": [
    "## Iteration: Vectorization\n",
    "\n",
    "Let's have a look at our Gapminder dataset."
   ]
  },
  {
   "cell_type": "code",
   "execution_count": null,
   "metadata": {},
   "outputs": [],
   "source": [
    "import pandas as pd\n",
    "\n",
    "df = pd.read_csv('Data/gapminder.csv')\n",
    "df.head()"
   ]
  },
  {
   "cell_type": "markdown",
   "metadata": {},
   "source": [
    "Let's say that we want to multiply GDP per capita (`gdpPercap`) by population (`pop`) in order to get the total GDP of a country. We could do so using a `for` loop:"
   ]
  },
  {
   "cell_type": "code",
   "execution_count": null,
   "metadata": {
    "tags": []
   },
   "outputs": [],
   "source": [
    "gdpTotal = []\n",
    "df_length = len(df) # so we can loop over all rows\n",
    "\n",
    "for each in range(df_length): # going through each row one at a time\n",
    "    gdp = df['gdpPercap'][each]\n",
    "    pop = df['pop'][each]\n",
    "    gdpTotal.append(gdp * pop)\n",
    "    \n",
    "gdpTotal[:5]"
   ]
  },
  {
   "cell_type": "markdown",
   "metadata": {},
   "source": [
    "But this operation is convoluted, slow, and not preferred. In Pandas, we will want to use [**vectorized**](https://www.geeksforgeeks.org/vectorized-operations-in-numpy) operations. \n",
    "\n",
    "We can just multiply two columns, and Pandas will know we want to multiply each row of both columns!"
   ]
  },
  {
   "cell_type": "code",
   "execution_count": null,
   "metadata": {
    "scrolled": true
   },
   "outputs": [],
   "source": [
    "gdpTotal = df['gdpPercap'] * df['pop']\n",
    "gdpTotal[:5]"
   ]
  },
  {
   "cell_type": "markdown",
   "metadata": {},
   "source": [
    "Note that the output to this operation is not a list, but a `Series` – a data type specific to Pandas. It is like a list, but it is **labeled**, following the row labels from the original data. \n",
    "\n",
    "We can add this as a new column to df!"
   ]
  },
  {
   "cell_type": "code",
   "execution_count": null,
   "metadata": {},
   "outputs": [],
   "source": [
    "df['gdpTotal'] = df['gdpPercap'] * df['pop']\n",
    "df.head()"
   ]
  },
  {
   "cell_type": "markdown",
   "metadata": {},
   "source": [
    "Vectorized operations like these are really handy, and they replace much of the use of `for`-loops in a context of Pandas and data analysis."
   ]
  },
  {
   "cell_type": "markdown",
   "metadata": {},
   "source": [
    "# 2. Visualizing and exploring `DataFrame` objects\n",
    "\n",
    "Pandas has many methods: some allow you to work with entire DataFrames, while others operate on individual columns. This section focuses on learning to distinguish between these methods.\n",
    "\n",
    "Some methods work on entire DataFrames. We can look at the [documentation](https://pandas.pydata.org/docs/reference/api/pandas.DataFrame.html) to see all the methods and attributes that are available for `DataFrame` objects. Learning how to read documentation is an important skill! \n",
    "\n",
    "## Summary Statistics\n",
    "The [`describe()`](https://pandas.pydata.org/docs/reference/api/pandas.DataFrame.describe.html) method will give some summary statistics for a `DataFrame`. Run the cell below to see how it works."
   ]
  },
  {
   "cell_type": "code",
   "execution_count": null,
   "metadata": {
    "scrolled": true
   },
   "outputs": [],
   "source": [
    "df.describe()"
   ]
  },
  {
   "cell_type": "code",
   "execution_count": null,
   "metadata": {},
   "outputs": [],
   "source": [
    "df.columns"
   ]
  },
  {
   "cell_type": "markdown",
   "metadata": {},
   "source": [
    "*Question*: Why are only some of the columns in the `DataFrame` visible in the output?"
   ]
  },
  {
   "cell_type": "markdown",
   "metadata": {},
   "source": [
    "The result of `describe()` is itself a data frame. You can therefore index and subset it."
   ]
  },
  {
   "cell_type": "code",
   "execution_count": null,
   "metadata": {},
   "outputs": [],
   "source": [
    "df.describe().loc['mean','lifeExp']"
   ]
  },
  {
   "cell_type": "markdown",
   "metadata": {},
   "source": [
    "## Scatter Plots\n",
    "\n",
    "Pandas has a convenient [`plot()`](https://pandas.pydata.org/docs/reference/api/pandas.DataFrame.plot.html) method that allows you to create different kinds of visualizations. Some of these visualizations can be called on a DataFrame object.\n",
    "\n",
    "For instance, **scatter plots** visualize the relationship between different variables (columns) in a DataFrame. This is why we run the method on an entire DataFrame.\n",
    "\n",
    "We can create a scatter `plot()` by specifying the columns to use for the `x` and `y` axes. "
   ]
  },
  {
   "cell_type": "code",
   "execution_count": null,
   "metadata": {},
   "outputs": [],
   "source": [
    "df.plot(kind='scatter', x='lifeExp', y='gdpPercap')"
   ]
  },
  {
   "cell_type": "markdown",
   "metadata": {},
   "source": [
    "## Sorting Values\n",
    "\n",
    "Let's say we want to find the countries with the highest `gdpPercap`.\n",
    "\n",
    "If we want to sort the values in a DataFrame we can use the [`sort_values()`](https://pandas.pydata.org/docs/reference/api/pandas.DataFrame.sort_values.html) method on a DataFrame. It takes as an argument the column we want to sort the DataFrame on. \n",
    "\n",
    "By default, `sort_values()` sorts in **ascending order**. You can add the argument `ascending=False` when running `sort_values()` to show results in descending order."
   ]
  },
  {
   "cell_type": "code",
   "execution_count": null,
   "metadata": {},
   "outputs": [],
   "source": [
    "df.sort_values('gdpPercap')"
   ]
  },
  {
   "cell_type": "markdown",
   "metadata": {},
   "source": [
    "## Bar Plots\n",
    "\n",
    "Bar plots show the relationship between a numeric and a categoric variable. Here, we use the `country` (categorical) and `lifeExp` (numeric) columns. Use a bar plot when you want to illustrate differences in frequencies of some category.\n",
    "\n",
    "In the below cell, we retrieve the 10 data points with the **lowest life expectancy** in our data using the `sort_values()` method, and then plot those data points in a bar plot.\n",
    "\n",
    "Note that `plot.bar()` is a method of its own, and is an alternative to using `plot()` with the `type=bar` argument."
   ]
  },
  {
   "cell_type": "code",
   "execution_count": null,
   "metadata": {},
   "outputs": [],
   "source": [
    "# Sort values based on low life expectancy, get top 10\n",
    "low_lifeExp = df.sort_values('lifeExp', ascending=True)[:10]\n",
    "\n",
    "# Visualize with bar plot \n",
    "low_lifeExp.plot.bar(x='country', y='lifeExp', figsize=(6,4))"
   ]
  },
  {
   "cell_type": "markdown",
   "metadata": {},
   "source": [
    "## Grouping by variable\n",
    "\n",
    "Many times we will want to do operations by group. The `groupby()` method is useful for this.\n",
    "\n",
    "Suppose we want to calculate mean GDP per capita by continent. In the below code, we group the data by continent and then take the mean, and save this as a new dataframe."
   ]
  },
  {
   "cell_type": "code",
   "execution_count": null,
   "metadata": {},
   "outputs": [],
   "source": [
    "# Group by 'continent' and calculate the mean of 'gdpPercap'\n",
    "gdp_mean_df = df.groupby('continent', as_index=False)['gdpPercap'].mean()\n",
    "\n",
    "# Display the resulting dataframe\n",
    "gdp_mean_df"
   ]
  },
  {
   "cell_type": "markdown",
   "metadata": {},
   "source": [
    "**Practice**: Now visualize these values in a bar plot, after sorting."
   ]
  },
  {
   "cell_type": "code",
   "execution_count": null,
   "metadata": {},
   "outputs": [],
   "source": [
    "# Code here"
   ]
  },
  {
   "cell_type": "markdown",
   "metadata": {},
   "source": [
    "## Visualizing `Series` objects\n",
    "\n",
    "Some Pandas methods work on `Series` objects – single columns – instead of entire DataFrames.\n",
    "\n",
    "For instance, what if we wanted to calculate the median of life expectancy? We'd need to select just one column to operate on. \n",
    "\n",
    "Recall that we can select an individual column with bracket notation. This is analogous to indexing a list."
   ]
  },
  {
   "cell_type": "code",
   "execution_count": null,
   "metadata": {
    "scrolled": true
   },
   "outputs": [],
   "source": [
    "df['lifeExp']"
   ]
  },
  {
   "cell_type": "markdown",
   "metadata": {},
   "source": [
    "A single column of pandas is a `Series` object. This can be treated as a list or other iterable, and allows for you to do calculations over it. \n",
    "\n",
    "We can look at the [documentation](https://pandas.pydata.org/docs/reference/api/pandas.Series.html) to see the methods and attributes that are available for `Series` objects. If we want the median, we can use the `median()` function."
   ]
  },
  {
   "cell_type": "code",
   "execution_count": null,
   "metadata": {
    "scrolled": true
   },
   "outputs": [],
   "source": [
    "df['lifeExp'].median()"
   ]
  },
  {
   "cell_type": "markdown",
   "metadata": {},
   "source": [
    "## Histograms\n",
    "\n",
    "A histogram shows the distribution of a variable using binned values. We can call this using the syntax: `df[column].plot(kind='hist')`. Use a histogram if you want to show distributions of continuous variables.\n",
    "\n",
    "*Note* You can try changing the value for the `bins` parameter. What does the `bins` parameter seem to be determining?"
   ]
  },
  {
   "cell_type": "code",
   "execution_count": null,
   "metadata": {},
   "outputs": [],
   "source": [
    "df['lifeExp'].plot(kind='hist', title='Histogram of life expectancy', bins=10)"
   ]
  },
  {
   "cell_type": "markdown",
   "metadata": {
    "tags": []
   },
   "source": [
    "## Key Points\n",
    "\n",
    "* `for` loops work on lists and other list-like structures, but also on other iterables such as strings.\n",
    "* We typically use an accumulator variable to store some information we retrieve using a `for` loop.    \n",
    "* We typically do not use for-loops in Pandas - instead, we use \"vectorized\" operations.\n",
    "* Pandas methods work on either `DataFrame` or `Series` objects--make sure you know which!\n",
    "* Pandas methods yield as output either `DataFrame` or `Series` objects--make sure you know which!\n"
   ]
  },
  {
   "cell_type": "markdown",
   "metadata": {},
   "source": [
    "# 3. Graphics using Matplotlib\n",
    "\n",
    "It's common to use `matplotlib` for graphics, similar to `ggplot` in R. In `matplotlib`, a plot consists of a figure and one or more axes. The axes contain important information about each plot, such as its axis labels, or title.\n",
    "\n",
    "It is a standard to import matplotlib.pyplot as plt. "
   ]
  },
  {
   "cell_type": "code",
   "execution_count": null,
   "metadata": {},
   "outputs": [],
   "source": [
    "import matplotlib.pyplot as plt"
   ]
  },
  {
   "cell_type": "markdown",
   "metadata": {},
   "source": [
    "There is a 'magic function' in IPython that allows you to make sure your plots appear inside your notebook instead of appearing as pop-up windows.\n",
    "\n",
    "Magic functions are prefixed with the % character, and apply to the rest of the document.\n",
    "\n",
    "Running `%matplotlib inline` sets tthe output of plotting commands to be displayed inline like the Jupyter notebook, directly below the code cell that produced it. The resulting plots will then also be stored in the notebook document. This may already be a default for you but it is useful to run it anyway just in case."
   ]
  },
  {
   "cell_type": "code",
   "execution_count": null,
   "metadata": {},
   "outputs": [],
   "source": [
    "%matplotlib inline"
   ]
  },
  {
   "cell_type": "markdown",
   "metadata": {},
   "source": [
    "Let's explore the `plot()` method. It takes several arguments (see `plot.plot?` for more information), and plots a line between points.\n",
    "\n",
    "The most basic structure is to call a single x coordinate and y coordinate. This plots a **point**."
   ]
  },
  {
   "cell_type": "code",
   "execution_count": null,
   "metadata": {},
   "outputs": [],
   "source": [
    "plt.plot(3, 4,marker='o')"
   ]
  },
  {
   "cell_type": "code",
   "execution_count": null,
   "metadata": {},
   "outputs": [],
   "source": [
    "# Adding a colon removes some plot backend information\n",
    "plt.plot(3, 4,marker='o');"
   ]
  },
  {
   "cell_type": "markdown",
   "metadata": {},
   "source": [
    "We can also specify several **formatting** arguments."
   ]
  },
  {
   "cell_type": "code",
   "execution_count": null,
   "metadata": {
    "scrolled": true
   },
   "outputs": [],
   "source": [
    "plt.plot?"
   ]
  },
  {
   "cell_type": "code",
   "execution_count": null,
   "metadata": {},
   "outputs": [],
   "source": [
    "plt.plot(3, 4, marker='^',color='green',markersize=12)"
   ]
  },
  {
   "cell_type": "markdown",
   "metadata": {},
   "source": [
    "We can also plot a **line** by specifying lists of coordinates."
   ]
  },
  {
   "cell_type": "code",
   "execution_count": null,
   "metadata": {},
   "outputs": [],
   "source": [
    "plt.plot((3, 6), (4, 9))"
   ]
  },
  {
   "cell_type": "code",
   "execution_count": null,
   "metadata": {},
   "outputs": [],
   "source": [
    "# Longer line\n",
    "plt.plot((3, 6, 4), (4, 9, 7))"
   ]
  },
  {
   "cell_type": "code",
   "execution_count": null,
   "metadata": {},
   "outputs": [],
   "source": [
    "# With formatting\n",
    "plt.plot((3, 6), (4, 9), color='green', marker='o', linestyle='dashed',\n",
    "         linewidth=2, markersize=12)"
   ]
  },
  {
   "cell_type": "markdown",
   "metadata": {},
   "source": [
    "We can also **plot multiple things** together."
   ]
  },
  {
   "cell_type": "code",
   "execution_count": null,
   "metadata": {},
   "outputs": [],
   "source": [
    "plt.plot(3, 4, '.')\n",
    "plt.plot(6, 9, '^')\n",
    "plt.plot(4, 7, 'X', color='red', markersize=12)\n",
    "plt.plot((3, 6), (4, 9))\n",
    "plt.show()"
   ]
  },
  {
   "cell_type": "markdown",
   "metadata": {},
   "source": [
    "We can add **labels and titles** to the plot using  `plt.xlabel()`, `plt.ylabel()`, and `plt.title()`. See [this resource](https://www.w3schools.com/python/matplotlib_labels.asp) for more information!"
   ]
  },
  {
   "cell_type": "code",
   "execution_count": null,
   "metadata": {},
   "outputs": [],
   "source": [
    "plt.plot(3, 4, '.')\n",
    "plt.plot(6, 9, '^')\n",
    "plt.plot(4, 7, 'X', color='red', markersize=12)\n",
    "plt.plot((3, 6), (4, 9))\n",
    "plt.xlabel('Longitude')\n",
    "plt.ylabel('Latitude')\n",
    "plt.title('Path from A to B, showing point C')\n",
    "plt.show()"
   ]
  },
  {
   "cell_type": "markdown",
   "metadata": {},
   "source": [
    "We can also **save and output** the results of our figures using `plt.savefig()`. \n",
    "\n",
    "By default it goes to your working folder unless you specify something else."
   ]
  },
  {
   "cell_type": "code",
   "execution_count": null,
   "metadata": {},
   "outputs": [],
   "source": [
    "plt.plot(3, 4, '.')\n",
    "plt.plot(6, 9, '^')\n",
    "plt.plot(4, 7, 'X', color='red', markersize=12)\n",
    "plt.plot((3, 6), (4, 9))\n",
    "plt.xlabel('Longitude')\n",
    "plt.ylabel('Latitude')\n",
    "plt.title('Path from A to B, showing point C')\n",
    "plt.savefig('practice_fig.jpg')"
   ]
  },
  {
   "cell_type": "markdown",
   "metadata": {},
   "source": [
    "## Plotting existing data\n",
    "\n",
    "Much of the time we will have existing x and y variables we want to plot."
   ]
  },
  {
   "cell_type": "code",
   "execution_count": null,
   "metadata": {},
   "outputs": [],
   "source": [
    "x=[2,8,33,7,-1]\n",
    "y=[-3,8,3,4,3]\n",
    "plt.plot(x, y, '-o') # the dash says to link the points\n",
    "plt.show() # hides some of the descriptives about the plot"
   ]
  },
  {
   "cell_type": "code",
   "execution_count": null,
   "metadata": {},
   "outputs": [],
   "source": [
    "#Create two random variables as example\n",
    "import numpy as np\n",
    "\n",
    "x = np.random.normal(size=100)\n",
    "y = np.random.normal(size=100)\n",
    "plt.plot(x,y,'o')"
   ]
  },
  {
   "cell_type": "markdown",
   "metadata": {},
   "source": [
    "## Using subplots\n",
    "\n",
    "Plots can also be organized by axes and subplots. Passing these arguments allows you to specify things like the figure size and to graph things side by side."
   ]
  },
  {
   "cell_type": "code",
   "execution_count": null,
   "metadata": {},
   "outputs": [],
   "source": [
    "fig, ax = plt.subplots(ncols=1, figsize=(8,8))\n",
    "ax.plot(x,y,'o')\n",
    "plt.show()"
   ]
  },
  {
   "cell_type": "markdown",
   "metadata": {},
   "source": [
    "## Plotting data from data frames. \n",
    "\n",
    "There are two ways to do this.\n",
    "1. You can call the columns directly, e.g., `df['column']`.\n",
    "2. You can specify column names if they are indexed, and then add `data=df`.\n",
    "\n",
    "Let's practice with the gapminder dataset and the `plt.scatter` method, which plots a scatterplot rather than a connected line."
   ]
  },
  {
   "cell_type": "code",
   "execution_count": null,
   "metadata": {},
   "outputs": [],
   "source": [
    "df.columns"
   ]
  },
  {
   "cell_type": "code",
   "execution_count": null,
   "metadata": {},
   "outputs": [],
   "source": [
    "plt.plot(df['year'], df['lifeExp'],'o')"
   ]
  },
  {
   "cell_type": "code",
   "execution_count": null,
   "metadata": {
    "scrolled": true
   },
   "outputs": [],
   "source": [
    "# identical method\n",
    "plt.scatter('year', 'lifeExp', data=df)"
   ]
  },
  {
   "cell_type": "markdown",
   "metadata": {},
   "source": [
    "Let's plot life expectancy and GDP per capita by year from the gapminder dataset on side by side graphs."
   ]
  },
  {
   "cell_type": "code",
   "execution_count": null,
   "metadata": {},
   "outputs": [],
   "source": [
    "fig, ax = plt.subplots(ncols=2, figsize=(12,6))\n",
    "ax[0].scatter('year', 'lifeExp', data=df)\n",
    "ax[1].scatter('year', 'gdpPercap', data=df)\n",
    "ax[0].set_title('Life expectancy')\n",
    "ax[1].set_title('GDP per capita')\n",
    "for x in range(2):\n",
    "    ax[x].set_xlabel('Year')\n",
    "plt.show()"
   ]
  },
  {
   "cell_type": "markdown",
   "metadata": {},
   "source": [
    "**Practice:** Create a figure with two subplots on separate rows. In the first, plot lifeExp against gdpPercap before 1980. In the second, plot lifeExp against gdpPercap after 1980. Add titles to each subfigure and to the axes. Save the plot to your working directory."
   ]
  },
  {
   "cell_type": "code",
   "execution_count": null,
   "metadata": {},
   "outputs": [],
   "source": [
    "# Code here"
   ]
  }
 ],
 "metadata": {
  "kernelspec": {
   "display_name": "Python 3 (ipykernel)",
   "language": "python",
   "name": "python3"
  },
  "language_info": {
   "codemirror_mode": {
    "name": "ipython",
    "version": 3
   },
   "file_extension": ".py",
   "mimetype": "text/x-python",
   "name": "python",
   "nbconvert_exporter": "python",
   "pygments_lexer": "ipython3",
   "version": "3.9.21"
  }
 },
 "nbformat": 4,
 "nbformat_minor": 4
}
