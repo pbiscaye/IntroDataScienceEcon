{
 "cells": [
  {
   "cell_type": "markdown",
   "id": "b3cb1cf3",
   "metadata": {},
   "source": [
    "# Section 3. Data Wrangling and Visualization Practice\n",
    "\n",
    "#### Instructor: Pierre Biscaye\n",
    "\n",
    "The content of this notebook draws on material from UC Berkeley's D-Lab Python Fundamentals [course](https://github.com/dlab-berkeley/Python-Fundamentals)."
   ]
  },
  {
   "cell_type": "markdown",
   "id": "06cce884",
   "metadata": {},
   "source": [
    "## Challenge 1: Putting Methods in Order\n",
    "\n",
    "In the following code we want to to find the top-3 most frequently occurring continents in our data. First, load the gapminder data. Don't forget to import pandas first!"
   ]
  },
  {
   "cell_type": "code",
   "execution_count": null,
   "id": "5336b00e",
   "metadata": {},
   "outputs": [],
   "source": [
    "# Code here"
   ]
  },
  {
   "cell_type": "markdown",
   "id": "62708a7b",
   "metadata": {},
   "source": [
    " Then, put the following code fragments in the right order in a single line of code to get this information!"
   ]
  },
  {
   "cell_type": "code",
   "execution_count": null,
   "id": "f8ea1cee",
   "metadata": {},
   "outputs": [],
   "source": [
    ".head(3)\n",
    ".value_counts()\n",
    "df['continent']"
   ]
  },
  {
   "cell_type": "markdown",
   "id": "a3a6795d",
   "metadata": {},
   "source": [
    "## Challenge 2: Subsetting Data Frames\n",
    "\n",
    "Besides `==` we can use [other operators](https://www.w3schools.com/python/gloss_python_comparison_operators.asp) to compare values. For instance:\n",
    "- `<` less than\n",
    "- `>` greater than\n",
    "\n",
    "Fill in the code below to subset the gapminder data frame to include only people with a life expectancy (`lifeExp`) less than 50. Then, use the `.shape` attribute to determine how many observations meet this criterion."
   ]
  },
  {
   "cell_type": "code",
   "execution_count": null,
   "id": "ee77db04",
   "metadata": {},
   "outputs": [],
   "source": [
    "# Code here\n",
    "df[df[...] < ...]"
   ]
  },
  {
   "cell_type": "markdown",
   "id": "1ac4da6f",
   "metadata": {},
   "source": [
    "## Challenge 3: Subsetting and Calculating the Mean\n",
    "\n",
    "Let's make use of subsetting to do some calculation! Calculate the **mean life expectancy** for a continent of your choice in the gapminder dataset. \n",
    "\n",
    "This means you will have to:\n",
    "1. Subset the `continent` column using a Boolean mask.\n",
    "2. Take the `lifeExp` column from that subset.\n",
    "3. Apply a Pandas method to get the mean from that column.\n",
    "\n",
    "You might not know how to get the mean of a column – yet! If that's the case, **use your search engine**.\n",
    "\n",
    "1. Enter the name of the computer language or package, and your question (for instance: \"python Pandas calculate mean\").\n",
    "2. Read and compare the results you find.\n",
    "3. Try 'em out!"
   ]
  },
  {
   "cell_type": "code",
   "execution_count": null,
   "id": "e346cf68",
   "metadata": {},
   "outputs": [],
   "source": [
    "# Code here"
   ]
  },
  {
   "cell_type": "markdown",
   "id": "6716c970",
   "metadata": {},
   "source": [
    "## Challenge 4: Get Vectorized\n",
    "\n",
    "Say the `year` column contains wrong information and we need to add one year to each value. Use a vectorized operation to get this done."
   ]
  },
  {
   "cell_type": "code",
   "execution_count": null,
   "id": "089d9d7d",
   "metadata": {},
   "outputs": [],
   "source": [
    "# code here"
   ]
  },
  {
   "cell_type": "markdown",
   "id": "4e119ed7",
   "metadata": {},
   "source": [
    "## Challenge 5: Bar plots of mean life expectancy\n",
    "\n",
    "Suppose we want to plot the maximums over time for each country's life expectancy, from lowest to highest across countries.\n",
    "\n",
    "You should approach this in 3 steps.\n",
    "1. Calculate max life expectancy by country using `groupby()`, and save this as a new data frame.\n",
    "2. Sort the values from lowest to highest.\n",
    "3. Plot this in a bar plot."
   ]
  },
  {
   "cell_type": "code",
   "execution_count": null,
   "id": "aacda985",
   "metadata": {},
   "outputs": [],
   "source": [
    "# code here"
   ]
  },
  {
   "cell_type": "markdown",
   "id": "ed985816",
   "metadata": {},
   "source": [
    "## Challenge 6: Loops and Plots\n",
    "\n",
    "Let's say you have a list of countries you want to compare life expectancy for, using a single lineplot. We will create a function for this.\n",
    "\n",
    "We have set up the list and function for you. The function uses the `matplotlib` package for plotting.\n",
    "\n",
    "Your goal is to:\n",
    "1. Add three country names in the DataFrame to `country_list`.\n",
    "2. Add two parameters to the function; one for a DataFrame, and one for the list of countries.\n",
    "3. Within the function block, loop over the list of countries. \n",
    "4. Within the for-loop, add the loop variable you named in step 3.\n",
    "5. In the `label=` parameter of `plt.plot()`, fill in the loop variable name as well.\n",
    "\n",
    "Run the cell when you're done: if you've succeeded, you should see a single line plot with life expectancy for all of the countries in `country_list`."
   ]
  },
  {
   "cell_type": "code",
   "execution_count": null,
   "id": "e714f19c",
   "metadata": {},
   "outputs": [],
   "source": [
    "import matplotlib.pyplot as plt\n",
    "\n",
    "# YOUR CODE HERE\n",
    "\n",
    "country_list = [..., ..., ...]\n",
    "\n",
    "# Edit this code.\n",
    "# Note: If you did not load gapminder as 'df', you will have to load it again with that name or change the code below\n",
    "\n",
    "def plot_life_expectancy(..., ...):\n",
    "    for ... in ...:\n",
    "        country_data = df[df['country'] == ...]\n",
    "        plt.plot(country_data['year'], country_data['lifeExp'], label=...)\n",
    "    plt.legend()\n",
    "    plt.show()\n",
    "\n",
    "plot_life_expectancy(df, country_list)"
   ]
  },
  {
   "cell_type": "markdown",
   "id": "efe0fe2c",
   "metadata": {},
   "source": [
    "## Challenge 7: Subplots\n",
    "\n",
    "Let's create a grid of 3 subplots arranged vertically, where we plot the mean of each variable in the gapminder dataset (pop, lifeExp, and gdpPercap) by year as a line plot. \n",
    "\n",
    "Here are the steps you will take\n",
    "1. Create a data frame with the mean values for each variable across countries by year.\n",
    "2. Create a plot visualizing these variables vertically using matplotlib. Use `fig, ax = plt.subplots(nrows=3, figsize=(#,#))\n",
    "` to achieve this, specifying your own plot size.\n",
    "3. Plot each subplot using `ax[#].plot()` and making it a line plot by using `-o` as the marker type. This tells it to plot connected dots.\n",
    "4. Add x-axis and y-axis labels for each subplot using `ax[number].set_xlabel` and equivalent for ylabel.\n",
    "\n",
    "Then, save the resulting figure to your working directory."
   ]
  },
  {
   "cell_type": "code",
   "execution_count": null,
   "id": "283618fa",
   "metadata": {},
   "outputs": [],
   "source": [
    "# code here"
   ]
  },
  {
   "cell_type": "markdown",
   "id": "f4749d4f",
   "metadata": {},
   "source": [
    "## Challenge 8: Summary stats\n",
    "\n",
    "Produce a table of summary statistics for numerical variables in the gapminder dataset. Include the 5th and 95 percentile. Pivot the table so each row is the statistics for a given variable. Save this table as a CSV in your working folder."
   ]
  },
  {
   "cell_type": "code",
   "execution_count": null,
   "id": "f5ccb37d",
   "metadata": {},
   "outputs": [],
   "source": [
    "# code here"
   ]
  },
  {
   "cell_type": "markdown",
   "id": "aa0d9faf",
   "metadata": {},
   "source": [
    "## Challenge 9: Relationships between variables\n",
    "\n",
    "Using the gapminder dataset, plot the relationship between gdpPercap and lifeExp. Add a line showing the estimated linear relationship between the two variables.\n",
    "\n",
    "Make sure you label your axes, add a legend for the regression line, and title the figure. Save it as a jpg in your working folder."
   ]
  },
  {
   "cell_type": "code",
   "execution_count": null,
   "id": "91a99097",
   "metadata": {},
   "outputs": [],
   "source": [
    "# code here"
   ]
  }
 ],
 "metadata": {
  "kernelspec": {
   "display_name": "Python 3 (ipykernel)",
   "language": "python",
   "name": "python3"
  },
  "language_info": {
   "codemirror_mode": {
    "name": "ipython",
    "version": 3
   },
   "file_extension": ".py",
   "mimetype": "text/x-python",
   "name": "python",
   "nbconvert_exporter": "python",
   "pygments_lexer": "ipython3",
   "version": "3.9.21"
  }
 },
 "nbformat": 4,
 "nbformat_minor": 5
}
