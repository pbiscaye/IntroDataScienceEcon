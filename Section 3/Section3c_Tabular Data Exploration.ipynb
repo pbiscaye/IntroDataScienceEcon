{
 "cells": [
  {
   "cell_type": "markdown",
   "id": "c1429357",
   "metadata": {},
   "source": [
    "# Section 3. Tabular Data Exploration\n",
    "\n",
    "#### Instructor: Pierre Biscaye\n",
    "\n",
    "The content of this notebook draws on material from Gabor's Data Analysis in Python [course](https://github.com/gabors-data-analysis/da-coding-python).\n",
    "    \n",
    "This notebook covers some additional basics of working with tabular data. \n",
    "It does not go into details of regression analysis or other econometrics as that is out of scope for the course. \n",
    "We will cover more details of regression analysis in a later notebook as we prepare to get into machine learning.  \n",
    "    \n",
    "### Sections\n",
    "    \n",
    "1. Descriptive statistics for data frames                       \n",
    "2. Checking for outliers\n",
    "3. Hypothesis testing\n",
    "4. Associations between variables\n",
    "   "
   ]
  },
  {
   "cell_type": "markdown",
   "id": "9cd86029",
   "metadata": {},
   "source": [
    "### Let's start by importing packages we know we'll need"
   ]
  },
  {
   "cell_type": "code",
   "execution_count": null,
   "id": "27ace825",
   "metadata": {},
   "outputs": [],
   "source": [
    "import numpy as np\n",
    "import pandas as pd\n",
    "import matplotlib.pyplot as plt"
   ]
  },
  {
   "cell_type": "markdown",
   "id": "7dd747d9",
   "metadata": {},
   "source": [
    "## Import Data\n",
    "\n",
    "We'll be using data from the billion price project. The Billion Prices [project](http://www.thebillionpricesproject.com/) collects online and offline prices of selected products sold by selected retailers. It was founded in 2008 by Alberto Cavallo and Roberto Rigobon and aims to collect price information all over the world. \n",
    "\n",
    "The data are available as a CSV online, so we can practice loading that directly into a data frame. \n",
    "\n",
    "*Note*: the encoding ensures special characters are read in correctly. Different encodings may be needed for different text files."
   ]
  },
  {
   "cell_type": "code",
   "execution_count": null,
   "id": "d1f5fb45",
   "metadata": {},
   "outputs": [],
   "source": [
    "bpp_original = pd.read_csv(\"https://osf.io/yhbr5/download\", encoding=\"latin-1\")\n"
   ]
  },
  {
   "cell_type": "code",
   "execution_count": null,
   "id": "7e0a1e9f",
   "metadata": {},
   "outputs": [],
   "source": [
    "# Check variables\n",
    "bpp_original.columns\n"
   ]
  },
  {
   "cell_type": "markdown",
   "id": "a2002286",
   "metadata": {},
   "source": [
    "Let's **create a new variable**, the price difference between the online and offline price."
   ]
  },
  {
   "cell_type": "code",
   "execution_count": null,
   "id": "191375c0",
   "metadata": {},
   "outputs": [],
   "source": [
    "bpp_original[\"p_diff\"] = bpp_original[\"price_online\"] - bpp_original[\"price\"]\n"
   ]
  },
  {
   "cell_type": "markdown",
   "id": "ae97b733",
   "metadata": {},
   "source": [
    "## 1. Descriptive statistics\n",
    "\n",
    "First, check all the variables in DataFrame using the built-in summary statistics method `describe()`. Note that this only applies to numeric variables."
   ]
  },
  {
   "cell_type": "code",
   "execution_count": null,
   "id": "564c29d4",
   "metadata": {},
   "outputs": [],
   "source": [
    "bpp_original.describe()\n"
   ]
  },
  {
   "cell_type": "markdown",
   "id": "acbbb4a7",
   "metadata": {},
   "source": [
    "Compare key variables"
   ]
  },
  {
   "cell_type": "code",
   "execution_count": null,
   "id": "6794acec",
   "metadata": {},
   "outputs": [],
   "source": [
    "bpp_original.filter([\"price\", \"price_online\", \"p_diff\"]).describe()\n"
   ]
  },
  {
   "cell_type": "code",
   "execution_count": null,
   "id": "26691982-7121-4d55-ab7d-1d94c6f2e85d",
   "metadata": {},
   "outputs": [],
   "source": [
    "# Suppress scientific notation in Pandas\n",
    "pd.options.display.float_format = '{:.2f}'.format\n",
    "bpp_original.filter([\"price\", \"price_online\", \"p_diff\"]).describe()"
   ]
  },
  {
   "cell_type": "markdown",
   "id": "cb8c183b",
   "metadata": {},
   "source": [
    "We can also request specific percentiles in the summary stats."
   ]
  },
  {
   "cell_type": "code",
   "execution_count": null,
   "id": "999df6b9",
   "metadata": {},
   "outputs": [],
   "source": [
    "bpp_original.filter([\"price\", \"price_online\", \"p_diff\"]).describe(percentiles=[0.25, 0.5, 0.75, 0.95])"
   ]
  },
  {
   "cell_type": "code",
   "execution_count": null,
   "id": "4803674e",
   "metadata": {},
   "outputs": [],
   "source": [
    "# Every 10th percentile\n",
    "bpp_original.filter([\"price\", \"price_online\", \"p_diff\"]).describe(percentiles = np.arange(0.1, 1, 0.1))"
   ]
  },
  {
   "cell_type": "markdown",
   "id": "eab7cc2b",
   "metadata": {},
   "source": [
    "Put the descriptives into columns and variables into rows for a nicer looking table."
   ]
  },
  {
   "cell_type": "code",
   "execution_count": null,
   "id": "b4fac9a3",
   "metadata": {
    "scrolled": true
   },
   "outputs": [],
   "source": [
    "sumstats = bpp_original.filter([\"price\", \"price_online\", \"p_diff\"]).describe().transpose()\n",
    "sumstats"
   ]
  },
  {
   "cell_type": "markdown",
   "id": "d4d6f9b8",
   "metadata": {},
   "source": [
    "Let's export this table as a csv!"
   ]
  },
  {
   "cell_type": "code",
   "execution_count": null,
   "id": "1346042e",
   "metadata": {},
   "outputs": [],
   "source": [
    "sumstats.to_csv('bpp_sumstats.csv', index=True)"
   ]
  },
  {
   "cell_type": "markdown",
   "id": "95f521b0",
   "metadata": {},
   "source": [
    "### Descriptive statistics by grouping variable.\n",
    "\n",
    "Let's look a price differences by country.\n",
    "\n",
    "For this, you need to group the data and apply the required statistics to the appropriate columns"
   ]
  },
  {
   "cell_type": "code",
   "execution_count": null,
   "id": "a7685f3d",
   "metadata": {},
   "outputs": [],
   "source": [
    "bpp_original.groupby(\"COUNTRY\").agg(\n",
    "    mean_price_diff=(\"p_diff\", \"mean\"), median_price_diff=(\"p_diff\", \"median\")\n",
    ")\n"
   ]
  },
  {
   "cell_type": "markdown",
   "id": "703115db",
   "metadata": {},
   "source": [
    "Let's create a new function calculating the range of values and add this to the descriptive statistics."
   ]
  },
  {
   "cell_type": "code",
   "execution_count": null,
   "id": "e91e77fe",
   "metadata": {},
   "outputs": [],
   "source": [
    "def range_function(x):\n",
    "    return x.max() - x.min()\n",
    "\n",
    "bpp_original.groupby(\"COUNTRY\").agg(\n",
    "    mean_price_diff=(\"p_diff\", \"mean\"),\n",
    "    median_price_diff=(\"p_diff\", \"median\"),\n",
    "    range_price_diff=(\"p_diff\", range_function),\n",
    ")\n"
   ]
  },
  {
   "cell_type": "markdown",
   "id": "58985538-530e-4042-9257-f5d66c05f98e",
   "metadata": {},
   "source": [
    "**Practice:** Load the gapminder.csv dataset. Aggregate the data by country, taking the max over years for lifeExp and gdpPercap. Print a table of descriptive statistics for this aggregated dataset, including the 95th percentile in addition to the default statistics. Pivot the table to show statistics as columns, and save it to your working directory."
   ]
  },
  {
   "cell_type": "code",
   "execution_count": null,
   "id": "1d59671d-4faa-4086-b18c-602698e66a59",
   "metadata": {},
   "outputs": [],
   "source": [
    "gap = pd.read_csv('Data/gapminder.csv')\n",
    "gap.columns"
   ]
  },
  {
   "cell_type": "code",
   "execution_count": null,
   "id": "6ef64bb0-e4d4-4a48-b820-dd98a449ca53",
   "metadata": {},
   "outputs": [],
   "source": [
    "# Code here"
   ]
  },
  {
   "cell_type": "markdown",
   "id": "dfb2b3f7",
   "metadata": {},
   "source": [
    "## 2. Checking for outliers\n",
    "\n",
    "Before digging deep into analysis, it is useful to visualize the distribution of variables. This is particularly useful for checking for outliers which can unduly affect any analysis.\n",
    "\n",
    "Let's use the built in pandas `hist()` function."
   ]
  },
  {
   "cell_type": "code",
   "execution_count": null,
   "id": "8165a7b7",
   "metadata": {},
   "outputs": [],
   "source": [
    "bpp_original['price'].hist(); # adding ; at the end clears a display of the type of output"
   ]
  },
  {
   "cell_type": "markdown",
   "id": "f7fbe5fd",
   "metadata": {},
   "source": [
    "It is clear: we need to filter out some outlier data!"
   ]
  },
  {
   "cell_type": "code",
   "execution_count": null,
   "id": "bd90cda5",
   "metadata": {},
   "outputs": [],
   "source": [
    "# check out the max, compared to p75!\n",
    "bpp_original.filter([\"price\"]).describe().transpose()"
   ]
  },
  {
   "cell_type": "markdown",
   "id": "dead1ea8",
   "metadata": {},
   "source": [
    "Let's drop obvious **outliers** for price. \n",
    "\n",
    "One possibility is just eyeballing based on the histogram and choosing a round cutoff as a threshold for identifying outliers, such as $1000.\n",
    "\n",
    "Another possibility is taking a more statistical approach and identifying a percentile cutoff, such as the 95th or 99th percentile. \n",
    "\n",
    "After identifying a threshold for outliers, we have to decide how to deal with them. We could:\n",
    "1. Drop all observations of price above that threshold\n",
    "2. Set them to missing (which effectively drops them from any analysis)\n",
    "3. Replace them with other values.\n",
    "\n",
    "Replacing outliers with another value is called **winsorizing**. Common winsorizing values are the median or the value at the cutoff point. It is a good idea to check the sensitivity of your analyses to how you deal with outliers.\n",
    "\n",
    "For now, let's drop rows where price is above the 95th percentile."
   ]
  },
  {
   "cell_type": "code",
   "execution_count": null,
   "id": "32d534b6",
   "metadata": {},
   "outputs": [],
   "source": [
    "# Calculate the 95th percentile of the price column\n",
    "percentile_95 = bpp_original['price'].quantile(0.95)\n",
    "print(percentile_95)\n",
    "\n",
    "# Drop rows where price is above the 95th percentile\n",
    "bpp = bpp_original[bpp_original['price'] <= percentile_95]\n",
    "\n",
    "print(bpp.shape)\n",
    "print(bpp_original.shape)\n"
   ]
  },
  {
   "cell_type": "code",
   "execution_count": null,
   "id": "8e8feac7",
   "metadata": {},
   "outputs": [],
   "source": [
    "bpp.filter([\"price\", \"price_online\", \"p_diff\"]).describe()"
   ]
  },
  {
   "cell_type": "code",
   "execution_count": null,
   "id": "6300d610",
   "metadata": {},
   "outputs": [],
   "source": [
    "bpp['price'].hist()"
   ]
  },
  {
   "cell_type": "code",
   "execution_count": null,
   "id": "62841f4d",
   "metadata": {},
   "outputs": [],
   "source": [
    "#how does the number of bins affect the usefulness of the plot?\n",
    "bpp['price'].hist(bins=5)"
   ]
  },
  {
   "cell_type": "code",
   "execution_count": null,
   "id": "c34b8374",
   "metadata": {},
   "outputs": [],
   "source": [
    "bpp['price'].hist(bins=25)"
   ]
  },
  {
   "cell_type": "markdown",
   "id": "a368f0e9",
   "metadata": {},
   "source": [
    "#### Kernel density\n",
    "\n",
    "Histogram or kernel density? A kernel density line is an approximation of the probability density function and is another useful way of plotting the distribution of a variable.\n",
    " \n",
    "We can plot kernel densities using the `seaborn` library."
   ]
  },
  {
   "cell_type": "code",
   "execution_count": null,
   "id": "d7508604",
   "metadata": {},
   "outputs": [],
   "source": [
    "import seaborn as sns"
   ]
  },
  {
   "cell_type": "code",
   "execution_count": null,
   "id": "eb7ba466",
   "metadata": {},
   "outputs": [],
   "source": [
    "# Create a histogram with a KDE curve\n",
    "sns.histplot(bpp['price'], kde=True, bins=25, color='blue', alpha=0.5)\n",
    "plt.xlabel('Price')\n",
    "plt.ylabel('Frequency')\n",
    "plt.title('Histogram and KDE for Price')\n",
    "plt.show()"
   ]
  },
  {
   "cell_type": "code",
   "execution_count": null,
   "id": "db95fa5f",
   "metadata": {},
   "outputs": [],
   "source": [
    "# Now for price differences\n",
    "sns.histplot(bpp['p_diff'], kde=True, bins=25, color='blue', alpha=0.5)\n",
    "plt.xlabel('Price difference')\n",
    "plt.ylabel('Frequency')\n",
    "plt.title('Histogram and KDE for Price difference')\n",
    "plt.show()"
   ]
  },
  {
   "cell_type": "markdown",
   "id": "1910ae97",
   "metadata": {},
   "source": [
    "We still have some large outliers! Let's **trim** the  dataset to drop observations where the online price is above the 95th percentile in the original data."
   ]
  },
  {
   "cell_type": "code",
   "execution_count": null,
   "id": "cdb48c89",
   "metadata": {},
   "outputs": [],
   "source": [
    "# Calculate the 95th percentile of the price column\n",
    "percentile_95 = bpp_original['price_online'].quantile(0.95)\n",
    "print(percentile_95)\n",
    "print(bpp.shape)\n",
    "\n",
    "# Drop rows where price is above the 99th percentile\n",
    "bpp = bpp[bpp['price_online'] <= percentile_95]\n",
    "print(bpp.shape)\n"
   ]
  },
  {
   "cell_type": "code",
   "execution_count": null,
   "id": "9eb6c682",
   "metadata": {},
   "outputs": [],
   "source": [
    "bpp.filter([\"price\", \"price_online\", \"p_diff\"]).describe()"
   ]
  },
  {
   "cell_type": "code",
   "execution_count": null,
   "id": "e417fbd2",
   "metadata": {},
   "outputs": [],
   "source": [
    "# Now for price differences\n",
    "sns.histplot(bpp['p_diff'], kde=True, bins=25, color='blue', alpha=0.5)\n",
    "plt.xlabel('Price difference')\n",
    "plt.ylabel('Frequency')\n",
    "plt.title('Histogram and KDE for Price difference')\n",
    "plt.show()"
   ]
  },
  {
   "cell_type": "markdown",
   "id": "97d48e7d-3878-4cad-b851-709ec5ac4f33",
   "metadata": {},
   "source": [
    "**Practice:** Plot histograms of GDP per capita and life expectancy in the gapminder dataset. Do there appear to be any outliers? Drop observations above the 99th percentile for any variable with large positive outliers, and plot the distribution again."
   ]
  },
  {
   "cell_type": "code",
   "execution_count": null,
   "id": "29fd840e-b9f8-429a-ad69-ff774666c05c",
   "metadata": {},
   "outputs": [],
   "source": [
    "# Code here"
   ]
  },
  {
   "cell_type": "markdown",
   "id": "f092b450",
   "metadata": {},
   "source": [
    "## 3. Hypothesis testing \n",
    "\n",
    "All econometric analysis revolves around testing hypotheses about values in the data.\n",
    "\n",
    "Let's start with a simple hypothesis tests about whether there is any difference between online and offline prices for the goods in this sample.\n",
    "\n",
    "Test 1: \n",
    "\n",
    "H0: the average price difference between price_online - price = 0 \\\n",
    "HA: the avg price diff is non-0.\n",
    "\n",
    "We will use the `stats` package from the `scipy` library for this analysis."
   ]
  },
  {
   "cell_type": "code",
   "execution_count": null,
   "id": "9e64e0de",
   "metadata": {},
   "outputs": [],
   "source": [
    "from scipy import stats"
   ]
  },
  {
   "cell_type": "code",
   "execution_count": null,
   "id": "edc4fc1d",
   "metadata": {},
   "outputs": [],
   "source": [
    "stats.ttest_1samp(bpp[\"p_diff\"], 0)"
   ]
  },
  {
   "cell_type": "markdown",
   "id": "a7ccb7f5",
   "metadata": {},
   "source": [
    "*Question*: What do we conclude?\n",
    "\n",
    "Let us create multiple hypothesis tests to check the hypothesis that online prices are the same as offline for each country!"
   ]
  },
  {
   "cell_type": "code",
   "execution_count": null,
   "id": "a389be17",
   "metadata": {},
   "outputs": [],
   "source": [
    "testing = bpp.groupby(\"COUNTRY\").agg(\n",
    "    mean_pdiff=(\"p_diff\", \"mean\"),\n",
    "    se_pdiff=(\"p_diff\", \"sem\"),\n",
    "    num_obs=(\"p_diff\", \"count\"),\n",
    ")\n",
    "testing\n"
   ]
  },
  {
   "cell_type": "markdown",
   "id": "680327e9",
   "metadata": {},
   "source": [
    "With these statistics we can calculate t-stats for the null hypothesis that the difference is 0 in each country."
   ]
  },
  {
   "cell_type": "code",
   "execution_count": null,
   "id": "6bbe1b09",
   "metadata": {},
   "outputs": [],
   "source": [
    "testing[\"t_stat\"] = testing[\"mean_pdiff\"] / testing[\"se_pdiff\"]\n",
    "testing[\"p_val\"] = stats.t.sf(abs(testing[\"t_stat\"]), df=testing[\"num_obs\"] - 1).round(4)\n",
    "testing\n"
   ]
  },
  {
   "cell_type": "markdown",
   "id": "a49b3f71",
   "metadata": {},
   "source": [
    "*Econometrics review*: Interpret the results for each country.\n",
    "\n",
    "What are the possible dangers of multiple hypothesis testing?"
   ]
  },
  {
   "cell_type": "markdown",
   "id": "d0a2f18b",
   "metadata": {},
   "source": [
    "## 4. Association\n",
    "\n",
    "We are generally most interested in analyzing the relationship between two or more variables.\n",
    "\n",
    "A good way to start is by plotting variables against each other."
   ]
  },
  {
   "cell_type": "code",
   "execution_count": null,
   "id": "a4529c88",
   "metadata": {},
   "outputs": [],
   "source": [
    "plt.figure(figsize=(10, 6))\n",
    "plt.scatter(bpp['price_online'], bpp['price'], alpha=0.6)\n",
    "plt.show()"
   ]
  },
  {
   "cell_type": "markdown",
   "id": "16793cec",
   "metadata": {},
   "source": [
    "If all the points were on the 45 degree line, that would indicate that two values are perfectly equal.\n",
    "\n",
    "Let's add a 45 degree line."
   ]
  },
  {
   "cell_type": "code",
   "execution_count": null,
   "id": "96ba11ac",
   "metadata": {},
   "outputs": [],
   "source": [
    "plt.figure(figsize=(10, 6))\n",
    "plt.scatter(bpp['price_online'], bpp['price'], alpha=0.6)\n",
    "plt.axline([0, 0], [1, 1], color='black')"
   ]
  },
  {
   "cell_type": "markdown",
   "id": "d6ce31da",
   "metadata": {},
   "source": [
    "We can also estimate the linear relationship between the two variables using a linear regression, and add that to the plot.\n",
    "\n",
    "Let's use the `linregress` function from the `scipy` `stats` package."
   ]
  },
  {
   "cell_type": "code",
   "execution_count": null,
   "id": "8f5a7930",
   "metadata": {},
   "outputs": [],
   "source": [
    "stats.linregress(bpp['price_online'], bpp['price'])"
   ]
  },
  {
   "cell_type": "code",
   "execution_count": null,
   "id": "c49a5edd",
   "metadata": {},
   "outputs": [],
   "source": [
    "# We can extract individual elements\n",
    "slope=stats.linregress(bpp['price_online'], bpp['price']).slope\n",
    "int=stats.linregress(bpp['price_online'], bpp['price']).intercept\n",
    "slope"
   ]
  },
  {
   "cell_type": "markdown",
   "id": "d6736942",
   "metadata": {},
   "source": [
    "Let's use these results to add the regression line to the plot."
   ]
  },
  {
   "cell_type": "code",
   "execution_count": null,
   "id": "ae8f32fd",
   "metadata": {},
   "outputs": [],
   "source": [
    "plt.figure(figsize=(10, 6))\n",
    "plt.scatter(bpp['price_online'], bpp['price'], alpha=0.6)\n",
    "plt.axline([0, 0], [1, 1], color='black', label='45 degree line')\n",
    "plt.axline(xy1=(0,int), slope=slope, color='red', label='Linear regression') # plot line with a point and a slop\n",
    "plt.ylabel('Price', fontsize=12)\n",
    "plt.xlabel('Price Online', fontsize=12)\n",
    "plt.title('Association between price online vs offline', fontsize=14)\n",
    "plt.legend(fontsize=10)\n",
    "plt.show()"
   ]
  },
  {
   "cell_type": "markdown",
   "id": "913bc8d6",
   "metadata": {},
   "source": [
    "*Question*: What do you conclude from this analysis?"
   ]
  },
  {
   "cell_type": "markdown",
   "id": "4fa1c17e",
   "metadata": {},
   "source": [
    "### Running regressions\n",
    "\n",
    "There are many packages for running regressions in python. Another common one is the statsmodels formula api from the `statsmodels` library. This function allows you to specify the regression equation as a string, and produces output tables similar to what you might see in Stata or R."
   ]
  },
  {
   "cell_type": "code",
   "execution_count": null,
   "id": "4907ac6b",
   "metadata": {},
   "outputs": [],
   "source": [
    "import statsmodels.formula.api as smf"
   ]
  },
  {
   "cell_type": "code",
   "execution_count": null,
   "id": "c8c52f05",
   "metadata": {},
   "outputs": [],
   "source": [
    "simple_reg = smf.ols(\"price ~ price_online\", data=bpp).fit()\n",
    "print(simple_reg.summary())"
   ]
  },
  {
   "cell_type": "markdown",
   "id": "1f8119b3",
   "metadata": {},
   "source": [
    "Simple model, with heteroskedastic robust SE:"
   ]
  },
  {
   "cell_type": "code",
   "execution_count": null,
   "id": "a1c79980",
   "metadata": {},
   "outputs": [],
   "source": [
    "heterorob_reg = smf.ols(\"price ~ price_online\", data=bpp).fit(cov_type=\"HC3\")\n",
    "print(simple_reg.summary())"
   ]
  },
  {
   "cell_type": "markdown",
   "id": "b2cec3de",
   "metadata": {},
   "source": [
    "We can easily add controls in this package, but adding things like fixed effects requires using different packages. \n",
    "\n",
    "You will have to do some searching to figure out what works best for your needs!\n",
    "\n",
    "This is not an econometrics class so we will not go any further into regressions for now, but there are great resources available if you want to do regression analysis in python."
   ]
  },
  {
   "cell_type": "code",
   "execution_count": null,
   "id": "bbc5afc9",
   "metadata": {},
   "outputs": [],
   "source": [
    "multiv_reg = smf.ols(\"price ~ price_online + year\", data=bpp).fit()\n",
    "print(multiv_reg.summary())"
   ]
  },
  {
   "cell_type": "code",
   "execution_count": null,
   "id": "e9f3b756-6a96-4dcd-afbe-757bf8db30cd",
   "metadata": {},
   "outputs": [],
   "source": []
  }
 ],
 "metadata": {
  "kernelspec": {
   "display_name": "Python 3 (ipykernel)",
   "language": "python",
   "name": "python3"
  },
  "language_info": {
   "codemirror_mode": {
    "name": "ipython",
    "version": 3
   },
   "file_extension": ".py",
   "mimetype": "text/x-python",
   "name": "python",
   "nbconvert_exporter": "python",
   "pygments_lexer": "ipython3",
   "version": "3.9.21"
  },
  "vscode": {
   "interpreter": {
    "hash": "02379600d2c1f831ab2aaa73197210a962cfb04f271ff099e74c1844ff770bad"
   }
  }
 },
 "nbformat": 4,
 "nbformat_minor": 5
}
