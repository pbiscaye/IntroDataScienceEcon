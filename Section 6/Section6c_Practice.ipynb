{
 "cells": [
  {
   "cell_type": "markdown",
   "metadata": {},
   "source": [
    "# Section 6. Spatial Data Practice\n",
    "\n",
    "#### Instructor: Pierre Biscaye\n"
   ]
  },
  {
   "cell_type": "code",
   "execution_count": null,
   "metadata": {},
   "outputs": [],
   "source": [
    "# Import all the packages you will need here, using the usual conventions\n",
    "\n",
    "# Import Packages\n",
    "\n",
    "import numpy as np\n",
    "import matplotlib.pyplot as plt\n",
    "import geopandas as gpd\n",
    "import pandas as pd\n",
    "import sys\n",
    "import rasterio\n",
    "from matplotlib.colors import LinearSegmentedColormap\n",
    "\n",
    "%matplotlib inline"
   ]
  },
  {
   "cell_type": "markdown",
   "metadata": {},
   "source": [
    "# Matching raster and point data\n",
    "\n",
    "In this challenge you will work on data on the locations of World Bank projects from AidData. \n",
    "\n",
    "This geocoded dataset release represents all World Bank projects in the IBRD and IDA lending lines approved from 1995-2014. You have access to the locations dataset. \n",
    "\n",
    "The objective of this challenge is to select WB projects from a particular country, and for each one assign geospatial values based on raster data. Use the internet or an LLM to help you figure out how to do the different tasks!\n",
    "\n",
    "## Challenge 1. Explore the WB data\n",
    "\n",
    "Load the WB_locations dataset and the country boundaries shapefile, and map the locations of WB projects.\n"
   ]
  },
  {
   "cell_type": "code",
   "execution_count": null,
   "metadata": {},
   "outputs": [],
   "source": [
    "# Your code here"
   ]
  },
  {
   "cell_type": "markdown",
   "metadata": {},
   "source": [
    "## Challenge 2.  Projects by country\n",
    "\n",
    "Using map algebra, calculate the total number of WB projects in each country of the world. Map this information, coloring each country by its number of projects."
   ]
  },
  {
   "cell_type": "code",
   "execution_count": null,
   "metadata": {},
   "outputs": [],
   "source": [
    "# Your code here"
   ]
  },
  {
   "cell_type": "markdown",
   "metadata": {},
   "source": [
    "## Challenge 3.  Countries by project\n",
    "\n",
    "Using the same or a different map algebra, identify which country each project is in and add this as a variable to your WB locations dataset. \n",
    "\n",
    "Using this information, map only the WB project locations of a country of your choice. Choose a country with at least 200 projects.\n",
    "\n",
    "Save this as a new object that contains only the location information for the WB projects in the country you choose (this will facilitate the next challenges).\n"
   ]
  },
  {
   "cell_type": "code",
   "execution_count": null,
   "metadata": {},
   "outputs": [],
   "source": [
    "# Your code here"
   ]
  },
  {
   "cell_type": "markdown",
   "metadata": {},
   "source": [
    "## Challenge 4. Identifying Agroecological Zones\n",
    "\n",
    "Load the GAEZ agroecological zones tif file. Map it together with the WB project locations of the country of your choice, applying a mask to only show GAEZ values in the country. \n",
    "\n",
    "Then, determine the GAEZ value for the pixel in which each project is located and assign that as a new variable to the WB projects dataset. "
   ]
  },
  {
   "cell_type": "code",
   "execution_count": null,
   "metadata": {},
   "outputs": [],
   "source": [
    "# Your code"
   ]
  },
  {
   "cell_type": "markdown",
   "metadata": {},
   "source": [
    "## Challenge 5. Identifying population\n",
    "\n",
    "Load the GPW 2020 population tif file. Map it together with the WB project locations of the country of your choice, applying a mask to only show population values in the country. \n",
    "\n",
    "Then, determine the population value for the pixel in which each project is located and assign that as a new variable to the WB projects dataset. "
   ]
  },
  {
   "cell_type": "code",
   "execution_count": null,
   "metadata": {},
   "outputs": [],
   "source": [
    "# Your code here"
   ]
  },
  {
   "cell_type": "markdown",
   "metadata": {},
   "source": [
    "## Challenge 6. Comparing characteristics\n",
    "\n",
    "Using a basic regression, test whether being located in a different agroecological zone is associated with differences in population of the surrounding area for World Bank project locations in your chosen country."
   ]
  },
  {
   "cell_type": "code",
   "execution_count": null,
   "metadata": {},
   "outputs": [],
   "source": [
    "# Your code here"
   ]
  }
 ],
 "metadata": {
  "kernelspec": {
   "display_name": "Python 3 (ipykernel)",
   "language": "python",
   "name": "python3"
  },
  "language_info": {
   "codemirror_mode": {
    "name": "ipython",
    "version": 3
   },
   "file_extension": ".py",
   "mimetype": "text/x-python",
   "name": "python",
   "nbconvert_exporter": "python",
   "pygments_lexer": "ipython3",
   "version": "3.9.18"
  }
 },
 "nbformat": 4,
 "nbformat_minor": 4
}
