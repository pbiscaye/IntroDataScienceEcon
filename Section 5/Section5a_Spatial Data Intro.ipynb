{
 "cells": [
  {
   "cell_type": "markdown",
   "metadata": {},
   "source": [
    "# Section 5. Spatial Data - tabular data and shapefiles\n",
    "\n",
    "#### Instructor: Pierre Biscaye\n",
    "\n",
    "The content of this notebook draws on material from UC Berkeley's Spatial Data Analysis [course](https://docs.google.com/document/d/1oC10pjyeBQTenQazCpaB8Lx1b5PC1SR3WFiPgCtXqcs/edit?tab=t.0) notes by [Jaecheol Lee](https://sites.google.com/view/jaecheollee).\n",
    "    \n",
    "### Learning Objectives \n",
    "    \n",
    "* Practice working with pandas dataframes that include point data\n",
    "* Introduction to basic calculations involving spatial information\n",
    "* Understand about different types of spatial data and geometries\n",
    "* Practice mapping spatial data using shapely and geopandas\n",
    "* Work on manipulating spatial objects using shapely methods\n",
    "\n",
    "### Sections\n",
    "1. Tabular spatial data using pandas\n",
    "2. Calculations with point data\n",
    "3. Shapely and geopandas"
   ]
  },
  {
   "cell_type": "markdown",
   "metadata": {},
   "source": [
    "## 0. Loading modules"
   ]
  },
  {
   "cell_type": "code",
   "execution_count": null,
   "metadata": {},
   "outputs": [],
   "source": [
    "import pandas as pd\n",
    "import numpy as np\n",
    "import matplotlib.pyplot as plt\n",
    "%matplotlib inline"
   ]
  },
  {
   "cell_type": "code",
   "execution_count": null,
   "metadata": {},
   "outputs": [],
   "source": [
    "# Check what you have loaded \n",
    "dir()"
   ]
  },
  {
   "cell_type": "code",
   "execution_count": null,
   "metadata": {},
   "outputs": [],
   "source": [
    "# Suppress scientific notation in Pandas \n",
    "# set default to displaying full float numbers with 2 decimal places\n",
    "pd.options.display.float_format = '{:.2f}'.format"
   ]
  },
  {
   "cell_type": "markdown",
   "metadata": {},
   "source": [
    "## 1. Loading and Inspecting Tabular Spatial Data\n",
    "\n",
    "We will be working with a dataset on crime which has types and locations of crimes. It is extracted from a larger dataset.\n",
    "\n",
    "The data are in tabular format, but still represent spatial data because some of the tabular data include geographic/spatial information!"
   ]
  },
  {
   "cell_type": "code",
   "execution_count": null,
   "metadata": {},
   "outputs": [],
   "source": [
    "# Load crime.csv \n",
    "df = pd.read_csv('data/crime.csv')\n",
    "# inspect the data\n",
    "df.head()"
   ]
  },
  {
   "cell_type": "code",
   "execution_count": null,
   "metadata": {},
   "outputs": [],
   "source": [
    "# Check the shape\n",
    "df.shape"
   ]
  },
  {
   "cell_type": "markdown",
   "metadata": {},
   "source": [
    "Let's add a year variable."
   ]
  },
  {
   "cell_type": "code",
   "execution_count": null,
   "metadata": {},
   "outputs": [],
   "source": [
    "df['year'] = [2020,2020,2020,2020,2020]\n",
    "# another way to do this is df['year'] = np.repeat(2020, 5)"
   ]
  },
  {
   "cell_type": "code",
   "execution_count": null,
   "metadata": {},
   "outputs": [],
   "source": [
    "# we could also have done this based on the incident_id, if we had a variation in year\n",
    "df['year2'] = df['incident_id'].str[:4]\n",
    "df"
   ]
  },
  {
   "cell_type": "code",
   "execution_count": null,
   "metadata": {
    "scrolled": true
   },
   "outputs": [],
   "source": [
    "# Get simple summary statistics using the .describe method\n",
    "df.describe().transpose()"
   ]
  },
  {
   "cell_type": "code",
   "execution_count": null,
   "metadata": {},
   "outputs": [],
   "source": [
    "# Sometimes have meaningful ID variable that might want to index on\n",
    "# Can set the incident_id as the index\n",
    "df2=df.set_index('incident_id')\n",
    "df2"
   ]
  },
  {
   "cell_type": "code",
   "execution_count": null,
   "metadata": {},
   "outputs": [],
   "source": [
    "# Some spatial data are missing\n",
    "df['lat'].isna() \n",
    "df['lat'].notna()"
   ]
  },
  {
   "cell_type": "code",
   "execution_count": null,
   "metadata": {},
   "outputs": [],
   "source": [
    "# Let's drop rows with any missing data\n",
    "df=df.dropna(how = 'any') # inplace argument is False by default\n",
    "df"
   ]
  },
  {
   "cell_type": "markdown",
   "metadata": {},
   "source": [
    "Let's plot the coordinates! Here we will pass `lat` as the y argument and `lon` as the x argument."
   ]
  },
  {
   "cell_type": "code",
   "execution_count": null,
   "metadata": {},
   "outputs": [],
   "source": [
    "plt.plot(df['lon'],df['lat'], '+')\n",
    "plt.show()"
   ]
  },
  {
   "cell_type": "markdown",
   "metadata": {},
   "source": [
    "## 2. Calculations with point data\n",
    "\n",
    "The observations in `df` are **point data**. They are identified spatially by a point, or a pair of x and y coordinates. \n",
    "\n",
    "### Calculating distances\n",
    "\n",
    "One basic thing we can do with points is calculate distances. Let's calculate distances from each point to a fixed reference point (suppose it's a police station) and add that to the dataframe."
   ]
  },
  {
   "cell_type": "code",
   "execution_count": null,
   "metadata": {},
   "outputs": [],
   "source": [
    "# First add a new variable with all missing values (accumulator)\n",
    "df['dist_pt']=np.nan\n",
    "\n",
    "# Define cordinates of the reference point\n",
    "ref=[-122.26,37.87]\n",
    "\n",
    "# Calculate the distance from ref for each observation using a loop\n",
    "for i in range(4): # loop over number of observations\n",
    "    df.loc[i, 'dist_pt']=((df['lon'][i] - ref[0]) ** 2 +\n",
    "                      (df['lat'][i] - ref[1]) ** 2) ** 0.5\n",
    "    "
   ]
  },
  {
   "cell_type": "code",
   "execution_count": null,
   "metadata": {},
   "outputs": [],
   "source": [
    "# Older version of code generated warnings\n",
    "for i in range(4): # loop over number of observations\n",
    "    df['dist_pt'][i]=((df['lon'][i] - ref[0]) ** 2 +\n",
    "                      (df['lat'][i] - ref[1]) ** 2) ** 0.5\n",
    "    "
   ]
  },
  {
   "cell_type": "code",
   "execution_count": null,
   "metadata": {},
   "outputs": [],
   "source": [
    "# It is possible to suppress these kinds of warnings\n",
    "# But be aware you may lose some useful information\n",
    "import warnings\n",
    "warnings.filterwarnings('ignore')"
   ]
  },
  {
   "cell_type": "code",
   "execution_count": null,
   "metadata": {},
   "outputs": [],
   "source": [
    "# Set distance to km (roughly)\n",
    "df['dist_pt']=df['dist_pt']*111.11\n",
    "df"
   ]
  },
  {
   "cell_type": "markdown",
   "metadata": {},
   "source": [
    "How can we find the incident with the minimum distance?"
   ]
  },
  {
   "cell_type": "code",
   "execution_count": null,
   "metadata": {},
   "outputs": [],
   "source": [
    "print(float('inf'))"
   ]
  },
  {
   "cell_type": "code",
   "execution_count": null,
   "metadata": {},
   "outputs": [],
   "source": [
    "# If we use an enumerate loop:\n",
    "min_distance = float('inf') # first define a placeholder value for distance - needs to be very large\n",
    "min_i = None # a placeholder value for the index\n",
    "\n",
    "# Now loop through distance values to identify the minimum\n",
    "for i, distance in enumerate(df['dist_pt']):\n",
    "    if distance < min_distance: \n",
    "        min_distance = distance \n",
    "        min_i = i\n",
    "\n",
    "print(min_i)\n",
    "print(min_distance)"
   ]
  },
  {
   "cell_type": "code",
   "execution_count": null,
   "metadata": {},
   "outputs": [],
   "source": [
    "# There are also functions that calculates these values\n",
    "min_i = np.argmin(df['dist_pt'])\n",
    "min_dist = np.min(df['dist_pt'])\n",
    "\n",
    "print(min_i)\n",
    "print(min_dist)"
   ]
  },
  {
   "cell_type": "markdown",
   "metadata": {},
   "source": [
    "### Heat maps - Lambda calculation\n",
    "\n",
    "Lambda is a measure of intensity or density of events within a given radius. It is the ratio of the number of events within a given radius of a reference point to the area of the circle defined by that radius around the reference point.\n",
    "\n",
    "Variations on this kind of measure are used to generate heat maps. The version we will calculate is one particular case."
   ]
  },
  {
   "cell_type": "markdown",
   "metadata": {},
   "source": [
    "Below is an example of using Latex formatting within Jupyter Notebook. It gives an equation for calculation lambda.\n",
    "\n",
    "$$\n",
    "\\hat{\\lambda}(\\overrightarrow{\\underset{\\cdot}{s}}) =\\frac{1}{\\pi h^{2}} \\times \\sum_{j=1}^{N} \\mathbf{1}\\left[ dist(\\overrightarrow{\\underset{\\cdot}{s}}, \\overrightarrow{\\underset{\\cdot}{s_{inf\\_site\\; j}}})< h \\right]\n",
    "$$\n",
    "\n",
    "Let's generate some random data and use it to generate a heat map."
   ]
  },
  {
   "cell_type": "code",
   "execution_count": null,
   "metadata": {},
   "outputs": [],
   "source": [
    "# Set a seed to ensure we all get the same results.\n",
    "np.random.seed(123)\n",
    "\n",
    "# Random coordinates as numbers between 0 and 10\n",
    "x_coords = np.random.random(10) * 10\n",
    "y_coords = np.random.random(10) * 10\n",
    "\n",
    "x_coords, y_coords"
   ]
  },
  {
   "cell_type": "code",
   "execution_count": null,
   "metadata": {},
   "outputs": [],
   "source": [
    "# Plot the x_coords and the y_coords\n",
    "plt.plot(x_coords, y_coords, 'r*');"
   ]
  },
  {
   "cell_type": "code",
   "execution_count": null,
   "metadata": {},
   "outputs": [],
   "source": [
    "# Define a function to calculate the distance between two points\n",
    "def compute_distance(x0, y0, x1, y1):\n",
    "    dist = ((x0 - x1) ** 2 + (y0 - y1) ** 2) ** 0.5\n",
    "    return(dist)"
   ]
  },
  {
   "cell_type": "markdown",
   "metadata": {},
   "source": [
    "Now let's calculate lambda for a fixed point $s=$(3,3), and let's set the radius $h$ to 3 degrees.\n",
    "\n",
    "$$\n",
    "\\hat{\\lambda}(\\overrightarrow{\\underset{\\cdot}{s}}) =\\frac{1}{\\pi h^{2}} \\times \\sum_{j=1}^{N} \\mathbf{1}\\left[ dist(\\overrightarrow{\\underset{\\cdot}{s}}, \\overrightarrow{\\underset{\\cdot}{s_{j}}})< h \\right]\n",
    "$$"
   ]
  },
  {
   "cell_type": "code",
   "execution_count": null,
   "metadata": {
    "scrolled": true
   },
   "outputs": [],
   "source": [
    "h = 3\n",
    "\n",
    "# First, calculate the distance between the events and a point x = 3, y = 3\n",
    "# using list completion\n",
    "distance = [ compute_distance(3, 3, x_coords[i], y_coords[i]) for i in range(10) ]\n",
    "print(distance)\n",
    "\n",
    "# Second, count the number of pairs for which the distance is less than h\n",
    "distance = np.array(distance) # convert from list to array\n",
    "print(distance<h)\n",
    "num  = np.sum(distance<h)\n",
    "\n",
    "# Third, calculate lambda\n",
    "lambda_est = (1/(np.pi * (h ** 2))) * num\n",
    "print(lambda_est)"
   ]
  },
  {
   "cell_type": "markdown",
   "metadata": {},
   "source": [
    "##### Don't be confused with a lambda [function](https://stackoverflow.com/questions/890128/why-are-python-lambdas-useful)! \n",
    "1. A lambda function is a small anonymous function (defined without a name).\n",
    "2. A lambda function can take any number of arguments, but can only have one expression."
   ]
  },
  {
   "cell_type": "code",
   "execution_count": null,
   "metadata": {},
   "outputs": [],
   "source": [
    "# lambda is a one-line function:\n",
    "x = lambda a : a + 10\n",
    "print(x(2))\n",
    "\n",
    "# Equivalent to:\n",
    "def x(a):\n",
    "    b = a + 10\n",
    "    return(b)\n",
    "print(x(2))"
   ]
  },
  {
   "cell_type": "markdown",
   "metadata": {},
   "source": [
    "$$\n",
    "\\hat{\\lambda}(\\overrightarrow{\\underset{\\cdot}{s}}) =\\frac{1}{\\pi h^{2}} \\times \\sum_{j=1}^{N} \\mathbf{1}\\left[ dist(\\overrightarrow{\\underset{\\cdot}{s}}, \\overrightarrow{\\underset{\\cdot}{s_{inf\\_site\\; j}}})< h \\right]\n",
    "$$"
   ]
  },
  {
   "cell_type": "markdown",
   "metadata": {},
   "source": [
    "Let's **write a function** to calculate lambdas for a given reference point and set of point events."
   ]
  },
  {
   "cell_type": "code",
   "execution_count": null,
   "metadata": {},
   "outputs": [],
   "source": [
    "# Define a function to calculate the lambda given a point\n",
    "def lambda_function(x_ref, y_ref, x_events, y_events, h):\n",
    "    \"\"\" \n",
    "    x_ref and y_ref are coordinates of the reference point.\n",
    "    x_events and y_events are arrays of coordinates of event points.\n",
    "    h is the radius of interest for the lambda measure.\n",
    "    We calculate distances between the reference point and each event, using a previously created function.\n",
    "    These are linear distances in degrees that assume the earth is flat.\n",
    "    We then use this to calculate lambda.\n",
    "    \"\"\"\n",
    "    distance = [ compute_distance(x_ref, y_ref, x_events[i], y_events[i]) for i in range(len(x_events)) ]\n",
    "    distance = np.array(distance)\n",
    "    lambda_est = (1/(np.pi * (h ** 2))) * np.sum(distance<h)\n",
    "    return(lambda_est)"
   ]
  },
  {
   "cell_type": "code",
   "execution_count": null,
   "metadata": {},
   "outputs": [],
   "source": [
    "# Test it!\n",
    "print(lambda_function(5, 5, x_coords, y_coords, 3))\n",
    "print(lambda_function(7, 3, x_coords, y_coords, 3))"
   ]
  },
  {
   "cell_type": "markdown",
   "metadata": {},
   "source": [
    "### Creating a raster grid for a heatmap\n",
    "\n",
    "Now let's **make a heatmap** for the area around the event data we created!\n",
    "\n",
    "We don't want to just estimate densities at the locations of the events. Ideally, we want to calculate densities all across the map. \n",
    "\n",
    "To do this we will need to define a set of coordinates for the map. We can then calculate lambda for each point in the grid.\n",
    "\n",
    "We will start by creating a 10 x 10 raster grid covering the event area. We can do this using `numpy` and the `np.meshgrid` function and `np.ndarray.flatten` method."
   ]
  },
  {
   "cell_type": "code",
   "execution_count": null,
   "metadata": {},
   "outputs": [],
   "source": [
    "# How can we make a 10 X 10 grid?\n",
    "# The coordinates start from (0, 0) and end at (10, 10)\n",
    "# Use np.meshgrid to create the grid\n",
    "x, y = np.meshgrid(range(0, 11), range(0, 11)) # recall that the last number in range() is excluded\n",
    "x, y"
   ]
  },
  {
   "cell_type": "code",
   "execution_count": null,
   "metadata": {},
   "outputs": [],
   "source": [
    "x.flatten()"
   ]
  },
  {
   "cell_type": "code",
   "execution_count": null,
   "metadata": {},
   "outputs": [],
   "source": [
    "# How can we get all the coordinates?\n",
    "x, y = x.flatten(), y.flatten()\n",
    "\n",
    "# Plot the events (x_coords, y_coords) and the grid x, y coordinates in one plot.\n",
    "# With different markers\n",
    "plt.plot(x_coords, y_coords, 'ro')\n",
    "plt.plot(x, y, 'k+')\n",
    "plt.show()"
   ]
  },
  {
   "cell_type": "markdown",
   "metadata": {},
   "source": [
    "Now we have our reference points and our events.\n",
    "\n",
    "We can use the function we wrote earlier to calcualte lambda for all grid points based on the locations of the events."
   ]
  },
  {
   "cell_type": "code",
   "execution_count": null,
   "metadata": {},
   "outputs": [],
   "source": [
    "# Make a matrix of lambdas for all the locations\n",
    "# utilizing the function above and a double loop\n",
    "# let's use h=3 this time\n",
    "\n",
    "# First make an empty matrix accumulator\n",
    "matrix = np.zeros((11, 11))\n",
    "\n",
    "# Then loop over x and y coordinates and calculate lambda to fill the matrix\n",
    "for i in range(11):\n",
    "    for j in range(11): \n",
    "        # note that the y grid points are arranged differently so it's simpler to call the x coordinates twice\n",
    "        matrix[i, j] = lambda_function(x[i], x[j], x_coords, y_coords, 3)       \n",
    "\n",
    "# Flatten the matrix for mapping\n",
    "matrix = matrix.flatten()\n",
    "matrix"
   ]
  },
  {
   "cell_type": "markdown",
   "metadata": {},
   "source": [
    "Now we can **create a heatmap**!"
   ]
  },
  {
   "cell_type": "code",
   "execution_count": null,
   "metadata": {},
   "outputs": [],
   "source": [
    "# Plot the events (x_coords, y_coords) and the grid x, y coordinates in one plot.\n",
    "# With different markers\n",
    "plt.plot(x_coords, y_coords, 'ro')\n",
    "scatter=plt.scatter(x, y, c=matrix, marker='s', cmap='viridis', s=500, )\n",
    "plt.colorbar(scatter, label=\"Event density Lambda\")  # Add a colorbar\n",
    "plt.xlabel(\"Longitude\")\n",
    "plt.ylabel(\"Latitude\")\n",
    "plt.title(\"Heat map of event density\")\n",
    "plt.show()"
   ]
  },
  {
   "cell_type": "markdown",
   "metadata": {},
   "source": [
    "## 3. Shapely and Geopandas\n",
    "\n",
    "New let's transition to other types of geometries other than points. \n",
    "\n",
    "#### Geometries in shapely\n",
    "\n",
    "* [Intro to geometric objects in shapely](https://automating-gis-processes.github.io/2016/Lesson1-Geometric-Objects.html)\n",
    "\n",
    "__Structures of Geometries__\n",
    "\n",
    "* A `Point` is a collection of two (three) numbers, each representing x, y, (z,) coordinates.\n",
    "* A `LinearRing` is a sequence of points, with the last point being the same as the first one. (Here we skip the discussion on validity of geometries.)\n",
    "* A Polygon (e.g., `rectangles`) has one exterior `rectangles.exterior` (a `LinearRing`) and potentially multiple interiors `rectangles.interiors` (each element, e.g. `rectangles.interiors[0]`, is a `LinearRing`).\n",
    "* A `MultiPolygon` is a sequence of `Polygon`s."
   ]
  },
  {
   "cell_type": "code",
   "execution_count": null,
   "metadata": {},
   "outputs": [],
   "source": [
    "from shapely.geometry import (Point, LinearRing,\n",
    "                              Polygon, MultiPolygon)\n",
    "p = Point((1, 2))\n",
    "ring = LinearRing([(1, 2), (8, 4),\n",
    "                   (5, 10), (1, 2)])\n",
    "triangle = Polygon([(1, 2), (8, 4),\n",
    "                    (5, 10), (1, 2)])\n",
    "rectangles = Polygon(\n",
    "    # these are the exterior coordinates\n",
    "    [(2.5, 7), (9, 7), (9, 12), (2.5, 12), (2.5, 7)],\n",
    "    # these are the interior coordinates (the holes)\n",
    "    [[(3, 8), (4, 8), (4, 9), (3, 9), (3, 8)],\n",
    "     [(7, 10), (8, 10), (8, 11), (7, 11), (7, 10)]])\n",
    "mp = MultiPolygon([triangle, rectangles])"
   ]
  },
  {
   "cell_type": "code",
   "execution_count": null,
   "metadata": {},
   "outputs": [],
   "source": [
    "ring"
   ]
  },
  {
   "cell_type": "code",
   "execution_count": null,
   "metadata": {},
   "outputs": [],
   "source": [
    "triangle"
   ]
  },
  {
   "cell_type": "code",
   "execution_count": null,
   "metadata": {},
   "outputs": [],
   "source": [
    "# How do these look?\n",
    "rectangles"
   ]
  },
  {
   "cell_type": "code",
   "execution_count": null,
   "metadata": {},
   "outputs": [],
   "source": [
    "mp"
   ]
  },
  {
   "cell_type": "markdown",
   "metadata": {},
   "source": [
    "### Operations with shapely\n",
    "\n",
    "It implements many operations on geometries that would have been difficult and time consuming to write ourselves, including union, intersection, difference, buffer, distance, etc."
   ]
  },
  {
   "cell_type": "code",
   "execution_count": null,
   "metadata": {},
   "outputs": [],
   "source": [
    "# Usually the syntax is `NewObject = OneObject.operation(AnotherObject)`, for example\n",
    "result = triangle.intersection(rectangles)\n",
    "result"
   ]
  },
  {
   "cell_type": "code",
   "execution_count": null,
   "metadata": {},
   "outputs": [],
   "source": [
    "result = rectangles.union(triangle)\n",
    "result"
   ]
  },
  {
   "cell_type": "code",
   "execution_count": null,
   "metadata": {},
   "outputs": [],
   "source": [
    "result = rectangles.difference(triangle)\n",
    "result"
   ]
  },
  {
   "cell_type": "code",
   "execution_count": null,
   "metadata": {},
   "outputs": [],
   "source": [
    "result = rectangles.buffer(1)  # buffering\n",
    "result"
   ]
  },
  {
   "cell_type": "code",
   "execution_count": null,
   "metadata": {},
   "outputs": [],
   "source": [
    "from shapely.affinity import scale\n",
    "result = scale(rectangles, yfact=1.3)  # scaling\n",
    "result"
   ]
  },
  {
   "cell_type": "code",
   "execution_count": null,
   "metadata": {},
   "outputs": [],
   "source": [
    "result = scale(rectangles, xfact=2)  # scaling\n",
    "result"
   ]
  },
  {
   "cell_type": "code",
   "execution_count": null,
   "metadata": {},
   "outputs": [],
   "source": [
    "# Construct an ellipse/oval\n",
    "circle = Point((0, 0)).buffer(1)\n",
    "ellipse = scale(circle, yfact=1.5)\n",
    "ellipse"
   ]
  },
  {
   "cell_type": "markdown",
   "metadata": {},
   "source": [
    "### Plotting shapely objects in matplotlib\n"
   ]
  },
  {
   "cell_type": "code",
   "execution_count": null,
   "metadata": {},
   "outputs": [],
   "source": [
    "# What you need is 'coordinate information'\n",
    "# Get the x, y coordinates of the rectangles above using attribute exterior.xy\n",
    "lon, lat = rectangles.exterior.xy\n",
    "plt.plot(lon, lat, 'k-')\n",
    "plt.show()"
   ]
  },
  {
   "cell_type": "code",
   "execution_count": null,
   "metadata": {},
   "outputs": [],
   "source": [
    "# What about the interiors?\n",
    "lon, lat = rectangles.exterior.xy\n",
    "plt.plot(lon, lat, 'k-')\n",
    "for interior in rectangles.interiors:\n",
    "    lon, lat = interior.xy\n",
    "    plt.plot(lon, lat, 'k-')\n",
    "plt.show()"
   ]
  },
  {
   "cell_type": "code",
   "execution_count": null,
   "metadata": {},
   "outputs": [],
   "source": [
    "# plotting multiple shapes\n",
    "lon, lat = rectangles.exterior.xy\n",
    "plt.plot(lon, lat, 'k-')\n",
    "for interior in rectangles.interiors:\n",
    "    lon, lat = interior.xy\n",
    "    plt.plot(lon, lat, 'k-')\n",
    "tlon, tlat = triangle.exterior.xy\n",
    "plt.fill(tlon, tlat)\n",
    "plt.show()"
   ]
  },
  {
   "cell_type": "markdown",
   "metadata": {},
   "source": [
    "## shapely + pandas = geopandas\n",
    "\n",
    "A very common type of geospatial data file is called a shapefile, often with the .shp extension.\n",
    "\n",
    "* Traditionally: Thinking of shapefiles as a collection of shapes, each associated with many attributes\n",
    "* geopandas: Thinking of shapefiles as data frames\n",
    "     * Each observation in a GeoDataFrame is a shape (or geometry), usually Polygon, but can be other things\n",
    "     * One special column `df['geometry']` records that (these geometries are all shapely objects)\n",
    "     * All the other columns will be the attributes that are associated with the geometries\n",
    "\n",
    "Let's import `geopandas` and use it to load an example shapefile, which is based on the rectangles and triangle shapes created above."
   ]
  },
  {
   "cell_type": "code",
   "execution_count": null,
   "metadata": {},
   "outputs": [],
   "source": [
    "import geopandas as gpd\n",
    "df = gpd.read_file('data/demo.shp')"
   ]
  },
  {
   "cell_type": "code",
   "execution_count": null,
   "metadata": {},
   "outputs": [],
   "source": [
    "# Check it out\n",
    "df"
   ]
  },
  {
   "cell_type": "code",
   "execution_count": null,
   "metadata": {},
   "outputs": [],
   "source": [
    "# seamless integration with shapely\n",
    "geom = df.loc[0, 'geometry']\n",
    "type(geom)  # shapely Polygon"
   ]
  },
  {
   "cell_type": "code",
   "execution_count": null,
   "metadata": {},
   "outputs": [],
   "source": [
    "# Plotting in one line\n",
    "df.plot()\n",
    "plt.show()"
   ]
  },
  {
   "cell_type": "code",
   "execution_count": null,
   "metadata": {},
   "outputs": [],
   "source": [
    "# Use method loc to keep only the first line and try method plot.\n",
    "df.loc[0, :].plot()"
   ]
  },
  {
   "cell_type": "code",
   "execution_count": null,
   "metadata": {},
   "outputs": [],
   "source": [
    "# If you want to keep the geopandas dataframe class, use method cx:\n",
    "df.cx[0:1, :].plot() #### NOT 0 ####"
   ]
  },
  {
   "cell_type": "code",
   "execution_count": null,
   "metadata": {},
   "outputs": [],
   "source": [
    "df.cx[3:3, :].plot() #### NOT 0 ####"
   ]
  },
  {
   "cell_type": "code",
   "execution_count": null,
   "metadata": {},
   "outputs": [],
   "source": [
    "# Plotting with matplotlib\n",
    "plt.plot(df.loc[1, 'geometry'].exterior.xy[0], \n",
    "         df.loc[1, 'geometry'].exterior.xy[1], \n",
    "         'k-');"
   ]
  },
  {
   "cell_type": "code",
   "execution_count": null,
   "metadata": {
    "scrolled": true
   },
   "outputs": [],
   "source": [
    "# Plotting with matplotlib\n",
    "plt.plot(geom.exterior.xy[0], geom.exterior.xy[1], 'k-');"
   ]
  },
  {
   "cell_type": "code",
   "execution_count": null,
   "metadata": {},
   "outputs": [],
   "source": [
    "# Display a panel grid over the figure above:\n",
    "plt.plot(geom.exterior.xy[0], geom.exterior.xy[1], 'k-')\n",
    "plt.grid();"
   ]
  },
  {
   "cell_type": "markdown",
   "metadata": {},
   "source": [
    "Let's do another example with `hawaii.p`, a file with the coordinates of a point within Oahu and a multipolygon for the islands of Hawai'i.\n",
    "\n",
    "There is a particular method for loading python .p data files using the `pickle` library."
   ]
  },
  {
   "cell_type": "code",
   "execution_count": null,
   "metadata": {},
   "outputs": [],
   "source": [
    "# Open the file:\n",
    "import pickle\n",
    "with open('data/hawaii.p', 'rb') as f:\n",
    "    d = pickle.load(f)"
   ]
  },
  {
   "cell_type": "code",
   "execution_count": null,
   "metadata": {},
   "outputs": [],
   "source": [
    "# Inspect it\n",
    "d"
   ]
  },
  {
   "cell_type": "code",
   "execution_count": null,
   "metadata": {},
   "outputs": [],
   "source": [
    "type(d)"
   ]
  },
  {
   "cell_type": "code",
   "execution_count": null,
   "metadata": {},
   "outputs": [],
   "source": [
    "hawaii = d['hawaii']\n",
    "oahu = d['oahu']"
   ]
  },
  {
   "cell_type": "code",
   "execution_count": null,
   "metadata": {},
   "outputs": [],
   "source": [
    "type(hawaii)"
   ]
  },
  {
   "cell_type": "markdown",
   "metadata": {},
   "source": [
    "Let's plot the Hawaii multipolygon, and include the location of the point in Oahu. Note that multipolygons have the attribute `geoms` instead of `geom`.\n",
    "\n",
    "Let's also include a buffer around the Hawaiian islands with distance 0.5 (degrees). We can use the `buffer` method in shapely."
   ]
  },
  {
   "cell_type": "code",
   "execution_count": null,
   "metadata": {},
   "outputs": [],
   "source": [
    "hawaii_buff05 = hawaii.buffer(0.5)\n",
    "\n",
    "for island in hawaii.geoms: # note we iterate over the geometries in a multipolygon\n",
    "    lat, lon = island.exterior.xy\n",
    "    plt.plot(lon, lat, 'k-')\n",
    "for island in hawaii_buff05.geoms: # note we iterate over the geometries in a multipolygon\n",
    "    lat, lon = island.exterior.xy\n",
    "    plt.plot(lon, lat, 'b', linestyle='dashed')\n",
    "plt.plot(oahu['lon'],oahu['lat'], '*y', markersize=10)\n",
    "plt.grid()\n",
    "plt.show()"
   ]
  }
 ],
 "metadata": {
  "kernelspec": {
   "display_name": "Python 3 (ipykernel)",
   "language": "python",
   "name": "python3"
  },
  "language_info": {
   "codemirror_mode": {
    "name": "ipython",
    "version": 3
   },
   "file_extension": ".py",
   "mimetype": "text/x-python",
   "name": "python",
   "nbconvert_exporter": "python",
   "pygments_lexer": "ipython3",
   "version": "3.9.21"
  }
 },
 "nbformat": 4,
 "nbformat_minor": 4
}
