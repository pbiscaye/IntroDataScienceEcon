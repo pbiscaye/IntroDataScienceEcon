{
 "cells": [
  {
   "cell_type": "markdown",
   "metadata": {},
   "source": [
    "# Section 5. Spatial Data Practice\n",
    "\n",
    "#### Instructor: Pierre Biscaye\n",
    "\n",
    "The content of this notebook draws on material from UC Berkeley's Spatial Data Analysis [course](https://docs.google.com/document/d/1oC10pjyeBQTenQazCpaB8Lx1b5PC1SR3WFiPgCtXqcs/edit?tab=t.0) notes and lab exercises by [Jaecheol Lee](https://sites.google.com/view/jaecheollee) [course](https://github.com/dlab-berkeley/Python-Fundamentals)."
   ]
  },
  {
   "cell_type": "code",
   "execution_count": null,
   "metadata": {},
   "outputs": [],
   "source": [
    "import pickle\n",
    "import numpy as np\n",
    "from scipy import stats\n",
    "import pandas as pd\n",
    "import geopandas as gpd\n",
    "import matplotlib.pyplot as plt\n",
    "import rasterio\n",
    "import rasterio.transform\n",
    "import rasterio.mask\n",
    "import rasterio.warp\n",
    "import rasterio.windows\n",
    "from matplotlib.colors import LinearSegmentedColormap\n",
    "from shapely.geometry import (Point, LinearRing,\n",
    "                              Polygon, MultiPolygon)\n",
    "\n",
    "%matplotlib inline"
   ]
  },
  {
   "cell_type": "markdown",
   "metadata": {},
   "source": [
    "## Challenge 1: Distances between points\n",
    "\n",
    "The below data has (fake!) information on students, the locations of their homes, and locations of their favorite restaurants.\n",
    " \n",
    "```python\n",
    "pd.DataFrame({'name': ['A', 'B', 'C'], \n",
    "              'dep_lon': [3.0512085, 3.052085, 3.093580], \n",
    "              'dep_lat': [45.767776, 45.781205, 45.7709351], \n",
    "              'rest_lon': [3.060935, 3.0503950, 3.085095], \n",
    "              'rest_lat': [46.799595, 45.093523, 47.30595]}) \n",
    "```\n",
    "1. Calculate the matrix of distances between the students' homes and their favorite restaurants. Include distances from students to the restaurants of other students. Let's assume Earth is flat (!) and ignore the km conversion for distances.\n",
    "2. Identify the restaurant with smallest sum of distances to the 3 students.\n",
    "3. In two subplots in a figure, plot the home locations in a subplot and plot the restaurant locations in the other. Mark with a red star the restaurant which has the smallest sum of distance.\n",
    "\n",
    "Note: You might want to use np.zeros(3, 3) in procedure 1 to set the accumulator, and a double loop (loop within a loop)."
   ]
  },
  {
   "cell_type": "code",
   "execution_count": null,
   "metadata": {},
   "outputs": [],
   "source": [
    "file=pd.DataFrame({'name': ['A', 'B', 'C'], \n",
    "              'dep_lon': [3.0512085, 3.052085, 3.093580], \n",
    "              'dep_lat': [45.767776, 47.781205, 45.7709351], \n",
    "              'rest_lon': [3.060935, 3.0503950, 3.085095], \n",
    "              'rest_lat': [46.799595, 45.093523, 47.30595]}) "
   ]
  },
  {
   "cell_type": "code",
   "execution_count": null,
   "metadata": {},
   "outputs": [],
   "source": [
    "file"
   ]
  },
  {
   "cell_type": "code",
   "execution_count": null,
   "metadata": {},
   "outputs": [],
   "source": [
    "# Your code for step 1\n"
   ]
  },
  {
   "cell_type": "code",
   "execution_count": null,
   "metadata": {},
   "outputs": [],
   "source": [
    "# Your code for step 2\n"
   ]
  },
  {
   "cell_type": "code",
   "execution_count": null,
   "metadata": {},
   "outputs": [],
   "source": [
    "# Your code for step 3\n"
   ]
  },
  {
   "cell_type": "markdown",
   "metadata": {},
   "source": [
    "## Challenge 2. Exercises on indexing and plotting\n",
    "\n",
    "Let's practice indexing and plotting point data in a data frame using a dataset of crime events, `crime_locations.csv`."
   ]
  },
  {
   "cell_type": "code",
   "execution_count": null,
   "metadata": {},
   "outputs": [],
   "source": [
    "# Load the data\n",
    "df = "
   ]
  },
  {
   "cell_type": "code",
   "execution_count": null,
   "metadata": {},
   "outputs": [],
   "source": [
    "# inspect the data\n",
    "df"
   ]
  },
  {
   "cell_type": "markdown",
   "metadata": {},
   "source": [
    "### 2-1. Plot the first 10 crimes"
   ]
  },
  {
   "cell_type": "code",
   "execution_count": null,
   "metadata": {},
   "outputs": [],
   "source": [
    "# Get the first 10 x coordinates\n",
    "\n",
    "# Get the first 10 y coordinates\n",
    "\n",
    "# Plot the x coordinates and the y coordinates\n"
   ]
  },
  {
   "cell_type": "markdown",
   "metadata": {},
   "source": [
    "### 2-2. Plot the crimes that happened in May"
   ]
  },
  {
   "cell_type": "code",
   "execution_count": null,
   "metadata": {},
   "outputs": [],
   "source": [
    "# Get the x coordinates that happened in May\n",
    "\n",
    "# Get the y coordinates that heppened in May\n",
    "\n",
    "# Plot the x coordinates and the y coordinates\n"
   ]
  },
  {
   "cell_type": "markdown",
   "metadata": {},
   "source": [
    "### 2-3. Plot the crimes that happened in May and June\n",
    "\n",
    "Plot these on the same plot, using a different color and shape for each month."
   ]
  },
  {
   "cell_type": "code",
   "execution_count": null,
   "metadata": {},
   "outputs": [],
   "source": [
    "# Get the x coordinates that happened in May\n",
    "\n",
    "# Get the first y coordinates that heppened in May\n",
    "\n",
    "\n",
    "# Get the x coordinates that happened in June\n",
    "\n",
    "# Get the y coordinates that heppened in June\n",
    "\n",
    "# Plot the x coordinates and the y coordinates\n",
    "# With different markers for May and June\n"
   ]
  },
  {
   "cell_type": "markdown",
   "metadata": {},
   "source": [
    "### 2-4. Make a figure with subplots showing violent and nonviolent crimes"
   ]
  },
  {
   "cell_type": "code",
   "execution_count": null,
   "metadata": {},
   "outputs": [],
   "source": [
    "\n",
    "# Get the x coordinates of violent crimes\n",
    "\n",
    "# Get the y coordinates of violent crimes\n",
    "\n",
    "# Get the x coordinates of non-violent crimes\n",
    "\n",
    "# Get the y coordinates of non-violent crimes\n",
    "\n",
    "# Set a figure environment with appropriate rows and columns\n",
    "\n",
    "# Plot the x coordinates and the y coordinates\n",
    "# with different markers\n"
   ]
  },
  {
   "cell_type": "markdown",
   "metadata": {},
   "source": [
    "### 2-4. Make a heatmap of violent crimes!\n",
    "\n",
    "Follow the following code to:\n",
    "1. Make a grid of points\n",
    "2. Define a function to calcualte lambda (create a distance function first).\n",
    "3. Use the lambda function to calculate lambda for all grid points, using h=3\n",
    "4. Make a heat map"
   ]
  },
  {
   "cell_type": "code",
   "execution_count": null,
   "metadata": {},
   "outputs": [],
   "source": [
    "# 1. Make a grid"
   ]
  },
  {
   "cell_type": "code",
   "execution_count": null,
   "metadata": {},
   "outputs": [],
   "source": [
    "# 2. Lambda function\n"
   ]
  },
  {
   "cell_type": "code",
   "execution_count": null,
   "metadata": {},
   "outputs": [],
   "source": [
    "# 3. Calculating lambda\n"
   ]
  },
  {
   "cell_type": "code",
   "execution_count": null,
   "metadata": {},
   "outputs": [],
   "source": [
    "# 4. Making the heatmap\n"
   ]
  },
  {
   "cell_type": "markdown",
   "metadata": {},
   "source": [
    "## Challenge 3. Mapping polygons and buffers\n",
    "\n",
    "Working with the Hawai'i islands data, let's do an analysis in coast guard planning. \n",
    "\n",
    "Suppose there is a single fast-response heliport in Oahu, and the farthest it can travel for a rescue is 300km. \n",
    "\n",
    "You want to determine whether it can reach all of the coastal areas (within 20km of land) in Hawai'i.\n",
    "\n",
    "First, we'll load the Hawai'i data. This file contains some polygons for the state of Hawai'i. There are multiple polygons because the islands making up the Hawaiian archipelago are not contiguous. The file also contains data on the location of the heliport in Oahu. Because the boundaries are complex in structure, the file uses many points to describe the structure of the islands, making maps accurate but making the data difficult to examine by eye. \n",
    "\n",
    "**Begin by examining the data. How many separate polygons are there?**\n",
    "\n",
    "Hint: The polygons are of the class `shapely.geometry.MultiPolygon`. For many objects you can use the generic functions to learn about their properties: `dir()`, `len()` (for length), and `type()`."
   ]
  },
  {
   "cell_type": "code",
   "execution_count": null,
   "metadata": {},
   "outputs": [],
   "source": [
    "with open('Lab4_hawaii.p', 'rb') as f:\n",
    "    d = pickle.load(f)\n",
    "hawaii=d['hawaii']\n",
    "oahu=d['oahu']\n",
    "\n",
    "# your code here to see how many polygons are in Hawaii\n"
   ]
  },
  {
   "cell_type": "markdown",
   "metadata": {},
   "source": [
    "**Calculate the approximate number of degrees of longitude that would equal the flight range of a helicopter leaving Oahu** (Hint: this doesn't require Python, but if you use Python you may need the function `numpy.cos()`.). Also **calculate the number of degrees of longitude that would equal 20 km**, the off-coast distance that your helicopter team must monitor."
   ]
  },
  {
   "cell_type": "code",
   "execution_count": null,
   "metadata": {},
   "outputs": [],
   "source": [
    "# Fill in the below code\n",
    "\n",
    "def change_in_longitude(latitude, km):\n",
    "    \"Given a latitude and a distance in km, return the distance in degrees of longitude.\"\n",
    "    # Find the radius of a circle around the earth at given latitude, given radius of earth 6371km\n",
    "    \n",
    "    return \n",
    "\n",
    "h_range = change_in_longitude(...)\n",
    "print('The Oahu helicopter\\'s range is {} degrees longitude'.format(h_range))\n",
    "offcoast = change_in_longitude(...) \n",
    "print('The off-coast monitoring distance is {} degrees longitude'.format(offcoast))"
   ]
  },
  {
   "cell_type": "markdown",
   "metadata": {},
   "source": [
    "Now we will **create a multipolygon of coastal areas in Hawaii**.\n",
    "\n",
    "We start by creating a buffer around the Hawai'i multipolygon based on the offcoast distance, and then we difference it from Hawai'i to make a new multipolygon of just the coastal areas. This is easy in shapely using the `buffer` and `difference` methods."
   ]
  },
  {
   "cell_type": "code",
   "execution_count": null,
   "metadata": {},
   "outputs": [],
   "source": [
    "# Fill in the below code\n",
    "c_area = hawaii.buffer( ...  ).difference( ...  )"
   ]
  },
  {
   "cell_type": "markdown",
   "metadata": {},
   "source": [
    "Finally, let's **plot the range of the helicopter** and any coastal areas that are out of range. \n",
    "\n",
    "We will difference the coastal areas from the helicopter range to highlight which areas are at risk."
   ]
  },
  {
   "cell_type": "code",
   "execution_count": null,
   "metadata": {},
   "outputs": [],
   "source": [
    "# Fill in or edit the below code\n",
    "\n",
    "# Make the helicopter location a shapely point\n",
    "o_pt=Point(oahu['lat'],oahu['lon'])\n",
    "\n",
    "# Define a polygon with the range of the helicopter\n",
    "h_ellipse = o_pt.buffer( [object]  )\n",
    "\n",
    "# Identify uncovered coastal areas\n",
    "uncov = [object].difference([object])\n",
    "\n",
    "# Make the figure\n",
    "fig=plt.figure(figsize=(10,7))\n",
    "\n",
    "# Plot Hawaii\n",
    "for i in range(27):\n",
    "    plt.plot(hawaii.geoms[i].exterior.xy[1],\n",
    "             hawaii.geoms[i].exterior.xy[0],\n",
    "             c='green')\n",
    "\n",
    "# Plot the helipad with a red star, and label it \"Helicopter pad\"\n",
    "plt.plot(\n",
    "        \n",
    "    )\n",
    "\n",
    "# Plot the range of the helicopter with a purple dashed line and label it \"Helicopter range\"\n",
    "plt.plot(\n",
    "        \n",
    "    )\n",
    "\n",
    "# Plot the coastal monitoring areas with a blue dashed line and label it \n",
    "for i in range(len(c_area.geoms)):\n",
    "    plt.plot(\n",
    "        \n",
    "    )\n",
    "\n",
    "# Add a \"Coastal monitoring boundary\" label\n",
    "plt.plot([], [], c=, linestyle=, label='Coast monitoring boundary')\n",
    "\n",
    "# Plot the uncovered area and fill it in orange\n",
    "plt.fill(\n",
    "    , label='Uncovered area')\n",
    "plt.legend()\n",
    "plt.xlabel('Longitude')\n",
    "plt.ylabel('Latitude')\n",
    "plt.title('Range of Oahu fast-response heliport and uncovered monitoring area outside of range')\n",
    "plt.show()"
   ]
  },
  {
   "cell_type": "markdown",
   "metadata": {},
   "source": [
    "## Challenge 4. Overlay a raster and a shapefile\n",
    "\n",
    "Let's work with the GPW population data. We will zoom in on France and overlay the population data on administrative boundaries of France.\n",
    "\n",
    "The shapefile is `FRA_adm1.shp`. This file has the administrative boundaries of the regions of France.\n",
    "\n",
    "1. Load the GPW data using rasterio.\n",
    "2. Load the France admin boundary data using geopandas.\n",
    "3. Define a color scheme for mapping population and plot it.\n",
    "4. Add the boundaries of French regions over the population heat map.\n",
    "5. Zoom into France in the figure.\n",
    "6. Save the figure.\n",
    "\n",
    "If you want to push it, mask out the area outside France using the `FRA_adm0.shp` file.\n",
    "\n",
    "7. Do this again for a country of your choice. You can download administrative boundaries [here](https://gadm.org/download_country.html)."
   ]
  },
  {
   "cell_type": "code",
   "execution_count": null,
   "metadata": {},
   "outputs": [],
   "source": [
    "# Your code here, with some hints\n",
    "\n",
    "# 1\n",
    "dataset = rasterio.open('Data/GPW.tif')\n",
    "band = dataset.read(1)"
   ]
  },
  {
   "cell_type": "code",
   "execution_count": null,
   "metadata": {},
   "outputs": [],
   "source": [
    "# 2\n",
    "fra = gpd.read_file()\n",
    "\n",
    "# explore the bounds to determine how to set the zoom parameters\n",
    "fra.bounds"
   ]
  },
  {
   "cell_type": "code",
   "execution_count": null,
   "metadata": {},
   "outputs": [],
   "source": [
    "# 3 \n",
    "nodes = [...]  # positions for each color from 0-1\n",
    "color_scheme = [...]  # corresponds to nodes\n",
    "custom_cmap = LinearSegmentedColormap.from_list(\n",
    "    'custom_name', list(zip(nodes, color_scheme)))\n",
    "custom_cmap.set_under(...)  # set values under vmin to ...\n",
    "custom_cmap.set_over(...)  # set values over vmax to ..."
   ]
  },
  {
   "cell_type": "code",
   "execution_count": null,
   "metadata": {},
   "outputs": [],
   "source": [
    "# 4 and 5\n",
    "\n",
    "# Plotting starts\n",
    "fig, ax = plt.subplots(figsize=(10, 4))\n",
    "\n",
    "# Heat map\n",
    "im = ax.imshow(\n",
    "    \n",
    ")\n",
    "fig.colorbar(im)\n",
    "\n",
    "# France admin  boundaries\n",
    "fra.plot(ax=ax,color='none', edgecolor='k', alpha=0.3)\n",
    "\n",
    "# Zoom in\n",
    "ax.set_xlim()\n",
    "ax.set_ylim()\n",
    "\n",
    "# Label axes and title\n",
    "ax.set_xlabel('Longitude')\n",
    "ax.set_ylabel('Latitude')\n",
    "ax.set_title('Population in France (Source: CIESIN 2018)')\n",
    "\n",
    "# 6 save"
   ]
  },
  {
   "cell_type": "code",
   "execution_count": null,
   "metadata": {},
   "outputs": [],
   "source": [
    "# 7 Your code here"
   ]
  },
  {
   "cell_type": "markdown",
   "metadata": {},
   "source": [
    "## Challenge 5: Mapping time series\n",
    "\n",
    "Pick a location in Australia and examine the time series of January rainfall at that location using `AustraliaRainfall.nc`. \n",
    "\n",
    "In a new figure with two subplots, first plot the rainfall field in January of 2006 across space in one subplot. On top of this image, mark the location that you will examine with a white circle. \n",
    "\n",
    "In the second subplot, plot January rainfall in each year as a time series (so \"years\" is on the x-axis) at the specified location."
   ]
  },
  {
   "cell_type": "code",
   "execution_count": null,
   "metadata": {},
   "outputs": [],
   "source": [
    "# code here\n",
    "\n",
    "# import libraries\n",
    "\n",
    "# load the data\n",
    "\n",
    "# set the environment for multiple subplots\n",
    "fig, (ax0, ax1) = plt.subplots( ... )\n",
    "\n",
    "# Plot the data\n",
    "# You might want to set ax argument within the plot method, e.g. data.plot(ax = ax0)\n"
   ]
  },
  {
   "cell_type": "markdown",
   "metadata": {},
   "source": [
    "## Challenge 6: Map algebra\n",
    "\n",
    "Use the same Australia rainfall data.\n",
    "\n",
    "1. Calculate the historical mean rainfall for January, April and August. Plot on the same figure and use the same colorbar."
   ]
  },
  {
   "cell_type": "code",
   "execution_count": null,
   "metadata": {},
   "outputs": [],
   "source": [
    "# Set an environment for a plot with three subplots\n",
    "fig, (ax1, ax4, ax8) = plt.subplots(...)\n",
    "\n",
    "# plot the 3 plots using .sel().mean().plot(ax=ax#)\n",
    "# specify a common vmin and vmax to ensure the same colorbar\n",
    "# choose any colormap you like.\n",
    "\n",
    "plt.tight_layout()\n",
    "plt.show()"
   ]
  },
  {
   "cell_type": "markdown",
   "metadata": {},
   "source": [
    "2. Now use map algebra to plot the deviation of total 2006 rainfall from historical average annual rainfall, as a percentage of historical averages. Map that."
   ]
  },
  {
   "cell_type": "code",
   "execution_count": null,
   "metadata": {},
   "outputs": [],
   "source": [
    "# You need two bands to calculate the deviation \n",
    "# 1. The 2006 total rainfall data: A\n",
    "rain_2006 = \n",
    "# 2. The average annual rainfall data: B\n",
    "rain_mean = \n",
    "# Numerator: their difference, Denominator: the average\n",
    "deviation = ((rain_2006 - rain_mean) / rain_mean)\n",
    "\n",
    "# Plot it\n",
    "\n"
   ]
  }
 ],
 "metadata": {
  "kernelspec": {
   "display_name": "Python 3 (ipykernel)",
   "language": "python",
   "name": "python3"
  },
  "language_info": {
   "codemirror_mode": {
    "name": "ipython",
    "version": 3
   },
   "file_extension": ".py",
   "mimetype": "text/x-python",
   "name": "python",
   "nbconvert_exporter": "python",
   "pygments_lexer": "ipython3",
   "version": "3.9.21"
  }
 },
 "nbformat": 4,
 "nbformat_minor": 4
}
