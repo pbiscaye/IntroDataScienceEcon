{
 "cells": [
  {
   "cell_type": "markdown",
   "metadata": {},
   "source": [
    "# Section 5. Raster Data\n",
    "\n",
    "#### Instructor: Pierre Biscaye\n",
    "\n",
    "The content of this notebook draws on material from UC Berkeley's Spatial Data Analysis [course](https://docs.google.com/document/d/1oC10pjyeBQTenQazCpaB8Lx1b5PC1SR3WFiPgCtXqcs/edit?tab=t.0) notes by [Jaecheol Lee](https://sites.google.com/view/jaecheollee).\n",
    "    \n",
    "### Learning Objectives \n",
    "    \n",
    "* Learn how to load and view raster data\n",
    "* Understand masking of spatial objects\n",
    "* Learn how to work with multidimensional raster data\n",
    "* Practice basic map algebra\n",
    "* Focus on visualizing spatial data\n",
    "  \n",
    "### Sections\n",
    "1. Loading and mapping rasters using rasterio\n",
    "2. Masking spatial data\n",
    "3. Working with multidimensional rasters using xarray"
   ]
  },
  {
   "cell_type": "markdown",
   "metadata": {},
   "source": [
    "## 0. Loading modules\n",
    "\n",
    "In this notebook we will be working with a new library `rasterio` that helps work with raster spatial data. "
   ]
  },
  {
   "cell_type": "code",
   "execution_count": null,
   "metadata": {},
   "outputs": [],
   "source": [
    "# Loading modules\n",
    "import pickle\n",
    "import numpy as np\n",
    "from scipy import stats\n",
    "import geopandas as gpd\n",
    "import matplotlib.pyplot as plt\n",
    "import rasterio\n",
    "import rasterio.transform\n",
    "import rasterio.mask\n",
    "import rasterio.warp\n",
    "import rasterio.windows\n",
    "\n",
    "from matplotlib.colors import LinearSegmentedColormap\n",
    "from shapely.geometry import (Point, LinearRing,\n",
    "                              Polygon, MultiPolygon)\n",
    "\n",
    "%matplotlib inline"
   ]
  },
  {
   "cell_type": "markdown",
   "metadata": {},
   "source": [
    "# 1. Loading and mapping rasters\n",
    "\n",
    "#### What is a raster?\n",
    "\n",
    "**Raster files** are images built from pixels — tiny color squares that, in great quantity, can form highly detailed images such as photographs. The more pixels an image has, the higher quality it will be, and vice versa.\n",
    "\n",
    "Raster files can include many different extensions but all include the same basic type of information.\n",
    "\n",
    "When a raster is a spatial object we can map the locations of the pixels in the image to locations on a map, and use the information in each pixel (which may have several layers) to plot spatial information."
   ]
  },
  {
   "cell_type": "markdown",
   "metadata": {},
   "source": [
    "<img src=\"Image/raster_vector.jpg\" width = \"500\">\n",
    "\n",
    "[Source: tellyourtale.com](https://tellyourtale.com/graphic-design/which-graphic-file-format-is-best-vector-and-raster-images/)\n",
    "\n",
    "<img src=\"Image/smile.png\" width = \"350\">\n",
    "\n",
    "[Source: Wikipedia](https://en.wikipedia.org/wiki/Raster_graphics)"
   ]
  },
  {
   "cell_type": "markdown",
   "metadata": {},
   "source": [
    "#### TIFF and GeoTIFF files\n",
    "\n",
    "Two of the most common types of raster files are:\n",
    "* TIFF: Tagged Image File Format for storing raster graphics images.\n",
    "* GeoTIFF: TIFF file with georeferencing information embedded.\n",
    "\n",
    "Think of a GeoTIFF file as a collection of actual rasters (we will later deal with them as `numpy.ndarray`) and a collection of metadata that contains georeferencing information. The potential metadata information includes map projection, coordinate systems, and everything else necessary to establish the exact spatial reference for the file. \n",
    "\n",
    "In this notebook we will be using data fromm the [Gridded Population of the World data set](https://sedac.ciesin.columbia.edu/data/set/gpw-v4-population-count-rev11) produced by a team at Columbia University. We'll be using the version provided at a 15 arcminute or a 0.25 degree resolution (about 30km). This version of the dataset describes the total number of individuals that are estimated to have lived in each grid cell in the year 2000.\n",
    "\n"
   ]
  },
  {
   "cell_type": "markdown",
   "metadata": {},
   "source": [
    "#### Using `rasterio` to view raster metadata.\n",
    "\n",
    "We now start exploring how to use `rasterio` to read existing GeoTIFF files and perform some useful operations on them. "
   ]
  },
  {
   "cell_type": "code",
   "execution_count": null,
   "metadata": {},
   "outputs": [],
   "source": [
    "dataset = rasterio.open('Data/GPW.tif')"
   ]
  },
  {
   "cell_type": "markdown",
   "metadata": {},
   "source": [
    "Let's check the metadata (data that provides information about other data) of the GeoTIFF file first.\n",
    "\n",
    "We want to know how many layers (bands) there are in the file. A band is like a layer, or a channel. An RGB image, for example, has three channels/bands/layers. Each band shares the same georeferencing information with each other."
   ]
  },
  {
   "cell_type": "code",
   "execution_count": null,
   "metadata": {},
   "outputs": [],
   "source": [
    "dataset.count"
   ]
  },
  {
   "cell_type": "markdown",
   "metadata": {},
   "source": [
    "Or alternatively,"
   ]
  },
  {
   "cell_type": "code",
   "execution_count": null,
   "metadata": {},
   "outputs": [],
   "source": [
    "dataset.indexes"
   ]
  },
  {
   "cell_type": "markdown",
   "metadata": {},
   "source": [
    "If you see `(1,)` that means that there is only one band in the raster. `rasterio` starts counting from 1."
   ]
  },
  {
   "cell_type": "markdown",
   "metadata": {},
   "source": [
    "We can view the coordinate reference system (CRS) by"
   ]
  },
  {
   "cell_type": "code",
   "execution_count": null,
   "metadata": {},
   "outputs": [],
   "source": [
    "dataset.crs"
   ]
  },
  {
   "cell_type": "markdown",
   "metadata": {},
   "source": [
    "The output is EPSG 4326/WGS84: World Geodetic System 1984, commonly used in GPS. This maps a point on earth to a set of longitude, latitude coordinate (notice that epsg 4326 uses the order [lon, lat]). \n",
    "\n",
    "Next, we can check how many grid cells there are by"
   ]
  },
  {
   "cell_type": "code",
   "execution_count": null,
   "metadata": {},
   "outputs": [],
   "source": [
    "# Notice the sequence of height and width here!\n",
    "# This is a rasterio convention, which can be different from other packages\n",
    "dataset.shape"
   ]
  },
  {
   "cell_type": "code",
   "execution_count": null,
   "metadata": {},
   "outputs": [],
   "source": [
    "dataset.height, dataset.width"
   ]
  },
  {
   "cell_type": "markdown",
   "metadata": {},
   "source": [
    "See the bounds of the GeoTIFF: the coordinates of the pixels on the corners."
   ]
  },
  {
   "cell_type": "code",
   "execution_count": null,
   "metadata": {},
   "outputs": [],
   "source": [
    "dataset.bounds"
   ]
  },
  {
   "cell_type": "code",
   "execution_count": null,
   "metadata": {},
   "outputs": [],
   "source": [
    "# you can of course also view all the metadata\n",
    "dataset.meta"
   ]
  },
  {
   "cell_type": "markdown",
   "metadata": {},
   "source": [
    "`'nodata'` refers to a special value that rasterio uses to store NaN values. `'transform'` refers to six values that rasterio uses to record the scale and the position of the raster. This can be used to convert x, y coordinate (coord in the specified crs, e.g., in lon, lat) to i, j coordinate (row and col number on a raster, coord in image space)."
   ]
  },
  {
   "cell_type": "code",
   "execution_count": null,
   "metadata": {},
   "outputs": [],
   "source": [
    "# This converts x, y to row, col\n",
    "dataset.index(0, 0)"
   ]
  },
  {
   "cell_type": "code",
   "execution_count": null,
   "metadata": {},
   "outputs": [],
   "source": [
    "# This converts row, col to x, y\n",
    "dataset.xy(0, 0)"
   ]
  },
  {
   "cell_type": "markdown",
   "metadata": {},
   "source": [
    "<img src = \"Image/index_xy.png\" width = 500>"
   ]
  },
  {
   "cell_type": "code",
   "execution_count": null,
   "metadata": {},
   "outputs": [],
   "source": [
    "# What are the row and column indices of a particular coordinate?\n",
    "dataset.index(-120, 50)"
   ]
  },
  {
   "cell_type": "code",
   "execution_count": null,
   "metadata": {},
   "outputs": [],
   "source": [
    "# What are the coordinates of particular indices?\n",
    "print(dataset.xy(279, 120))\n",
    "print(dataset.xy(279, 119))\n",
    "print(dataset.xy(280, 120))"
   ]
  },
  {
   "cell_type": "markdown",
   "metadata": {},
   "source": [
    "When you `rasterio.open()` something, you are not actually reading the whole raster file. You are only reading the metadata. This is a really nice property because sometimes a geotiff file could be too large to fit into your memory, and rasterio lets you read only parts of that image."
   ]
  },
  {
   "cell_type": "markdown",
   "metadata": {},
   "source": [
    "### Raster data as numpy arrays\n",
    "\n",
    "Enough with the metadata, now we want to actually read the real data. For this we use the rasterio `read()` method, and specify what dimension or band we want to load."
   ]
  },
  {
   "cell_type": "code",
   "execution_count": null,
   "metadata": {},
   "outputs": [],
   "source": [
    "# Read the first dimension of the array (there's only one)\n",
    "band = dataset.read(1)"
   ]
  },
  {
   "cell_type": "markdown",
   "metadata": {},
   "source": [
    "This is now a numpy array that you can operate on. You can do any kind of map algebra as long as it doesn't change the georeferencing."
   ]
  },
  {
   "cell_type": "code",
   "execution_count": null,
   "metadata": {
    "scrolled": true
   },
   "outputs": [],
   "source": [
    "# How dows it look?\n",
    "band"
   ]
  },
  {
   "cell_type": "code",
   "execution_count": null,
   "metadata": {},
   "outputs": [],
   "source": [
    "# Define your color palette to use in your heat map\n",
    "nodes = [0, 0.5, 1]  # positions for each color from 0-1: 0 to vmin, 1 to vmax\n",
    "color_scheme = ['white', 'yellow', 'red']  # corresponds to nodes\n",
    "custom_cmap = LinearSegmentedColormap.from_list(\n",
    "    'custom_name', list(zip(nodes, color_scheme)))\n",
    "custom_cmap.set_under('gray')  # set values under vmin to gray\n",
    "custom_cmap.set_over('red')  # set values over vmax to red"
   ]
  },
  {
   "cell_type": "markdown",
   "metadata": {},
   "source": [
    "Now let's **plot the raster band array** using `imshow` from matplotlib."
   ]
  },
  {
   "cell_type": "code",
   "execution_count": null,
   "metadata": {},
   "outputs": [],
   "source": [
    "# Set up a figure environment\n",
    "fig, ax = plt.subplots(figsize=(10, 4))\n",
    "\n",
    "# Add a layer of showing the heat map\n",
    "ax.imshow(band, # Data\n",
    "          cmap = custom_cmap, # Color information\n",
    "          extent = (-180, 180, -90, 90), # x, y scale\n",
    "          vmin = 0, vmax = 50000) # set thresholds for extreme values\n",
    "plt.show()"
   ]
  },
  {
   "cell_type": "markdown",
   "metadata": {},
   "source": [
    "To add a **colorbar**, assign the ax.imshow to a data object."
   ]
  },
  {
   "cell_type": "code",
   "execution_count": null,
   "metadata": {},
   "outputs": [],
   "source": [
    "fig, ax = plt.subplots(figsize=(10, 4))\n",
    "\n",
    "# Assigning ax.imshow() to data object im\n",
    "# imshow method automatically add the heat map layer\n",
    "im = ax.imshow(band, # Data\n",
    "          cmap = custom_cmap, # Color information\n",
    "          extent = (-180, 180, -90, 90), # x, y scale\n",
    "          vmin = 0, vmax = 100000)\n",
    "fig.colorbar(im)\n",
    "ax.set_xlabel('Longitude')\n",
    "ax.set_ylabel('Latitude')\n",
    "ax.set_title('Population of the World (Source: CIESIN 2018)')\n",
    "plt.show()"
   ]
  },
  {
   "cell_type": "code",
   "execution_count": null,
   "metadata": {},
   "outputs": [],
   "source": [
    "# Zooming in by using set_xlim and set_ylim methods\n",
    "fig, ax = plt.subplots(figsize=(10, 4))\n",
    "\n",
    "im = ax.imshow(band, # Data\n",
    "          cmap = custom_cmap, # Color information\n",
    "          extent = (-180, 180, -90, 90), # x, y scale\n",
    "          vmin = 0, vmax = 100000)\n",
    "\n",
    "fig.colorbar(im)\n",
    "ax.set_xlabel('Longitude')\n",
    "ax.set_ylabel('Latitude')\n",
    "ax.set_title('Population of the World: Europe')\n",
    "\n",
    "ax.set_xlim((-20, 50))\n",
    "ax.set_ylim((30, 70))\n",
    "\n",
    "plt.show()"
   ]
  },
  {
   "cell_type": "code",
   "execution_count": null,
   "metadata": {},
   "outputs": [],
   "source": [
    "# Change the colors? \n",
    "\n",
    "nodes = [0, 0.33, 0.66, 1]  # positions for each color from 0-1\n",
    "color_scheme = ['bisque', 'yellow', 'olivedrab', 'navy']  # corresponds to nodes\n",
    "custom_cmap = LinearSegmentedColormap.from_list(\n",
    "    'custom_name', list(zip(nodes, color_scheme)))\n",
    "custom_cmap.set_under('gray')  # set values under vmin to gray\n",
    "custom_cmap.set_over('purple')  # set values over vmax to black\n",
    "\n",
    "fig, ax = plt.subplots(figsize=(10, 4))\n",
    "\n",
    "im = ax.imshow(band, # Data\n",
    "          cmap = custom_cmap, # Color information\n",
    "          extent = (-180, 180, -90, 90), # x, y scale\n",
    "          vmin = 0, vmax = 100000)\n",
    "\n",
    "fig.colorbar(im)\n",
    "ax.set_xlabel('Longitude')\n",
    "ax.set_ylabel('Latitude')\n",
    "ax.set_title('Population of the World: Europe')\n",
    "\n",
    "ax.set_xlim((-20, 50))\n",
    "ax.set_ylim((30, 70))\n",
    "\n",
    "plt.show()"
   ]
  },
  {
   "cell_type": "markdown",
   "metadata": {},
   "source": [
    "You can change colors as you want.\n",
    "\n",
    "<img src=\"Image/colors.png\" width = \"500\">\n",
    "[Link](https://matplotlib.org/3.3.2/gallery/color/named_colors.html)"
   ]
  },
  {
   "cell_type": "markdown",
   "metadata": {},
   "source": [
    "### Practicing map algebra\n",
    "\n",
    "Let's practice doing some map algebra by mapping log population density over the world.\n",
    "\n",
    "To do this, we will need\n",
    "* To figure out how large each grid cell is;\n",
    "* To assume that 1 degree of latitude is 111.11 km and that 1 degree of longitude at the equator is 111.11 km;\n",
    "* To create a lat-lon grid so that you can compute an array that is the same size as the original data set but where each element describes the area of the grid cell;\n",
    "* To use map algebra to convert $population$ to $population/area$ to $\\log_{10}(population/area)$, i.e. so a value of 1 indicates a density of 10 people per sq. km, 2 indicates a density of 100 people per sq. km, etc.\n",
    "\n",
    "First, let's make the grid. The resolution of the image is 15 arcminutes, or .25 degrees.\n",
    "The center of each pixel is therefore located $\\delta/2$ from the edge, so let's define two arrays representing the latitude and longitude of each pixel center (starting $\\delta/2$ from the edges of the image, which are -180 and 180 for longitude, and 90 and -90 for latitude).\n",
    "Then, we make a meshgrid of these points."
   ]
  },
  {
   "cell_type": "code",
   "execution_count": null,
   "metadata": {},
   "outputs": [],
   "source": [
    "delta = .25\n",
    "lons = np.arange(start=-179.875, stop=179.875 + delta, step=delta)\n",
    "# note the reversed direction of the step below, because we are going from north to south\n",
    "lats = np.arange(start=89.875, stop=-89.875 - delta, step=-delta)\n",
    "lon_grid, lat_grid = np.meshgrid(lons, lats)"
   ]
  },
  {
   "cell_type": "markdown",
   "metadata": {},
   "source": [
    "When we examined the numpy array `band` earlier, we saw many values of -3.402823e+38. This is how \"negative infinity\" is stored, and represents grid cell containing no individuals. We will have to change this before calculating population density.\n",
    "\n",
    "Now, on to the calculation!"
   ]
  },
  {
   "cell_type": "code",
   "execution_count": null,
   "metadata": {},
   "outputs": [],
   "source": [
    "# Latitude (y): 1 deg = 111.11 km\n",
    "# Longitude (x): 1 deg = 111.11 * cos(latitude in radian) km\n",
    "# Cell size is 0.25 degrees\n",
    "# Area = Ykm * Xkm\n",
    "area = (111.11 * .25) * (111.11 * .25 * np.cos(lat_grid / 180 * np.pi))\n",
    "# handle negative values\n",
    "band[band < 1e-1] = 1e-1\n",
    "log10_density = np.log10(band / area)"
   ]
  },
  {
   "cell_type": "code",
   "execution_count": null,
   "metadata": {},
   "outputs": [],
   "source": [
    "# Map it!\n",
    "fig, ax = plt.subplots(figsize=(10, 4))\n",
    "im = ax.imshow(log10_density, cmap=custom_cmap,\n",
    "               extent=(-180, 180, -90, 90),\n",
    "               vmin=0, vmax=3)\n",
    "fig.colorbar(im)\n",
    "# label axes and title\n",
    "ax.set_xlabel('Longitude')\n",
    "ax.set_ylabel('Latitude')\n",
    "ax.set_title('log10(Population Density) (Source: CIESIN 2018)')\n",
    "plt.show()"
   ]
  },
  {
   "cell_type": "markdown",
   "metadata": {},
   "source": [
    "# 2. Masking\n",
    "\n",
    "A useful operation with spatial data is masking. Masking allows you to hide or 'mask' or clip specific areas, to make a cleaner figure.\n",
    "\n",
    "Suppose we were interested in the population of Mexico, and wanted to only show population data for Mexico. \n",
    "\n",
    "We will first load a shapefile with the boundaries of Mexico, which we can then use as a mask for the population raster."
   ]
  },
  {
   "cell_type": "code",
   "execution_count": null,
   "metadata": {},
   "outputs": [],
   "source": [
    "# Load Mexico shp file\n",
    "mex = gpd.read_file('Data/MEX_adm0.shp')\n",
    "mex"
   ]
  },
  {
   "cell_type": "markdown",
   "metadata": {},
   "source": [
    "How can we erase the areas which are out of Mexico? With the `rasterio.mask.mask()` function, we can clip the raster with the shapefile."
   ]
  },
  {
   "cell_type": "code",
   "execution_count": null,
   "metadata": {},
   "outputs": [],
   "source": [
    "clipped_array, _ = rasterio.mask.mask(dataset, mex.geometry, nodata = -1)\n",
    "print(clipped_array.shape)"
   ]
  },
  {
   "cell_type": "code",
   "execution_count": null,
   "metadata": {},
   "outputs": [],
   "source": [
    "# Remove single-dimensional entries from the shape of an array.\n",
    "# using np.squeeze\n",
    "clipped_array = clipped_array.squeeze(axis = 0)\n",
    "print(clipped_array.shape)\n",
    "clipped_array"
   ]
  },
  {
   "cell_type": "code",
   "execution_count": null,
   "metadata": {},
   "outputs": [],
   "source": [
    "# Figuring out the right coordinates to zoom on Mexico\n",
    "mex.geometry[0].bounds"
   ]
  },
  {
   "cell_type": "code",
   "execution_count": null,
   "metadata": {
    "scrolled": true
   },
   "outputs": [],
   "source": [
    "# Plotting starts\n",
    "fig, ax = plt.subplots(figsize=(10, 4))\n",
    "im = ax.imshow(clipped_array, cmap=custom_cmap,\n",
    "               extent=(-180, 180, -90, 90),\n",
    "               vmin=0, vmax=100000)\n",
    "fig.colorbar(im)\n",
    "\n",
    "# Zoom in on Mexico using it coordinates\n",
    "ax.set_xlim((mex.geometry[0].bounds[0]-1, mex.geometry[0].bounds[2]+1))\n",
    "ax.set_ylim((mex.geometry[0].bounds[1]-1, mex.geometry[0].bounds[3]+1))\n",
    "\n",
    "# Label axes and title\n",
    "ax.set_xlabel('Longitude')\n",
    "ax.set_ylabel('Latitude')\n",
    "ax.set_title('Population in Mexico (Source: CIESIN 2018)')\n",
    "\n",
    "# Extra\n",
    "ax.fill(-110,15,color='bisque', label='Unpopulated')\n",
    "ax.legend(loc=3, fontsize=10)\n",
    "plt.show()"
   ]
  },
  {
   "cell_type": "markdown",
   "metadata": {},
   "source": [
    "### Affine transformations and masking\n",
    "\n",
    "Suppose we want to mask particular polygons. Let's work with a map for administrative units in France - regions.\n",
    "\n",
    "We can load and map these boundaries easily using `geopandas`."
   ]
  },
  {
   "cell_type": "code",
   "execution_count": null,
   "metadata": {},
   "outputs": [],
   "source": [
    "df = gpd.read_file('Data/gadm41_FRA_1.shp') \n",
    "\n",
    "fig, ax = plt.subplots(figsize=(7, 7))\n",
    "df.plot(ax=ax, color='white', edgecolor='black')\n",
    "ax.set_xlabel('Longitude')\n",
    "ax.set_ylabel('Latitude')\n",
    "ax.set_title('France')\n",
    "plt.show()"
   ]
  },
  {
   "cell_type": "markdown",
   "metadata": {},
   "source": [
    "How can we create a mask for one administrative unit?\n",
    "Previously, we created a mask using raterio.mask.mask:\n",
    "\n",
    "```\n",
    "band = rasterio.open('Data/GPW.tif').read(1)\n",
    "mex = gpd.read_file('Data/MEX_adm0.shp')\n",
    "clipped_array, _ = rasterio.mask.mask(dataset, mex.geometry, nodata = -1).squeeze(axis=0)\n",
    "\n",
    "```\n",
    "\n",
    "Now we do not have a `rasterio` file at the moment. We need to create a raster file first. \n",
    "More precisely, we need to convert the shape file of France regions (`df`) into a raster data. \n",
    "For doing this, we first need to distort the CRS file a bit. \n",
    "We need to convert the shape file with the longitude and the latitude into a raster file with many pixels. \n",
    "\n",
    "What we will utilize is `Affine` that divides the shape file by numerous pieces and fits it into a rectangular box."
   ]
  },
  {
   "cell_type": "code",
   "execution_count": null,
   "metadata": {},
   "outputs": [],
   "source": [
    "from rasterio.features import geometry_mask\n",
    "from affine import Affine"
   ]
  },
  {
   "cell_type": "code",
   "execution_count": null,
   "metadata": {
    "scrolled": true
   },
   "outputs": [],
   "source": [
    "help(Affine) # Focus on the 2-D transformations"
   ]
  },
  {
   "cell_type": "markdown",
   "metadata": {},
   "source": [
    "Fortunately, we do not need to memorize all the transformation types presented above. ```Affine``` function provides a more intuitive way of doing affine transformations. We focus on **the destination of the transformation**, not the departure. \n",
    "\n",
    "#### Introducing affine transformations to georeference rasters\n",
    "\n",
    "Affine(a, b, c, d, e, f)\n",
    "- a = width 'resolution' of a pixel\n",
    "- b = row rotation (typically zero) # \n",
    "- c = x-coordinate of the upper-left corner of the upper-left pixel\n",
    "- d = column rotation (typically zero)\n",
    "- e = height 'resolution' of a pixel (typically negative)\n",
    "- f = y-coordinate of the of the upper-left corner of the upper-left pixel\n",
    "##### see more in https://docs.geotools.org/latest/userguide/tutorial/affinetransform.html\n",
    "\n",
    "Let's move forward supposing we want pixels at a 0.1 degree resolution."
   ]
  },
  {
   "cell_type": "code",
   "execution_count": null,
   "metadata": {},
   "outputs": [],
   "source": [
    "# An easy way to get the extent of the whole area\n",
    "df['new_column'] = 0\n",
    "df_new = df.dissolve(by='new_column')\n",
    "df_new.bounds"
   ]
  },
  {
   "cell_type": "code",
   "execution_count": null,
   "metadata": {},
   "outputs": [],
   "source": [
    "xmin, ymin, xmax, ymax = -5.2, 41.2, 9.6, 51.2\n",
    "res = 0.1"
   ]
  },
  {
   "cell_type": "markdown",
   "metadata": {},
   "source": [
    "Now, we have a set of information regarding the 'destination' of our shape file. We further need the `geometry_mask` function."
   ]
  },
  {
   "cell_type": "code",
   "execution_count": null,
   "metadata": {
    "scrolled": true
   },
   "outputs": [],
   "source": [
    "help(geometry_mask)"
   ]
  },
  {
   "cell_type": "code",
   "execution_count": null,
   "metadata": {},
   "outputs": [],
   "source": [
    "masks = geometry_mask(\n",
    "        geometries = [df['geometry'][0]], # Geometry of the shape you want to analyze\n",
    "        out_shape=(int(np.round((ymax - ymin) / res)), # the number of `pixel-widths` in the y-axis\n",
    "                   int(np.round((xmax - xmin) / res))), # the number of `pixel-heights` in the x-axis\n",
    "        transform = Affine(res, 0, xmin, 0, -res, ymax), # Destination information\n",
    "        all_touched=True, # Including all the pixels if boundaries just 'touch' them\n",
    "        invert=True) # 1/0 inversion"
   ]
  },
  {
   "cell_type": "code",
   "execution_count": null,
   "metadata": {},
   "outputs": [],
   "source": [
    "df.shape"
   ]
  },
  {
   "cell_type": "code",
   "execution_count": null,
   "metadata": {},
   "outputs": [],
   "source": [
    "# How does it look when it is plotted?\n",
    "plt.imshow(masks, extent=(xmin, xmax, ymin, ymax))\n",
    "for i in range(13):\n",
    "    geom = df.loc[i, 'geometry']\n",
    "    # If it's a Polygon, just plot its exterior\n",
    "    if geom.geom_type == 'Polygon':\n",
    "        x, y = geom.exterior.xy\n",
    "        plt.plot(x, y, 'k-')\n",
    "    # If it's a MultiPolygon, iterate over each Polygon\n",
    "    elif geom.geom_type == 'MultiPolygon':\n",
    "        for poly in geom.geoms:  \n",
    "            x, y = poly.exterior.xy\n",
    "            plt.plot(x, y, 'k-')\n",
    "plt.show()"
   ]
  },
  {
   "cell_type": "markdown",
   "metadata": {},
   "source": [
    "# 3. Working with multidimensional data\n",
    "\n",
    "The GPW raster had only one band, but often we will be working with multidimensional raster data, where each pixel/point has multiple variables/pieces of information associated with it. \n",
    "\n",
    "We will review using `xarray`s as a useful way for working with raster data that can accommodate such rasters.\n",
    "\n",
    "First, we'll import the `xarray` package."
   ]
  },
  {
   "cell_type": "code",
   "execution_count": null,
   "metadata": {},
   "outputs": [],
   "source": [
    "import xarray as xr"
   ]
  },
  {
   "cell_type": "markdown",
   "metadata": {},
   "source": [
    "### Quick Overview of `xarray`\n",
    "\n",
    "<img src=\"Image/xarray.jpeg\" width = \"900\">\n",
    "\n",
    "`xarray` is a great tool for handling high dimensional arrays, for example meteorological/atmospheric data over time.\n",
    "\n",
    "- What is a high dimensional array? 3-D, 4-D, 5-D...\n",
    "- Why is it useful? To store dynamic fields.\n",
    "- A heuristic explanation: Tonnes of rasters in one data object\n",
    "    - In `rasterio`, each band has one static field. That means, one location, one number.\n",
    "    - In `xarray`, one data object can contain dynamic fields. That means, one location, many numbers or a lot of sets of information.\n",
    "\n",
    "#### Some useful links:\n",
    "- [Why do we want to use `xarray`?](http://xarray.pydata.org/en/stable/why-xarray.html)\n",
    "- [Core data structure](http://xarray.pydata.org/en/stable/why-xarray.html)\n",
    "- Two basic sorts of functionality:\n",
    "    - [Apply operations over dimensions](http://xarray.pydata.org/en/stable/computation.html)\n",
    "    - [Indexing](http://xarray.pydata.org/en/stable/indexing.html)\n",
    "    \n",
    "#### NetCDF4?\n",
    "NetCDF (network Common Data Form, or .nc) is a file format for storing multidimensional scientific data (variables) such as temperature, humidity, pressure, wind speed, and direction. \n",
    "\n",
    "Let's use `xarray` to open a multidimensional raster of rainfall data over time in Australia."
   ]
  },
  {
   "cell_type": "code",
   "execution_count": null,
   "metadata": {},
   "outputs": [],
   "source": [
    "ds = xr.open_dataset('Data/AustraliaRainfall.nc')"
   ]
  },
  {
   "cell_type": "code",
   "execution_count": null,
   "metadata": {},
   "outputs": [],
   "source": [
    "# Data Description\n",
    "ds"
   ]
  },
  {
   "cell_type": "markdown",
   "metadata": {},
   "source": [
    "What does this tell us?\n",
    "* Data are monthly rainfall in mm for 1970-2007.\n",
    "* The dataset has 4 dimensions that uniquely identify an observation (address): lat, lon, year, and month.\n",
    "* The variable defined for each observation is called `rainfall`.\n",
    "\n",
    "How many values does each dimension take?"
   ]
  },
  {
   "cell_type": "code",
   "execution_count": null,
   "metadata": {},
   "outputs": [],
   "source": [
    "# Dimensions (of addresses)\n",
    "ds.dims"
   ]
  },
  {
   "cell_type": "code",
   "execution_count": null,
   "metadata": {},
   "outputs": [],
   "source": [
    "# Checking the coordinates (or addresses)\n",
    "# Here, 'coords' are not restricted to indicating longitude and latitude.\n",
    "ds.coords"
   ]
  },
  {
   "cell_type": "code",
   "execution_count": null,
   "metadata": {},
   "outputs": [],
   "source": [
    "# Which datasets does ds have for each set of address?\n",
    "ds.data_vars"
   ]
  },
  {
   "cell_type": "code",
   "execution_count": null,
   "metadata": {},
   "outputs": [],
   "source": [
    "# Accessing the rainfall dataset\n",
    "ds['rainfall']"
   ]
  },
  {
   "cell_type": "code",
   "execution_count": null,
   "metadata": {
    "scrolled": true
   },
   "outputs": [],
   "source": [
    "# Accessing the rainfall values\n",
    "ds['rainfall'].values"
   ]
  },
  {
   "cell_type": "code",
   "execution_count": null,
   "metadata": {},
   "outputs": [],
   "source": [
    "# What is the shape of the rainfall values? This is a 4-dimensional object\n",
    "ds['rainfall'].values.shape"
   ]
  },
  {
   "cell_type": "code",
   "execution_count": null,
   "metadata": {},
   "outputs": [],
   "source": [
    "# The basic way of indexing. What does this mean?\n",
    "ds['rainfall'].values[:, :, 1, 5]"
   ]
  },
  {
   "cell_type": "code",
   "execution_count": null,
   "metadata": {},
   "outputs": [],
   "source": [
    "# Indexing based on sel method\n",
    "# This is the same as above! \n",
    "ds['rainfall'].sel(year = 1971, month = 6).values"
   ]
  },
  {
   "cell_type": "markdown",
   "metadata": {},
   "source": [
    "### Plotting multidimensional data\n",
    "\n",
    "Now let's plot these data. To start out, we'll plot the data in 2 dimensions. That means we'll have to restrict the data we are trying to plot.\n",
    "\n",
    "Let's restrict to a particular year and month to start."
   ]
  },
  {
   "cell_type": "code",
   "execution_count": null,
   "metadata": {},
   "outputs": [],
   "source": [
    "# Plotting with imshow\n",
    "plt.imshow(ds['rainfall'].sel(year = 1971, month = 6), origin = 'lower')\n",
    "# origin = 'upper' is the default. The value in the location (0, 0) to the left-top corner.\n",
    "# origin = 'lower' puts the value in the location (0, 0) to the left-bottom corner. \n",
    "plt.show()"
   ]
  },
  {
   "cell_type": "code",
   "execution_count": null,
   "metadata": {},
   "outputs": [],
   "source": [
    "# What's the difference between this and the figure using the imshow function?\n",
    "ds['rainfall'].sel(year=1971, month=6).plot();"
   ]
  },
  {
   "cell_type": "markdown",
   "metadata": {},
   "source": [
    "What if we wanted to plot **data over time**? We will need to restrict the space dimensions.\n",
    "\n",
    "For example, let's plot monthly rainfall for 2000 in an arbitrary location in Australia, and annual rainfall in April for the same location."
   ]
  },
  {
   "cell_type": "code",
   "execution_count": null,
   "metadata": {},
   "outputs": [],
   "source": [
    "fig, (ax0, ax1) = plt.subplots(ncols=2, figsize=(12, 4))\n",
    "ds['rainfall'].sel(year = 2000, lat = -27, lon = 135).plot(ax=ax0)\n",
    "ds['rainfall'].sel(month = 4, lat = -27, lon = 135).plot(ax=ax1);"
   ]
  },
  {
   "cell_type": "markdown",
   "metadata": {},
   "source": [
    "### Calculations with `xarray`\n",
    "\n",
    "`xarray` has a variety of methods we can use to perform calculations. For example, let's calculate mean rainfall for January across years."
   ]
  },
  {
   "cell_type": "code",
   "execution_count": null,
   "metadata": {},
   "outputs": [],
   "source": [
    "ds['rainfall'].sel(month = 1).mean(dim = 'year').plot()"
   ]
  },
  {
   "cell_type": "code",
   "execution_count": null,
   "metadata": {},
   "outputs": [],
   "source": [
    "# What is this plotting?\n",
    "ds['rainfall'].mean(dim = 'year').mean(dim = 'month').plot()"
   ]
  },
  {
   "cell_type": "code",
   "execution_count": null,
   "metadata": {},
   "outputs": [],
   "source": [
    "# What is this plotting?\n",
    "ds['rainfall'].sum(dim = 'month').mean(dim = 'year').plot()"
   ]
  },
  {
   "cell_type": "code",
   "execution_count": null,
   "metadata": {},
   "outputs": [],
   "source": [
    "fig, (ax1, ax4, ax8) = plt.subplots(ncols=3, figsize=(12, 3))\n",
    "ds['rainfall'].sel(month=1).mean(dim='year').plot(ax=ax1, vmax=200)\n",
    "ds['rainfall'].sel(month=4).mean(dim='year').plot(ax=ax4, vmax=200)\n",
    "ds['rainfall'].sel(month=8).mean(dim='year').plot(ax=ax8, vmax=200)\n",
    "plt.tight_layout()"
   ]
  },
  {
   "cell_type": "markdown",
   "metadata": {},
   "source": [
    "You can also create new variables to plot by using **map algebra**.\n",
    "\n",
    "For example, let's calculate how mean rainfall in January compares to mean rainfall in other months across time."
   ]
  },
  {
   "cell_type": "code",
   "execution_count": null,
   "metadata": {},
   "outputs": [],
   "source": [
    "# You can also create new variables to plot by using map algebra.\n",
    "jan_mean = ds['rainfall'].mean(dim='year').sel(month=1)\n",
    "month_mean = ds['rainfall'].mean(dim='month').mean(dim='year')\n",
    "((jan_mean - month_mean) / month_mean).plot(cmap='bwr')\n",
    "# Explore https://matplotlib.org/stable/users/explain/colors/colormaps.html"
   ]
  }
 ],
 "metadata": {
  "kernelspec": {
   "display_name": "Python 3 (ipykernel)",
   "language": "python",
   "name": "python3"
  },
  "language_info": {
   "codemirror_mode": {
    "name": "ipython",
    "version": 3
   },
   "file_extension": ".py",
   "mimetype": "text/x-python",
   "name": "python",
   "nbconvert_exporter": "python",
   "pygments_lexer": "ipython3",
   "version": "3.9.21"
  }
 },
 "nbformat": 4,
 "nbformat_minor": 4
}
