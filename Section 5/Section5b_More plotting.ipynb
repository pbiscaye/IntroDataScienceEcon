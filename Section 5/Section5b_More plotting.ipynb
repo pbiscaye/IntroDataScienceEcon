{
 "cells": [
  {
   "cell_type": "markdown",
   "id": "9e6f103b-c1ee-47d8-9f11-b300bc4b2704",
   "metadata": {},
   "source": [
    "# Section 5. Spatial Data - Color plots, 3D plots\n",
    "\n",
    "#### Instructor: Pierre Biscaye\n",
    "\n",
    "The content of this notebook draws on material from UC Berkeley's Spatial Data Analysis [course](https://docs.google.com/document/d/1oC10pjyeBQTenQazCpaB8Lx1b5PC1SR3WFiPgCtXqcs/edit?tab=t.0) notes by [Jaecheol Lee](https://sites.google.com/view/jaecheollee).\n",
    "\n",
    "### Learning Objectives \n",
    "    \n",
    "* Learn different ways of plotting spatial fields\n",
    "* Plotting spatial data with color and 3-D plots"
   ]
  },
  {
   "cell_type": "code",
   "execution_count": null,
   "id": "b21146d7-e39b-4fac-ab85-88a551338b95",
   "metadata": {},
   "outputs": [],
   "source": [
    "import pandas as pd\n",
    "import numpy as np\n",
    "import matplotlib.pyplot as plt\n",
    "import geopandas as gpd\n",
    "%matplotlib inline"
   ]
  },
  {
   "cell_type": "markdown",
   "id": "d0570d89-7c7b-4684-b24c-39dc5d072193",
   "metadata": {},
   "source": [
    "In many cases you will want to plot information over space, rather that just spatial objects. There are many ways to approach this.\n",
    "\n",
    "Here we will cover two ways: 3-D plots and colormaps."
   ]
  },
  {
   "cell_type": "code",
   "execution_count": null,
   "id": "c106162c-1711-401a-8646-e65e447dcb01",
   "metadata": {},
   "outputs": [],
   "source": [
    "# Import some libraries\n",
    "# for 3d plotting\n",
    "from mpl_toolkits.mplot3d import Axes3D\n",
    "# color\n",
    "from matplotlib.colors import LinearSegmentedColormap"
   ]
  },
  {
   "cell_type": "markdown",
   "id": "3f12c6c9-2143-4da3-86b6-684a8239a501",
   "metadata": {},
   "source": [
    "Like we did for the heatmap before, let's first define the space we want to examine by describing the axes. We define the axes by specifying their end points and the number of points in between. We describe the axes in each dimension as follows.\n",
    "\n",
    "Begin by defining the width of a grid, $\\delta$ (for simplicity, we'll just assume resolution is same in the x and y directions). \n",
    "\n",
    "Then using this parameter, we describe the axis in each dimension using a vector for each."
   ]
  },
  {
   "cell_type": "code",
   "execution_count": null,
   "id": "fbe0325c-e056-41ff-a94f-3bd3e11f39c4",
   "metadata": {},
   "outputs": [],
   "source": [
    "delta = 1\n",
    "x_axis = np.arange(start=-5, stop=5 + delta, step=delta)\n",
    "y_axis = np.arange(start=-5, stop=5 + delta, step=delta)"
   ]
  },
  {
   "cell_type": "markdown",
   "id": "71862f74-38e4-4f3c-972d-47f5b1014faa",
   "metadata": {},
   "source": [
    "These two vectors describe a space where there are grid points centered at 121 locations (draw a picture for yourself if you don’t know why). \n",
    "It’s easy to define functions over this space using map algebra. \n",
    "To do this, we construct two matrices, one that describes the location of each grid point in the x-dimension, \n",
    "and one that describes the locations of each grid point in the y-dimension. \n",
    "The command meshgrid takes as inputs the two vectors that define the space and outputs these two matrices."
   ]
  },
  {
   "cell_type": "code",
   "execution_count": null,
   "id": "e76b99c8-5ed9-40ec-a818-e4c956551962",
   "metadata": {},
   "outputs": [],
   "source": [
    "X_grid, Y_grid = np.meshgrid(x_axis, y_axis)\n",
    "X_grid"
   ]
  },
  {
   "cell_type": "code",
   "execution_count": null,
   "id": "6d4c8022-ceba-4d74-af9d-504f801150e3",
   "metadata": {},
   "outputs": [],
   "source": [
    "Y_grid"
   ]
  },
  {
   "cell_type": "markdown",
   "id": "001784ab-3d49-4c05-bff6-7d1dc8fb14fc",
   "metadata": {},
   "source": [
    "To avoid confusion, we usually refer to elements in a matrix using the indices (i, j) and we refer to the locations in 2D space using the coordinates (x, y) or (lon, lat).\n",
    "\n",
    "The two matrices `X_grid` and `Y_grid` are useful because we can do map algebra on them to generate new functions (fields) that are defined at each location in x and y. For example, start with a simple plane:"
   ]
  },
  {
   "cell_type": "code",
   "execution_count": null,
   "id": "fc0b6381-274d-41b2-bf1c-2e39c429573d",
   "metadata": {},
   "outputs": [],
   "source": [
    "Q_field = X_grid + 2 * Y_grid"
   ]
  },
  {
   "cell_type": "markdown",
   "id": "aa996e02-8eda-403a-abbc-fcc24549f588",
   "metadata": {},
   "source": [
    "### Plotting a field in a 3D plot.\n",
    "\n",
    "Let's visualize this field over space using a 3D plot."
   ]
  },
  {
   "cell_type": "code",
   "execution_count": null,
   "id": "feaf18df-315c-4c7e-adea-cda25d573158",
   "metadata": {},
   "outputs": [],
   "source": [
    "fig = plt.figure()\n",
    "# tell matplotlib our axes are three-dimensional\n",
    "ax = fig.add_subplot(1, 1, 1, projection='3d')\n",
    "# here we plot the surface\n",
    "ax.plot_surface(X_grid, Y_grid, Q_field)\n",
    "plt.show()"
   ]
  },
  {
   "cell_type": "markdown",
   "id": "002507fc-3f0d-4ebd-b9e5-660075501020",
   "metadata": {},
   "source": [
    "The height on the z-axis already tells us the values of the Q field. We can add color to make it easier to visualize.\n",
    "\n",
    "We can also spin the 3-D figure around by running the code below. Note that elev angles up/down, and azim rotates clockwise/counterclockwise.\n",
    "``` \n",
    "ax.view_init(elev=30, azim=-125)\n",
    "```"
   ]
  },
  {
   "cell_type": "code",
   "execution_count": null,
   "id": "58145911-4014-4278-8ff0-b0f457998b1f",
   "metadata": {},
   "outputs": [],
   "source": [
    "fig = plt.figure()\n",
    "# tell matplotlib our axes are three-dimensional\n",
    "# this is similar to a question in Lab 2\n",
    "ax = fig.add_subplot(1, 1, 1, projection='3d')\n",
    "# here we plot the surface\n",
    "ax.plot_surface(X_grid, Y_grid, Q_field, cmap='viridis')\n",
    "ax.set_xlabel('X')\n",
    "ax.set_ylabel('Y')\n",
    "ax.set_zlabel('Z')\n",
    "ax.view_init(elev=30, azim=-125)\n",
    "plt.show()"
   ]
  },
  {
   "cell_type": "markdown",
   "id": "628314f5-7430-40e7-95f4-5f767d6d0831",
   "metadata": {},
   "source": [
    "Let's define a new field and explore other types of 3-D figures.\n",
    "\n",
    "$$Z = 40 - 0.4X^2 + 2Y - 0.5Y^2$$\n",
    "\n",
    "There are very many possibilities!!"
   ]
  },
  {
   "cell_type": "code",
   "execution_count": null,
   "id": "2b2db6d0-9107-4ba1-bb5a-9d1697690d3f",
   "metadata": {},
   "outputs": [],
   "source": [
    "Z_field = 40 -0.4 * X_grid**2 + 2 * Y_grid - 0.5 * Y_grid**2\n",
    "\n",
    "fig = plt.figure(figsize=(10, 3))\n",
    "ax0 = fig.add_subplot(1, 3, 1, projection='3d')\n",
    "ax0.plot_wireframe(X_grid, Y_grid, Z_field, color='grey')\n",
    "ax1 = fig.add_subplot(1, 3, 2, projection='3d')\n",
    "ax1.plot_surface(X_grid, Y_grid, Z_field, cmap='bone')\n",
    "ax2 = fig.add_subplot(1, 3, 3, projection='3d')\n",
    "ax2.plot_trisurf(X_grid.flatten(),\n",
    "                 Y_grid.flatten(),\n",
    "                 Z_field.flatten(),\n",
    "                 cmap='bone')\n",
    "plt.show()"
   ]
  },
  {
   "cell_type": "markdown",
   "id": "380197ed-dfca-4ef6-941b-61247223e05d",
   "metadata": {},
   "source": [
    "### Plotting a field in 2D using imshow\n",
    "\n",
    "Most maps we produce are 2D, so it is useful to think of how to display data this way. `matplotlib` includes a function `imshow` which colors spatial data according to specified values."
   ]
  },
  {
   "cell_type": "code",
   "execution_count": null,
   "id": "7936ccc6-28d3-4e1f-bf62-b2658ce9a476",
   "metadata": {},
   "outputs": [],
   "source": [
    "fig, ax = plt.subplots(ncols=2)\n",
    "im = ax[0].imshow(Q_field, cmap='coolwarm')\n",
    "# ax tells colorbar() which subplot to plot on\n",
    "fig.colorbar(im, ax=ax[0])\n",
    "im = ax[1].imshow(Z_field, cmap='coolwarm')\n",
    "fig.colorbar(im, ax=ax[1])\n",
    "plt.show()"
   ]
  },
  {
   "cell_type": "markdown",
   "id": "a6c07734-9268-4fce-8cc4-abe016af0168",
   "metadata": {},
   "source": [
    "Examine your y-axis in the plot. Is it labeled correctly? What's wrong with it? Try the commands\n",
    "\n",
    "```python \n",
    "ax.set_xticklabels(x_axis)\n",
    "ax.set_yticklabels(y_axis)\n",
    "```\n",
    "\n",
    "What does passing the argument `origin='lower'` do to `ax.imshow()`?\n"
   ]
  },
  {
   "cell_type": "code",
   "execution_count": null,
   "id": "24faa65d-23b9-4252-83dc-29c1941f725c",
   "metadata": {},
   "outputs": [],
   "source": [
    "fig, ax = plt.subplots()\n",
    "im = ax.imshow(Q_field, cmap='coolwarm', origin='lower')\n",
    "ax.set_xlabel('X')\n",
    "ax.set_ylabel('Y')\n",
    "# show all ticks\n",
    "ax.set_xticks(np.arange(len(x_axis)))\n",
    "ax.set_yticks(np.arange(len(y_axis)))\n",
    "# set all tick labels\n",
    "ax.set_xticklabels(x_axis)\n",
    "ax.set_yticklabels(y_axis)\n",
    "fig.colorbar(im, ax=ax)\n",
    "plt.show()"
   ]
  },
  {
   "cell_type": "markdown",
   "id": "f7d42deb-e9dd-48a3-8447-ec9921eeeca9",
   "metadata": {},
   "source": [
    "There are many colormaps you can use, and you can also define your own."
   ]
  },
  {
   "cell_type": "code",
   "execution_count": null,
   "id": "e44a9b78-08d2-4d43-997e-f1d958987530",
   "metadata": {},
   "outputs": [],
   "source": [
    "from matplotlib.colors import LinearSegmentedColormap\n",
    "nodes = [0, 0.5, 1]  # positions for each color from 0-1: 0 to vmin, 1 to vmax\n",
    "color_scheme = ['white', 'yellow', 'red']  # corresponds to nodes\n",
    "custom_cmap = LinearSegmentedColormap.from_list(\n",
    "    'custom_name', list(zip(nodes, color_scheme)))\n",
    "custom_cmap.set_under('gray')  # set values under vmin to gray\n",
    "custom_cmap.set_over('red')  # set values over vmax to red"
   ]
  },
  {
   "cell_type": "code",
   "execution_count": null,
   "id": "2cdc7870-5478-4386-88e9-26e8ada330bd",
   "metadata": {},
   "outputs": [],
   "source": [
    "fig, axes = plt.subplots(ncols=2, figsize=(7, 3))\n",
    "# 0th subplot\n",
    "im = axes[0].imshow(Q_field, cmap=custom_cmap, origin='lower')\n",
    "plt.colorbar(im, ax=axes[0])\n",
    "# 1st subplot\n",
    "im = axes[1].imshow(Q_field, cmap='jet', origin='lower')\n",
    "plt.colorbar(im, ax=axes[1])\n",
    "# label all axes, title subplots, etc.\n",
    "for ax in axes:\n",
    "    ax.set_xlabel('X')\n",
    "    ax.set_ylabel('Y')\n",
    "    # this allows for rendering of latex math formula\n",
    "    ax.set_title('$Q = X + 2Y$')\n",
    "    # show all ticks\n",
    "    ax.set_xticks(np.arange(len(x_axis)))\n",
    "    ax.set_yticks(np.arange(len(y_axis)))\n",
    "    # set all tick labels\n",
    "    ax.set_xticklabels(x_axis)\n",
    "    ax.set_yticklabels(y_axis)\n",
    "plt.tight_layout()\n",
    "plt.show()"
   ]
  },
  {
   "cell_type": "markdown",
   "id": "2469ac18-9aaf-4c94-8109-946534d9908c",
   "metadata": {},
   "source": [
    "### Plotting in 2D using contour plots\n",
    "\n",
    "Let's display the Z field using a contour plot. There are two main contour-plotting commands, so we will do this on a two subplot figure."
   ]
  },
  {
   "cell_type": "code",
   "execution_count": null,
   "id": "4afaf110-3b03-498c-9ea4-79593a39cd3a",
   "metadata": {},
   "outputs": [],
   "source": [
    "fig, (ax0, ax1) = plt.subplots(ncols=2)\n",
    "ax0.contour(X_grid, Y_grid, Z_field, cmap='coolwarm')\n",
    "ax1.contourf(X_grid, Y_grid, Z_field, cmap='coolwarm')\n",
    "for ax in (ax0, ax1):\n",
    "    ax.set_xlabel('X')\n",
    "    ax.set_ylabel('Y')\n",
    "    # this allows for rendering of latex math formula\n",
    "    ax.set_title('$Z = 40 - 0.4X^2 + 2Y - 0.5Y^2$')\n",
    "plt.tight_layout()\n",
    "plt.show()"
   ]
  }
 ],
 "metadata": {
  "kernelspec": {
   "display_name": "Python 3 (ipykernel)",
   "language": "python",
   "name": "python3"
  },
  "language_info": {
   "codemirror_mode": {
    "name": "ipython",
    "version": 3
   },
   "file_extension": ".py",
   "mimetype": "text/x-python",
   "name": "python",
   "nbconvert_exporter": "python",
   "pygments_lexer": "ipython3",
   "version": "3.9.21"
  }
 },
 "nbformat": 4,
 "nbformat_minor": 5
}
